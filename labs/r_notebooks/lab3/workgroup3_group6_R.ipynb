{
 "cells": [
  {
   "cell_type": "markdown",
   "id": "1d20e936-8572-4fdc-969e-1c024294c29a",
   "metadata": {},
   "source": [
    "# 1. Neyman Orthogonality Proof"
   ]
  },
  {
   "cell_type": "markdown",
   "id": "a662aa8e-45ec-4661-b1c3-64c330e99753",
   "metadata": {},
   "source": [
    "## Given:\r\n",
    "1. $ y = \\alpha D + \\beta'W + \\epsilon $\r\n",
    "2. $ \\tilde{y} = y - X'W; \\quad \\tilde{D} = D - X_{n1.1}W $\r\n",
    "3. $ \\alpha = \\arg \\min_{\\alpha \\in \\mathbb{R}} E\\left[ (\\tilde{y} - \\alpha \\tilde{D}^2) \\right] = E[\\tilde{D}^2]^{-1} E[\\tilde{D} {y}] $\r\n",
    "\r\n",
    "## The objective is to prove:\r\n",
    "$ \\frac{d\\alpha}{d\\eta} = -\\left( \\frac{\\partial M}{\\partial \\alpha} (\\alpha, \\eta_0) \\right)^{-1} \\left( \\frac{\\partial M}{\\partial \\eta} (\\alpha, \\eta_0) \\right) $\r\n",
    "\r\n",
    "## Defining the Objective Function\r\n",
    "$ M(\\alpha, \\eta) = E\\left[ (\\tilde{y} - \\alpha \\tilde{D})^2 \\right] $\r\n",
    "\r\n",
    "## Setting the First-Order Condition (FOC) for the minimization problem\r\n",
    "$ \\frac{\\partial M}{\\partial \\alpha} = 2 E\\left[ (\\tilde{y} - \\alpha \\tilde{D})(-\\tilde{D}) \\right] = 0 $\r\n",
    "This simplifies to:\r\n",
    "$ E\\left[ \\tilde{D} (\\tilde{y} - \\alpha \\tilde{D}) \\right] = 0 $\r\n",
    "Solving for $\\alpha$:\r\n",
    "$ \\alpha = \\frac{E[\\tilde{D} \\tilde{y}]}{E[\\tilde{D}^2]} $\r\n",
    "\r\n",
    "## Implicit Function Theorem Application\r\n",
    "$ \\frac{d\\alpha}{d\\eta} = -\\left( \\frac{\\partial M}{\\partial \\alpha} \\right)^{-1} \\left( \\frac{\\partial M}{\\partial \\eta} \\right) $\r\n",
    "\r\n",
    "## Calculate Partial Derivatives\r\n",
    "\r\n",
    "**Partial Derivative with Respect to $\\alpha$**:\r\n",
    "$ \\frac{\\partial M}{\\partial \\alpha} = 2 E\\left[ \\tilde{D}^2 \\right] $\r\n",
    "Given that $ E[\\tilde{D} (\\tilde{y} - \\alpha \\tilde{D})] = 0 $, it follows that:\r\n",
    "$ \\frac{\\partial M}{\\partial \\alpha} = 2 E\\left[ \\tilde{D}^2 \\right] $\r\n",
    "\r\n",
    "**Partial Derivative with Respect to $\\eta$**:\r\n",
    "$ \\frac{\\partial M}{\\partial \\eta} = 2 E\\left[ (\\tilde{y} - \\alpha \\tilde{D})(-\\frac{\\partial \\tilde{D}}{\\partial \\eta}) \\right] $\r\n",
    "This simplifies to:\r\n",
    "$ \\frac{\\partial M}{\\partial \\eta} = -2 E\\left[ \\tilde{D} (\\tilde{y} - \\alpha \\tilde{D}) \\right] $\r\n",
    "\r\n",
    "## Combine the Results\r\n",
    "Using the implicit function theorem:\r\n",
    "$ \\frac{d\\alpha}{d\\eta} = -\\left( \\frac{\\partial M}{\\partial \\alpha} \\right)^{-1} \\left( \\frac{\\partial M}{\\partial \\eta} \\right) $\r\n",
    "Substituting the partial derivatives:\r\n",
    "$ \\frac{d\\alpha}{d\\eta} = -\\left( 2 E\\left[ \\tilde{D}^2 \\right] \\right)^{-1} \\left( -2 E\\left[ \\tilde{D} (\\tilde{y} - \\alpha \\tilde{D}) \\right] \\right) $\r\n",
    "Simplifies to:\r\n",
    "$ \\frac{d\\alpha}{d\\eta} = \\left( E\\left[ \\tilde{D}^2 \\right] \\right)^{-1} E\\left[ \\tilde{D} (\\tilde{y} - \\alpha \\tilde{D}) \\right] $\r\n",
    "\r\n",
    "Since $ E\\left[ \\tilde{D} (\\tilde{y} - \\alpha \\tilde{D}) \\right] = 0 $, we conclude:\r\n",
    "$ \\frac{d\\alpha}{d\\eta} = 0 $\r\n",
    "\r\n",
    "Thus, we have shown that $\\frac{d\\alpha}{d\\eta} = 0$, which implies that $ S_1 = 0 $ and $ S_2 = 0 $. \\( S_2 = 0 \\)._2 = 0 $.\r\n",
    "\r\n",
    "\r\n",
    "\r\n",
    "\r\n",
    "\r\n",
    "y defined as 0"
   ]
  },
  {
   "cell_type": "markdown",
   "id": "93cb3e31-1723-418f-8b17-fe4e07a0a35e",
   "metadata": {},
   "source": [
    "# 2. Code Section"
   ]
  },
  {
   "cell_type": "code",
   "execution_count": 1,
   "id": "10f7e500-42f4-48ea-a145-c51ac4228fce",
   "metadata": {},
   "outputs": [],
   "source": [
    "options(pkgType = \"binary\", repos = \"https://cran-archive.r-project.org/\")"
   ]
  },
  {
   "cell_type": "code",
   "execution_count": 2,
   "id": "0fe915ca-8df5-448e-89b7-39b163246080",
   "metadata": {},
   "outputs": [
    {
     "name": "stdout",
     "output_type": "stream",
     "text": [
      "package 'hdm' successfully unpacked and MD5 sums checked\n",
      "\n",
      "The downloaded binary packages are in\n",
      "\tC:\\Users\\user\\AppData\\Local\\Temp\\Rtmp4GjMHG\\downloaded_packages\n"
     ]
    },
    {
     "name": "stderr",
     "output_type": "stream",
     "text": [
      "Warning message:\n",
      "\"package 'parallel' is not available (as a binary package for R version 3.6.1)\"Warning message:\n",
      "\"package 'parallel' is a base package, and should not be updated\""
     ]
    },
    {
     "name": "stdout",
     "output_type": "stream",
     "text": [
      "package 'ggplot2' successfully unpacked and MD5 sums checked\n",
      "\n",
      "The downloaded binary packages are in\n",
      "\tC:\\Users\\user\\AppData\\Local\\Temp\\Rtmp4GjMHG\\downloaded_packages\n",
      "package 'foreach' successfully unpacked and MD5 sums checked\n",
      "\n",
      "The downloaded binary packages are in\n",
      "\tC:\\Users\\user\\AppData\\Local\\Temp\\Rtmp4GjMHG\\downloaded_packages\n",
      "package 'doParallel' successfully unpacked and MD5 sums checked\n",
      "\n",
      "The downloaded binary packages are in\n",
      "\tC:\\Users\\user\\AppData\\Local\\Temp\\Rtmp4GjMHG\\downloaded_packages\n",
      "package 'dplyr' successfully unpacked and MD5 sums checked\n",
      "\n",
      "The downloaded binary packages are in\n",
      "\tC:\\Users\\user\\AppData\\Local\\Temp\\Rtmp4GjMHG\\downloaded_packages\n",
      "package 'broom' successfully unpacked and MD5 sums checked\n",
      "\n",
      "The downloaded binary packages are in\n",
      "\tC:\\Users\\user\\AppData\\Local\\Temp\\Rtmp4GjMHG\\downloaded_packages\n"
     ]
    },
    {
     "name": "stderr",
     "output_type": "stream",
     "text": [
      "Warning message:\n",
      "\"package 'hdm' was built under R version 3.6.3\"Warning message:\n",
      "\"package 'ggplot2' was built under R version 3.6.3\"Warning message:\n",
      "\"package 'foreach' was built under R version 3.6.3\"Warning message:\n",
      "\"package 'doParallel' was built under R version 3.6.3\"Loading required package: iterators\n",
      "Warning message:\n",
      "\"package 'iterators' was built under R version 3.6.3\"Warning message:\n",
      "\"package 'dplyr' was built under R version 3.6.3\"\n",
      "Attaching package: 'dplyr'\n",
      "\n",
      "The following objects are masked from 'package:stats':\n",
      "\n",
      "    filter, lag\n",
      "\n",
      "The following objects are masked from 'package:base':\n",
      "\n",
      "    intersect, setdiff, setequal, union\n",
      "\n",
      "Warning message:\n",
      "\"package 'broom' was built under R version 3.6.3\""
     ]
    }
   ],
   "source": [
    "install.packages(\"hdm\")\n",
    "install.packages(\"parallel\")\n",
    "install.packages(\"ggplot2\")\n",
    "install.packages(\"foreach\")\n",
    "install.packages(\"doParallel\")\n",
    "install.packages(\"dplyr\")\n",
    "install.packages(\"broom\")\n",
    "\n",
    "library(hdm)\n",
    "library(parallel)\n",
    "library(ggplot2)\n",
    "library(foreach)\n",
    "library(doParallel)\n",
    "library(dplyr)\n",
    "library(broom)"
   ]
  },
  {
   "cell_type": "code",
   "execution_count": 3,
   "id": "4981369e-0086-4749-ab4f-6f8f3fdb50c5",
   "metadata": {},
   "outputs": [
    {
     "name": "stdout",
     "output_type": "stream",
     "text": [
      "package 'glmnet' successfully unpacked and MD5 sums checked\n",
      "\n",
      "The downloaded binary packages are in\n",
      "\tC:\\Users\\user\\AppData\\Local\\Temp\\Rtmp4GjMHG\\downloaded_packages\n"
     ]
    },
    {
     "name": "stderr",
     "output_type": "stream",
     "text": [
      "Warning message:\n",
      "\"package 'glmnet' was built under R version 3.6.3\"Loading required package: Matrix\n",
      "Warning message:\n",
      "\"package 'Matrix' was built under R version 3.6.3\"Loaded glmnet 4.1-1\n"
     ]
    }
   ],
   "source": [
    "install.packages(\"glmnet\")\n",
    "library(glmnet)"
   ]
  },
  {
   "cell_type": "markdown",
   "id": "42832556-9b3a-448e-bd4c-f393bf9ca553",
   "metadata": {},
   "source": [
    "## 2.1 Orthogonal Learning"
   ]
  },
  {
   "cell_type": "code",
   "execution_count": 4,
   "id": "255431ca-698f-4fa7-8036-cd156a6d3e6d",
   "metadata": {},
   "outputs": [],
   "source": [
    "gen_data <- function(n, d, p, delta, base, beta) {\n",
    "  X <- matrix(rnorm(n * d), nrow = n, ncol = d)\n",
    "  D <- rbinom(n, 1, p)\n",
    "  y <- 10 * D + beta * X[, 1] + rnorm(n)\n",
    "  return(list(y = y, D = D, X = X))\n",
    "}"
   ]
  },
  {
   "cell_type": "code",
   "execution_count": 5,
   "id": "f6712375-c8db-4410-adbd-42d70e9a93ce",
   "metadata": {},
   "outputs": [],
   "source": [
    "# Two Means Estimator\n",
    "twomeans <- function(y, D) {\n",
    "  hat0 <- mean(y[D == 0])\n",
    "  hat1 <- mean(y[D == 1])\n",
    "  V0 <- var(y[D == 0]) / mean(1 - D)\n",
    "  V1 <- var(y[D == 1]) / mean(D)\n",
    "  hat <- hat1 - hat0\n",
    "  stderr <- sqrt((V0 + V1) / length(y))\n",
    "  return(list(hat = hat, stderr = stderr))\n",
    "}"
   ]
  },
  {
   "cell_type": "code",
   "execution_count": 6,
   "id": "f73bb27d-2510-4841-bd22-b22baab6c5e5",
   "metadata": {},
   "outputs": [],
   "source": [
    "# Partialling out Estimator\n",
    "partialling_out <- function(y, D, W) {\n",
    "  yfit <- lm(y ~ W)\n",
    "  yhat <- predict(yfit, as.data.frame(W))\n",
    "  yres <- y - as.numeric(yhat)\n",
    "  Dfit <- lm(D ~ W)\n",
    "  Dhat <- predict(Dfit, as.data.frame(W))\n",
    "  Dres <- D - as.numeric(Dhat)\n",
    "  hat <- mean(yres * Dres) / mean(Dres^2)\n",
    "  epsilon <- yres - hat * Dres\n",
    "  V <- mean(epsilon^2 * Dres^2) / mean(Dres^2)^2\n",
    "  stderr <- sqrt(V / length(y))\n",
    "  return(list(hat = hat, stderr = stderr))\n",
    "}"
   ]
  },
  {
   "cell_type": "code",
   "execution_count": 7,
   "id": "90ce15fe-bae3-4185-91d8-adc698e752ac",
   "metadata": {},
   "outputs": [],
   "source": [
    "# Double Lasso Estimator\n",
    "\n",
    "double_lasso <- function(y, D, W) {\n",
    "  yfit.rlasso <- rlasso(W, y, post = FALSE)\n",
    "  yhat.rlasso <- predict(yfit.rlasso, as.data.frame(W))\n",
    "  yres <- y - as.numeric(yhat.rlasso)\n",
    "  Dfit.rlasso <- rlasso(W, D, post = FALSE)\n",
    "  Dhat.rlasso <- predict(Dfit.rlasso, as.data.frame(W))\n",
    "  Dres <- D - as.numeric(Dhat.rlasso)\n",
    "  hat <- mean(yres * Dres) / mean(Dres^2)\n",
    "  epsilon <- yres - hat * Dres\n",
    "  V <- mean(epsilon^2 * Dres^2) / mean(Dres^2)^2\n",
    "  stderr <- sqrt(V / length(y))\n",
    "  return(list(hat = hat, stderr = stderr))\n",
    "}"
   ]
  },
  {
   "cell_type": "code",
   "execution_count": 8,
   "id": "bb682d1f-291e-4f09-af8b-32fdc517e9ce",
   "metadata": {},
   "outputs": [],
   "source": [
    "# Parallel computing\n",
    "\n",
    "run_simulation <- function(B, n, d, delta, base, beta) {\n",
    "  n_experiments <- B\n",
    "  cov <- numeric(n_experiments)\n",
    "  hats <- numeric(n_experiments)\n",
    "  stderrs <- numeric(n_experiments)\n",
    "  \n",
    "  cl <- makeCluster(detectCores() - 1)\n",
    "  registerDoParallel(cl)\n",
    "  \n",
    "  clusterExport(cl, c(\"gen_data\", \"double_lasso\", \"n\", \"d\", \"delta\", \"base\", \"beta\"))\n",
    "  \n",
    "  results <- foreach(i = 1:n_experiments, .combine = rbind, .packages = c(\"hdm\", \"stats\")) %dopar% {\n",
    "    data <- gen_data(n, d, 0.2, delta, base, beta)\n",
    "    y <- data$y\n",
    "    D <- data$D\n",
    "    X <- data$X\n",
    "    results <- double_lasso(y, D, cbind(D * X, X))\n",
    "    hat <- results$hat\n",
    "    stderr <- results$stderr\n",
    "    ci_lower <- hat - 1.96 * stderr\n",
    "    ci_upper <- hat + 1.96 * stderr\n",
    "    coverage <- (ci_lower <= delta) & (delta <= ci_upper)\n",
    "    return(c(hat, stderr, coverage))\n",
    "  }\n",
    "  \n",
    "  stopCluster(cl)\n",
    "  \n",
    "  hats <- results[, 1]\n",
    "  stderrs <- results[, 2]\n",
    "  cov <- results[, 3]\n",
    "  \n",
    "  coverage_rate <- mean(cov)\n",
    "  \n",
    "  return(list(coverage_rate = coverage_rate, hats = hats, stderrs = stderrs))\n",
    "}"
   ]
  },
  {
   "cell_type": "code",
   "execution_count": 9,
   "id": "0bc5d18c-3371-4b5c-b448-a3fcf489263d",
   "metadata": {},
   "outputs": [],
   "source": [
    "# Simulation for different B values\n",
    "\n",
    "B_values <- c(100, 1000, 10000)\n",
    "n <- 100\n",
    "d <- 100\n",
    "delta <- 10\n",
    "base <- 0.3\n",
    "beta <- 0.5"
   ]
  },
  {
   "cell_type": "code",
   "execution_count": 22,
   "id": "fa90b49a-674b-4be1-add0-8e79402d3734",
   "metadata": {},
   "outputs": [
    {
     "ename": "ERROR",
     "evalue": "Error in checkForRemoteErrors(val): 3 nodes produced errors; first error: no se pudo encontrar la función \"makeCluster\"\n",
     "output_type": "error",
     "traceback": [
      "Error in checkForRemoteErrors(val): 3 nodes produced errors; first error: no se pudo encontrar la función \"makeCluster\"\nTraceback:\n",
      "1. parLapply(cl, B_values, function(B) {\n .     system.time(run_simulation(B, n, d, delta, base, beta))\n . })",
      "2. do.call(c, clusterApply(cl = cl, x = splitList(X, nchunks), fun = lapply, \n .     FUN = fun, ...), quote = TRUE)",
      "3. clusterApply(cl = cl, x = splitList(X, nchunks), fun = lapply, \n .     FUN = fun, ...)",
      "4. staticClusterApply(cl, fun, length(x), argfun)",
      "5. checkForRemoteErrors(val)",
      "6. stop(count, \" nodes produced errors; first error: \", firstmsg, \n .     domain = NA)"
     ]
    }
   ],
   "source": [
    "cl <- makeCluster(detectCores() - 1)\n",
    "registerDoParallel(cl)\n",
    "\n",
    "clusterExport(cl, c(\"run_simulation\", \"n\", \"d\", \"delta\", \"base\", \"beta\"))  \n",
    "results_list <- parLapply(cl, B_values, function(B) {\n",
    "  system.time(run_simulation(B, n, d, delta, base, beta))\n",
    "})"
   ]
  },
  {
   "cell_type": "code",
   "execution_count": 18,
   "id": "9c7c8d94-b776-4707-90b8-8d9dba2dacc6",
   "metadata": {},
   "outputs": [
    {
     "ename": "ERROR",
     "evalue": "Error in hist(results_list[[i]]$hats, main = paste(\"Distribution of Estimates for B =\", : objeto 'results_list' no encontrado\n",
     "output_type": "error",
     "traceback": [
      "Error in hist(results_list[[i]]$hats, main = paste(\"Distribution of Estimates for B =\", : objeto 'results_list' no encontrado\nTraceback:\n",
      "1. hist(results_list[[i]]$hats, main = paste(\"Distribution of Estimates for B =\", \n .     B_values[i]), xlab = \"Estimate\", col = \"skyblue\")"
     ]
    }
   ],
   "source": [
    "par(mfrow = c(3, 1))\n",
    "for (i in 1:length(B_values)) {\n",
    "  hist(results_list[[i]]$hats, \n",
    "       main = paste(\"Distribution of Estimates for B =\", B_values[i]),\n",
    "       xlab = \"Estimate\", col = \"skyblue\")\n",
    "}"
   ]
  },
  {
   "cell_type": "markdown",
   "id": "3a217b8c-44d4-4efd-9ee4-4bf9f2bc8a30",
   "metadata": {},
   "source": [
    "## Answer: \n",
    "Parallel computing can lead to lower running times since it divides the workload into smaller chunks that can be processed independently. Each chunk is assigned to a different processing unit, enabling parallel execution. This division of tasks reduces the overall time required to complete the computation compared to processing the entire workload on a single processor."
   ]
  },
  {
   "cell_type": "markdown",
   "id": "b79bdfff-f5ac-419e-852e-92a7cdf1ce6c",
   "metadata": {},
   "source": [
    "## 2.2 Double Lasso - using school data"
   ]
  },
  {
   "cell_type": "code",
   "execution_count": 2,
   "id": "63084c13-a0cd-4bf3-9f8d-ce17d1bf2f21",
   "metadata": {},
   "outputs": [
    {
     "data": {
      "text/html": [
       "<table>\n",
       "<thead><tr><th></th><th scope=col>outcome.test.score</th><th scope=col>treatment</th><th scope=col>school</th><th scope=col>is.female</th><th scope=col>mother.attended.secondary.school</th><th scope=col>father.attened.secondary.school</th><th scope=col>failed.at.least.one.school.year</th><th scope=col>family.receives.cash.transfer</th><th scope=col>has.computer.with.internet.at.home</th><th scope=col>is.unemployed</th><th scope=col>has.some.form.of.income</th><th scope=col>saves.money.for.future.purchases</th><th scope=col>intention.to.save.index</th><th scope=col>makes.list.of.expenses.every.month</th><th scope=col>negotiates.prices.or.payment.methods</th><th scope=col>financial.autonomy.index</th></tr></thead>\n",
       "<tbody>\n",
       "\t<tr><th scope=row>3</th><td>56.67166</td><td>1       </td><td>35002914</td><td>1       </td><td>1       </td><td>1       </td><td>0       </td><td>0       </td><td>0       </td><td>1       </td><td>0       </td><td>0       </td><td>48      </td><td>0       </td><td>1       </td><td>56      </td></tr>\n",
       "\t<tr><th scope=row>4</th><td>29.07938</td><td>0       </td><td>35908915</td><td>1       </td><td>0       </td><td>0       </td><td>0       </td><td>0       </td><td>0       </td><td>0       </td><td>0       </td><td>0       </td><td>42      </td><td>0       </td><td>0       </td><td>27      </td></tr>\n",
       "\t<tr><th scope=row>5</th><td>49.56353</td><td>1       </td><td>33047324</td><td>1       </td><td>0       </td><td>0       </td><td>0       </td><td>0       </td><td>1       </td><td>0       </td><td>1       </td><td>0       </td><td>50      </td><td>0       </td><td>1       </td><td>31      </td></tr>\n",
       "\t<tr><th scope=row>6</th><td>43.09943</td><td>0       </td><td>53012542</td><td>1       </td><td>0       </td><td>0       </td><td>0       </td><td>1       </td><td>1       </td><td>0       </td><td>1       </td><td>0       </td><td>93      </td><td>0       </td><td>1       </td><td>77      </td></tr>\n",
       "\t<tr><th scope=row>7</th><td>71.32960</td><td>0       </td><td>53006984</td><td>1       </td><td>1       </td><td>0       </td><td>0       </td><td>0       </td><td>1       </td><td>1       </td><td>1       </td><td>0       </td><td>52      </td><td>0       </td><td>1       </td><td>43      </td></tr>\n",
       "\t<tr><th scope=row>8</th><td>80.06344</td><td>0       </td><td>33049475</td><td>1       </td><td>1       </td><td>1       </td><td>0       </td><td>0       </td><td>0       </td><td>0       </td><td>1       </td><td>0       </td><td>50      </td><td>0       </td><td>0       </td><td>31      </td></tr>\n",
       "\t<tr><th scope=row>9</th><td>88.75163</td><td>1       </td><td>35925639</td><td>1       </td><td>1       </td><td>0       </td><td>0       </td><td>0       </td><td>0       </td><td>0       </td><td>0       </td><td>0       </td><td>59      </td><td>0       </td><td>1       </td><td>50      </td></tr>\n",
       "\t<tr><th scope=row>10</th><td>61.43614</td><td>1       </td><td>35008758</td><td>1       </td><td>0       </td><td>0       </td><td>0       </td><td>0       </td><td>1       </td><td>1       </td><td>1       </td><td>0       </td><td>44      </td><td>0       </td><td>1       </td><td>14      </td></tr>\n",
       "\t<tr><th scope=row>12</th><td>66.01345</td><td>0       </td><td>33024537</td><td>1       </td><td>0       </td><td>0       </td><td>0       </td><td>0       </td><td>1       </td><td>1       </td><td>1       </td><td>1       </td><td>60      </td><td>0       </td><td>1       </td><td>56      </td></tr>\n",
       "\t<tr><th scope=row>14</th><td>64.26411</td><td>1       </td><td>53011520</td><td>1       </td><td>0       </td><td>0       </td><td>1       </td><td>0       </td><td>0       </td><td>0       </td><td>0       </td><td>0       </td><td>47      </td><td>0       </td><td>1       </td><td>46      </td></tr>\n",
       "</tbody>\n",
       "</table>\n"
      ],
      "text/latex": [
       "\\begin{tabular}{r|llllllllllllllll}\n",
       "  & outcome.test.score & treatment & school & is.female & mother.attended.secondary.school & father.attened.secondary.school & failed.at.least.one.school.year & family.receives.cash.transfer & has.computer.with.internet.at.home & is.unemployed & has.some.form.of.income & saves.money.for.future.purchases & intention.to.save.index & makes.list.of.expenses.every.month & negotiates.prices.or.payment.methods & financial.autonomy.index\\\\\n",
       "\\hline\n",
       "\t3 & 56.67166 & 1        & 35002914 & 1        & 1        & 1        & 0        & 0        & 0        & 1        & 0        & 0        & 48       & 0        & 1        & 56      \\\\\n",
       "\t4 & 29.07938 & 0        & 35908915 & 1        & 0        & 0        & 0        & 0        & 0        & 0        & 0        & 0        & 42       & 0        & 0        & 27      \\\\\n",
       "\t5 & 49.56353 & 1        & 33047324 & 1        & 0        & 0        & 0        & 0        & 1        & 0        & 1        & 0        & 50       & 0        & 1        & 31      \\\\\n",
       "\t6 & 43.09943 & 0        & 53012542 & 1        & 0        & 0        & 0        & 1        & 1        & 0        & 1        & 0        & 93       & 0        & 1        & 77      \\\\\n",
       "\t7 & 71.32960 & 0        & 53006984 & 1        & 1        & 0        & 0        & 0        & 1        & 1        & 1        & 0        & 52       & 0        & 1        & 43      \\\\\n",
       "\t8 & 80.06344 & 0        & 33049475 & 1        & 1        & 1        & 0        & 0        & 0        & 0        & 1        & 0        & 50       & 0        & 0        & 31      \\\\\n",
       "\t9 & 88.75163 & 1        & 35925639 & 1        & 1        & 0        & 0        & 0        & 0        & 0        & 0        & 0        & 59       & 0        & 1        & 50      \\\\\n",
       "\t10 & 61.43614 & 1        & 35008758 & 1        & 0        & 0        & 0        & 0        & 1        & 1        & 1        & 0        & 44       & 0        & 1        & 14      \\\\\n",
       "\t12 & 66.01345 & 0        & 33024537 & 1        & 0        & 0        & 0        & 0        & 1        & 1        & 1        & 1        & 60       & 0        & 1        & 56      \\\\\n",
       "\t14 & 64.26411 & 1        & 53011520 & 1        & 0        & 0        & 1        & 0        & 0        & 0        & 0        & 0        & 47       & 0        & 1        & 46      \\\\\n",
       "\\end{tabular}\n"
      ],
      "text/markdown": [
       "\n",
       "| <!--/--> | outcome.test.score | treatment | school | is.female | mother.attended.secondary.school | father.attened.secondary.school | failed.at.least.one.school.year | family.receives.cash.transfer | has.computer.with.internet.at.home | is.unemployed | has.some.form.of.income | saves.money.for.future.purchases | intention.to.save.index | makes.list.of.expenses.every.month | negotiates.prices.or.payment.methods | financial.autonomy.index |\n",
       "|---|---|---|---|---|---|---|---|---|---|---|---|---|---|---|---|---|\n",
       "| 3 | 56.67166 | 1        | 35002914 | 1        | 1        | 1        | 0        | 0        | 0        | 1        | 0        | 0        | 48       | 0        | 1        | 56       |\n",
       "| 4 | 29.07938 | 0        | 35908915 | 1        | 0        | 0        | 0        | 0        | 0        | 0        | 0        | 0        | 42       | 0        | 0        | 27       |\n",
       "| 5 | 49.56353 | 1        | 33047324 | 1        | 0        | 0        | 0        | 0        | 1        | 0        | 1        | 0        | 50       | 0        | 1        | 31       |\n",
       "| 6 | 43.09943 | 0        | 53012542 | 1        | 0        | 0        | 0        | 1        | 1        | 0        | 1        | 0        | 93       | 0        | 1        | 77       |\n",
       "| 7 | 71.32960 | 0        | 53006984 | 1        | 1        | 0        | 0        | 0        | 1        | 1        | 1        | 0        | 52       | 0        | 1        | 43       |\n",
       "| 8 | 80.06344 | 0        | 33049475 | 1        | 1        | 1        | 0        | 0        | 0        | 0        | 1        | 0        | 50       | 0        | 0        | 31       |\n",
       "| 9 | 88.75163 | 1        | 35925639 | 1        | 1        | 0        | 0        | 0        | 0        | 0        | 0        | 0        | 59       | 0        | 1        | 50       |\n",
       "| 10 | 61.43614 | 1        | 35008758 | 1        | 0        | 0        | 0        | 0        | 1        | 1        | 1        | 0        | 44       | 0        | 1        | 14       |\n",
       "| 12 | 66.01345 | 0        | 33024537 | 1        | 0        | 0        | 0        | 0        | 1        | 1        | 1        | 1        | 60       | 0        | 1        | 56       |\n",
       "| 14 | 64.26411 | 1        | 53011520 | 1        | 0        | 0        | 1        | 0        | 0        | 0        | 0        | 0        | 47       | 0        | 1        | 46       |\n",
       "\n"
      ],
      "text/plain": [
       "   outcome.test.score treatment school   is.female\n",
       "3  56.67166           1         35002914 1        \n",
       "4  29.07938           0         35908915 1        \n",
       "5  49.56353           1         33047324 1        \n",
       "6  43.09943           0         53012542 1        \n",
       "7  71.32960           0         53006984 1        \n",
       "8  80.06344           0         33049475 1        \n",
       "9  88.75163           1         35925639 1        \n",
       "10 61.43614           1         35008758 1        \n",
       "12 66.01345           0         33024537 1        \n",
       "14 64.26411           1         53011520 1        \n",
       "   mother.attended.secondary.school father.attened.secondary.school\n",
       "3  1                                1                              \n",
       "4  0                                0                              \n",
       "5  0                                0                              \n",
       "6  0                                0                              \n",
       "7  1                                0                              \n",
       "8  1                                1                              \n",
       "9  1                                0                              \n",
       "10 0                                0                              \n",
       "12 0                                0                              \n",
       "14 0                                0                              \n",
       "   failed.at.least.one.school.year family.receives.cash.transfer\n",
       "3  0                               0                            \n",
       "4  0                               0                            \n",
       "5  0                               0                            \n",
       "6  0                               1                            \n",
       "7  0                               0                            \n",
       "8  0                               0                            \n",
       "9  0                               0                            \n",
       "10 0                               0                            \n",
       "12 0                               0                            \n",
       "14 1                               0                            \n",
       "   has.computer.with.internet.at.home is.unemployed has.some.form.of.income\n",
       "3  0                                  1             0                      \n",
       "4  0                                  0             0                      \n",
       "5  1                                  0             1                      \n",
       "6  1                                  0             1                      \n",
       "7  1                                  1             1                      \n",
       "8  0                                  0             1                      \n",
       "9  0                                  0             0                      \n",
       "10 1                                  1             1                      \n",
       "12 1                                  1             1                      \n",
       "14 0                                  0             0                      \n",
       "   saves.money.for.future.purchases intention.to.save.index\n",
       "3  0                                48                     \n",
       "4  0                                42                     \n",
       "5  0                                50                     \n",
       "6  0                                93                     \n",
       "7  0                                52                     \n",
       "8  0                                50                     \n",
       "9  0                                59                     \n",
       "10 0                                44                     \n",
       "12 1                                60                     \n",
       "14 0                                47                     \n",
       "   makes.list.of.expenses.every.month negotiates.prices.or.payment.methods\n",
       "3  0                                  1                                   \n",
       "4  0                                  0                                   \n",
       "5  0                                  1                                   \n",
       "6  0                                  1                                   \n",
       "7  0                                  1                                   \n",
       "8  0                                  0                                   \n",
       "9  0                                  1                                   \n",
       "10 0                                  1                                   \n",
       "12 0                                  1                                   \n",
       "14 0                                  1                                   \n",
       "   financial.autonomy.index\n",
       "3  56                      \n",
       "4  27                      \n",
       "5  31                      \n",
       "6  77                      \n",
       "7  43                      \n",
       "8  31                      \n",
       "9  50                      \n",
       "10 14                      \n",
       "12 56                      \n",
       "14 46                      "
      ]
     },
     "metadata": {},
     "output_type": "display_data"
    }
   ],
   "source": [
    "data <- read.csv(\"bruhn2016.csv\")\n",
    "data <- na.omit(data)\n",
    "head(data, 10)"
   ]
  },
  {
   "cell_type": "code",
   "execution_count": 3,
   "id": "2228e8f4-2954-4fb2-89bc-5031bfcb6f75",
   "metadata": {},
   "outputs": [],
   "source": [
    "names(data) <- gsub(\"\\\\.\", \"_\", names(data))\n",
    "\n",
    "x <- data[, !(names(data) %in% c(\"outcome_test_score\"))]\n",
    "y <- data$outcome_test_score"
   ]
  },
  {
   "cell_type": "code",
   "execution_count": 8,
   "id": "0bc1a5ac-1aa4-4159-9608-d893197d3723",
   "metadata": {},
   "outputs": [
    {
     "data": {
      "text/plain": [
       "\n",
       "Call:\n",
       "lm(formula = y ~ ., data = data.frame(y, x))\n",
       "\n",
       "Residuals:\n",
       "    Min      1Q  Median      3Q     Max \n",
       "-41.331  -9.411   0.421   9.595  45.906 \n",
       "\n",
       "Coefficients:\n",
       "                                       Estimate Std. Error t value Pr(>|t|)    \n",
       "(Intercept)                           5.191e+01  7.872e-01  65.938  < 2e-16 ***\n",
       "treatment                             4.291e+00  2.457e-01  17.459  < 2e-16 ***\n",
       "school                               -5.430e-08  1.623e-08  -3.345 0.000826 ***\n",
       "is_female                             2.665e+00  2.541e-01  10.488  < 2e-16 ***\n",
       "mother_attended_secondary_school      6.849e-01  2.867e-01   2.389 0.016927 *  \n",
       "father_attened_secondary_school       7.407e-01  2.898e-01   2.556 0.010601 *  \n",
       "failed_at_least_one_school_year      -5.858e+00  2.827e-01 -20.725  < 2e-16 ***\n",
       "family_receives_cash_transfer        -1.581e+00  2.761e-01  -5.725 1.06e-08 ***\n",
       "has_computer_with_internet_at_home   -2.147e-01  2.747e-01  -0.782 0.434381    \n",
       "is_unemployed                        -2.148e+00  2.938e-01  -7.312 2.80e-13 ***\n",
       "has_some_form_of_income               2.235e+00  2.825e-01   7.912 2.75e-15 ***\n",
       "saves_money_for_future_purchases     -1.104e-01  3.652e-01  -0.302 0.762381    \n",
       "intention_to_save_index               1.736e-01  7.198e-03  24.116  < 2e-16 ***\n",
       "makes_list_of_expenses_every_month   -1.731e+00  4.307e-01  -4.019 5.89e-05 ***\n",
       "negotiates_prices_or_payment_methods  3.689e-01  3.075e-01   1.200 0.230160    \n",
       "financial_autonomy_index             -3.723e-02  7.344e-03  -5.069 4.06e-07 ***\n",
       "---\n",
       "Signif. codes:  0 '***' 0.001 '**' 0.01 '*' 0.05 '.' 0.1 ' ' 1\n",
       "\n",
       "Residual standard error: 13.56 on 12206 degrees of freedom\n",
       "Multiple R-squared:  0.1365,\tAdjusted R-squared:  0.1355 \n",
       "F-statistic: 128.6 on 15 and 12206 DF,  p-value: < 2.2e-16\n"
      ]
     },
     "metadata": {},
     "output_type": "display_data"
    }
   ],
   "source": [
    "# Fit the OLS model\n",
    "ols_model <- lm(y ~ ., data = data.frame(y, x))\n",
    "\n",
    "# Get the main coefficient and its standard error\n",
    "ols_coef <- coef(summary(ols_model))\n",
    "treatment_ols_coef <- ols_coef[\"treatment\", \"Estimate\"]\n",
    "std_error <- ols_coef[\"treatment\", \"Std. Error\"]\n",
    "treatment_ols_ci_lower <- treatment_ols_coef - 1.96 * ols_coef[\"treatment\", \"Std. Error\"]\n",
    "treatment_ols_ci_upper <- treatment_ols_coef + 1.96 * ols_coef[\"treatment\", \"Std. Error\"]\n",
    "\n",
    "summary(ols_model)\n",
    "\n",
    "ols_results <- list(coef = ols_coef, std_error = std_error, lower_ci = treatment_ols_ci_lower, upper_ci = treatment_ols_ci_upper)"
   ]
  },
  {
   "cell_type": "code",
   "execution_count": 10,
   "id": "75d8ac73-b5d2-45a6-ada3-2bf6b9967a64",
   "metadata": {},
   "outputs": [
    {
     "name": "stdout",
     "output_type": "stream",
     "text": [
      "                                     Estimator.Estimate Estimator.Std..Error\n",
      "(Intercept)                                5.190746e+01         7.872108e-01\n",
      "treatment                                  4.290505e+00         2.457496e-01\n",
      "school                                    -5.429764e-08         1.623340e-08\n",
      "is_female                                  2.664799e+00         2.540707e-01\n",
      "mother_attended_secondary_school           6.848575e-01         2.867163e-01\n",
      "father_attened_secondary_school            7.406970e-01         2.897887e-01\n",
      "failed_at_least_one_school_year           -5.858304e+00         2.826700e-01\n",
      "family_receives_cash_transfer             -1.580694e+00         2.760917e-01\n",
      "has_computer_with_internet_at_home        -2.147292e-01         2.746803e-01\n",
      "is_unemployed                             -2.148296e+00         2.938031e-01\n",
      "has_some_form_of_income                    2.235208e+00         2.825041e-01\n",
      "saves_money_for_future_purchases          -1.104369e-01         3.652471e-01\n",
      "intention_to_save_index                    1.735822e-01         7.197924e-03\n",
      "makes_list_of_expenses_every_month        -1.730958e+00         4.307333e-01\n",
      "negotiates_prices_or_payment_methods       3.689482e-01         3.074549e-01\n",
      "financial_autonomy_index                  -3.722914e-02         7.344421e-03\n",
      "                                     Estimator.t.value Estimator.Pr...t..\n",
      "(Intercept)                                 65.9384580       0.000000e+00\n",
      "treatment                                   17.4588504       1.940124e-67\n",
      "school                                      -3.3448104       8.258692e-04\n",
      "is_female                                   10.4884125       1.254982e-25\n",
      "mother_attended_secondary_school             2.3886240       1.692670e-02\n",
      "father_attened_secondary_school              2.5559901       1.060062e-02\n",
      "failed_at_least_one_school_year            -20.7248863       8.437126e-94\n",
      "family_receives_cash_transfer               -5.7252506       1.057149e-08\n",
      "has_computer_with_internet_at_home          -0.7817421       4.343813e-01\n",
      "is_unemployed                               -7.3120268       2.795670e-13\n",
      "has_some_form_of_income                      7.9121263       2.747990e-15\n",
      "saves_money_for_future_purchases            -0.3023622       7.623811e-01\n",
      "intention_to_save_index                     24.1155961      1.447437e-125\n",
      "makes_list_of_expenses_every_month          -4.0186316       5.888847e-05\n",
      "negotiates_prices_or_payment_methods         1.2000077       2.301597e-01\n",
      "financial_autonomy_index                    -5.0690363       4.056910e-07\n",
      "                                     Std_Error Lower_CI Upper_CI\n",
      "(Intercept)                          0.2457496 3.808836 4.772174\n",
      "treatment                            0.2457496 3.808836 4.772174\n",
      "school                               0.2457496 3.808836 4.772174\n",
      "is_female                            0.2457496 3.808836 4.772174\n",
      "mother_attended_secondary_school     0.2457496 3.808836 4.772174\n",
      "father_attened_secondary_school      0.2457496 3.808836 4.772174\n",
      "failed_at_least_one_school_year      0.2457496 3.808836 4.772174\n",
      "family_receives_cash_transfer        0.2457496 3.808836 4.772174\n",
      "has_computer_with_internet_at_home   0.2457496 3.808836 4.772174\n",
      "is_unemployed                        0.2457496 3.808836 4.772174\n",
      "has_some_form_of_income              0.2457496 3.808836 4.772174\n",
      "saves_money_for_future_purchases     0.2457496 3.808836 4.772174\n",
      "intention_to_save_index              0.2457496 3.808836 4.772174\n",
      "makes_list_of_expenses_every_month   0.2457496 3.808836 4.772174\n",
      "negotiates_prices_or_payment_methods 0.2457496 3.808836 4.772174\n",
      "financial_autonomy_index             0.2457496 3.808836 4.772174\n"
     ]
    }
   ],
   "source": [
    "# Save the results\n",
    "ols_results <- data.frame(\n",
    "  Estimator = ols_coef,\n",
    "  Std_Error = std_error,\n",
    "  Lower_CI = treatment_ols_ci_lower,\n",
    "  Upper_CI = treatment_ols_ci_upper\n",
    ")\n",
    "\n",
    "# Print the results\n",
    "print(ols_results)"
   ]
  },
  {
   "cell_type": "code",
   "execution_count": 19,
   "id": "efb9b55f-9e4f-42cd-bd4e-d37ec26cf823",
   "metadata": {},
   "outputs": [
    {
     "ename": "ERROR",
     "evalue": "Error in cv.glmnet(as.matrix(x[train_idx, ]), y[train_idx], alpha = 1, : Need more than one value of lambda for cv.glmnet\n",
     "output_type": "error",
     "traceback": [
      "Error in cv.glmnet(as.matrix(x[train_idx, ]), y[train_idx], alpha = 1, : Need more than one value of lambda for cv.glmnet\nTraceback:\n",
      "1. cv.glmnet(as.matrix(x[train_idx, ]), y[train_idx], alpha = 1, \n .     lambda = lambda)",
      "2. stop(\"Need more than one value of lambda for cv.glmnet\")"
     ]
    }
   ],
   "source": [
    "# Perform cross-validation to find the best lambda\n",
    "n_folds <- 5\n",
    "n <- nrow(x)\n",
    "folds <- sample(1:n_folds, n, replace = TRUE)\n",
    "\n",
    "best_lambda <- 0\n",
    "best_cv_score <- Inf\n",
    "\n",
    "lambda_seq <- seq(0.1, 10, by = 0.1)  # Rango de valores lambda\n",
    "\n",
    "for (lambda in lambda_seq) {\n",
    "  cv_scores <- numeric(n_folds)\n",
    "  for (fold in 1:n_folds) {\n",
    "    train_idx <- which(folds != fold)\n",
    "    test_idx <- which(folds == fold)\n",
    "    \n",
    "    lasso_model <- cv.glmnet(as.matrix(x[train_idx, ]), y[train_idx], alpha = 1, lambda = lambda)\n",
    "    \n",
    "    predictions <- predict(lasso_model, newx = as.matrix(x[test_idx, ]))\n",
    "    cv_score <- mean((y[test_idx] - predictions)^2)\n",
    "    cv_scores[fold] <- cv_score\n",
    "  }\n",
    "  \n",
    "  mean_cv_score <- mean(cv_scores)\n",
    "  if (mean_cv_score < best_cv_score) {\n",
    "    best_cv_score <- mean_cv_score\n",
    "    best_lambda <- lambda\n",
    "  }\n",
    "}\n",
    "\n",
    "print(paste(\"Best Lambda:\", best_lambda))"
   ]
  },
  {
   "cell_type": "code",
   "execution_count": 20,
   "id": "1d90cf4a-a986-4455-9e72-516ce17ace20",
   "metadata": {},
   "outputs": [
    {
     "name": "stdout",
     "output_type": "stream",
     "text": [
      "     Method Estimator Std_Error  Lower_CI Upper_CI\n",
      "2.5%  LASSO  4.290498 0.1225869 -26.36989 25.15332\n"
     ]
    }
   ],
   "source": [
    "# Fit the LASSO model with the best lambda\n",
    "lasso_model <- glmnet(as.matrix(x), y, alpha = 1, lambda = best_lambda)\n",
    "\n",
    "# Get the main coefficient\n",
    "lasso_coef <- coef(lasso_model)[2]  # Treatment coefficient\n",
    "\n",
    "# Make predictions to calculate residuals\n",
    "predictions <- predict(lasso_model, newx = as.matrix(x))\n",
    "\n",
    "# Calculate residuals\n",
    "lasso_residuals <- y - predictions\n",
    "std_lasso <- sd(lasso_residuals) / sqrt(length(y))\n",
    "\n",
    "# Get the 95% confidence interval\n",
    "lasso_conf <- quantile(lasso_residuals, c(0.025, 0.975))\n",
    "\n",
    "# Save the results\n",
    "lasso_results <- data.frame(\n",
    "  Method = \"LASSO\",\n",
    "  Estimator = lasso_coef,\n",
    "  Std_Error = std_lasso,\n",
    "  Lower_CI = lasso_conf[1],\n",
    "  Upper_CI = lasso_conf[2]\n",
    ")\n",
    "\n",
    "# Print the results\n",
    "print(lasso_results)"
   ]
  },
  {
   "cell_type": "code",
   "execution_count": 25,
   "id": "e852fbc6-c73e-4580-81e3-c7033e3a25eb",
   "metadata": {},
   "outputs": [
    {
     "ename": "ERROR",
     "evalue": "Error in parse(text = x, srcfile = src): <text>:24:0: unexpected end of input\n22:   Upper_CI = dml_conf[2]\n23: )\n   ^\n",
     "output_type": "error",
     "traceback": [
      "Error in parse(text = x, srcfile = src): <text>:24:0: unexpected end of input\n22:   Upper_CI = dml_conf[2]\n23: )\n   ^\nTraceback:\n"
     ]
    }
   ],
   "source": [
    "# Using the Double LASSO with theoretical lambda\n",
    "library(hdm)\n",
    "\n",
    "dml <- rlassoEffect(as.matrix(x), y, as.matrix(x[, 1]), method = \"double selection\")\n",
    "dml_res <- summary(dml)\n",
    "\n",
    "if (!is.null(dml_res$coef) && !is.null(dml_res$se)) {\n",
    "  # Extract the main coefficient and its standard error\n",
    "  dml_coef <- dml_res$coef[2]\n",
    "  dml_std <- dml_res$se[2]\n",
    "\n",
    "# Calculate the 95% confidence interval\n",
    "z <- 1.96  # 95% confidence level\n",
    "dml_conf <- c(dml_coef - z * dml_std, dml_coef + z * dml_std)\n",
    "\n",
    "# Save the results\n",
    "dml_results <- data.frame(\n",
    "  Method = \"Double LASSO Theoretical Lambda\",\n",
    "  Estimator = dml_coef,\n",
    "  Std_Error = dml_std,\n",
    "  Lower_CI = dml_conf[1],\n",
    "  Upper_CI = dml_conf[2]\n",
    ")\n",
    "\n",
    "# Print the results\n",
    "print(dml_results)"
   ]
  },
  {
   "cell_type": "code",
   "execution_count": 28,
   "id": "f1a5ef80-e208-48f8-b1e3-66feef1d5105",
   "metadata": {},
   "outputs": [
    {
     "ename": "ERROR",
     "evalue": "Error in parse(text = x, srcfile = src): <text>:23:0: unexpected end of input\n21: # Print the results\n22: print(dml_partial_results)\n   ^\n",
     "output_type": "error",
     "traceback": [
      "Error in parse(text = x, srcfile = src): <text>:23:0: unexpected end of input\n21: # Print the results\n22: print(dml_partial_results)\n   ^\nTraceback:\n"
     ]
    }
   ],
   "source": [
    "# Using the Double LASSO with partialling out\n",
    "dml_partial <- rlassoEffect(as.matrix(x), y, as.matrix(x[, 1]), method = \"partialling out\")\n",
    "\n",
    "if (!is.null(dml_partial$coef) && !is.null(dml_partial$se)) {\n",
    "  # Extract the main coefficient and its standard error\n",
    "  dml_partial_coef <- dml_partial$coef[2]\n",
    "  dml_partial_std <- dml_partial$se[2]\n",
    "\n",
    "# Calculate the 95% confidence interval\n",
    "dml_partial_conf <- c(dml_partial_coef - z * dml_partial_std, dml_partial_coef + z * dml_partial_std)\n",
    "\n",
    "# Save the results\n",
    "dml_partial_results <- data.frame(\n",
    "  Method = \"Double LASSO Partialling Out\",\n",
    "  Estimator = dml_partial_coef,\n",
    "  Std_Error = dml_partial_std,\n",
    "  Lower_CI = dml_partial_conf[1],\n",
    "  Upper_CI = dml_partial_conf[2]\n",
    ")\n",
    "\n",
    "# Print the results\n",
    "print(dml_partial_results)"
   ]
  },
  {
   "cell_type": "code",
   "execution_count": 34,
   "id": "57a0d502-79d1-43c2-906f-7f0133c660d1",
   "metadata": {},
   "outputs": [
    {
     "ename": "ERROR",
     "evalue": "Error in eval(expr, envir, enclos): objeto 'Lower_CI' no encontrado\n",
     "output_type": "error",
     "traceback": [
      "Error in eval(expr, envir, enclos): objeto 'Lower_CI' no encontrado\nTraceback:\n"
     ]
    }
   ],
   "source": [
    "# Plot the results\n",
    "methods <- c(\"OLS\", \"Cross-Validation\", \"Theoretical Lambda\", \"Partialling Out\")\n",
    "coefficients <- c(ols_coef, lasso_coef, dml_coef, dml_partial_coef)\n",
    "lower_CI <- c(Lower_CI, lasso_conf[1], dml_conf[1], dml_partial_conf[1])\n",
    "upper_CI <- c(Upper_CI, lasso_conf[2], dml_conf[2], dml_partial_conf[2])\n",
    "\n",
    "plot(1:length(methods), coefficients, ylim = c(min(lower_CI), max(upper_CI)), ylab = \"Coefficient\", xlab = \"Method\", \n",
    "     main = \"Double LASSO Estimators and Confidence Intervals\", xaxt = \"n\", type = \"o\")\n",
    "axis(1, at = 1:length(methods), labels = methods)\n",
    "\n",
    "segments(1:length(methods), lower_CI, 1:length(methods), upper_CI)"
   ]
  }
 ],
 "metadata": {
  "kernelspec": {
   "display_name": "R",
   "language": "R",
   "name": "ir"
  },
  "language_info": {
   "codemirror_mode": "r",
   "file_extension": ".r",
   "mimetype": "text/x-r-source",
   "name": "R",
   "pygments_lexer": "r",
   "version": "3.6.1"
  }
 },
 "nbformat": 4,
 "nbformat_minor": 5
}
