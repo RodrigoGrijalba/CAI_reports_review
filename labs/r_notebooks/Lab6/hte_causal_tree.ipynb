{
 "cells": [
  {
   "cell_type": "markdown",
   "id": "c71700dc",
   "metadata": {},
   "source": [
    "# HTE I: Binary treatment"
   ]
  },
  {
   "cell_type": "markdown",
   "id": "be154cd7",
   "metadata": {},
   "source": [
    "## Experiment Description\n",
    "As a running example, in what follows we'll be using an abridged version of a public dataset from the General Social Survey (GSS) [(Smith, 2016)](https://gss.norc.org/Documents/reports/project-reports/GSSProject%20report32.pdf). The setting is a randomized control trial. Individuals were asked about their thoughts on government spending on the social safety net. The treatment is the wording of the question: about half of the individuals were asked if they thought government spends too much on \"welfare\" $(W_i = 1)$, while the remaining half was asked about \"assistance to the poor\" $(W_i = 0)$. The outcome is binary, with $Y_i = 1$ corresponding to a positive answer. In the data set below, we also collect a few other demographic covariates."
   ]
  },
  {
   "cell_type": "markdown",
   "id": "0fbbfc3f",
   "metadata": {},
   "source": [
    "## Analysis"
   ]
  },
  {
   "cell_type": "markdown",
   "id": "a7193f4a",
   "metadata": {},
   "source": [
    "Source RMD file: [link](https://docs.google.com/uc?export=download&id=1FSUi4WLfYYKnvWsNWypiQORhkqf5IlFP)\n",
    "\n",
    "In the previous chapter, we learned how to estimate the effect of a binary treatment averaged over the entire population. However, the average may obscure important details about how different individuals react to the treatment. In this chapter, we will learn how to estimate the **conditional average treatment effect (CATE)**,\n",
    "\\begin{equation}\n",
    "  \\tau(x) := E[Y_i(1) - Y_i(0) | X_i = x],\n",
    "\\end{equation}\n",
    "which is a \"localized\" version of the average treatment effect conditional on a vector of observable characteristics. \n",
    "\n",
    "It's often the case that \\@ref(eq:cate) is too general to be immediately useful, especially when the observable covariates are high-dimensional. It can be hard to estimate reliably without making strong modeling assumptions, and hard to summarize in a useful manner after estimation. In such situations, we will instead try to estimate treatment effect averages for simpler groups\n",
    "\\begin{equation}\n",
    "  E[Y_i(1) - Y_i(0) | G_i = g],\n",
    "\\end{equation}\n",
    "where $G_i$ indexes subgroups of interest. Below you'll learn how to estimate and test hypotheses about pre-defined subgroups, and also how to discover subgroups of interest from the data. In this tutorial, you will learn how to use estimates of \\@ref(eq:cate) to suggest relevant subgroups $G_i$ (and in the next chapters you will find out other uses of \\@ref(eq:cate) in policy learning and evaluation).\n",
    "\n",
    "We'll continue using the abridged version of the General Social Survey (GSS) [(Smith, 2016)](https://gss.norc.org/Documents/reports/project-reports/GSSProject%20report32.pdf) dataset that was introduced in the previous chapter. In this dataset, individuals were sent to treatment or control with equal probability, so we are in a randomized setting. However, many of the techniques and code shown below should also work in an observational setting provided that unconfoundedness and overlap are satisfied (these assumptions were defined in the previous chapter)."
   ]
  },
  {
   "cell_type": "code",
   "execution_count": 1,
   "id": "ae22439f",
   "metadata": {},
   "outputs": [
    {
     "name": "stderr",
     "output_type": "stream",
     "text": [
      "Loading required package: rpart\n",
      "\n",
      "Loading required package: rpart.plot\n",
      "\n",
      "Warning message:\n",
      "\"package 'rpart.plot' was built under R version 4.1.3\"\n",
      "Loading required package: data.table\n",
      "\n",
      "Warning message:\n",
      "\"package 'grf' was built under R version 4.1.3\"\n",
      "Warning message:\n",
      "\"package 'glmnet' was built under R version 4.1.3\"\n",
      "Loading required package: Matrix\n",
      "\n",
      "Loaded glmnet 4.1-3\n",
      "\n",
      "Loading required package: zoo\n",
      "\n",
      "\n",
      "Attaching package: 'zoo'\n",
      "\n",
      "\n",
      "The following objects are masked from 'package:base':\n",
      "\n",
      "    as.Date, as.Date.numeric\n",
      "\n",
      "\n"
     ]
    }
   ],
   "source": [
    "# The causalTree package is not in CRAN, the most common R repository.\n",
    "# To install it, uncomment the next lines as appropriate.\n",
    "# install.packages(\"devtools\")  # if you don't have this installed yet.\n",
    "# devtools::install_github('susanathey/causalTree') \n",
    "library(causalTree)\n",
    "\n",
    "# use e.g., install.packages(\"grf\") to install any of the following packages.\n",
    "library(grf)\n",
    "library(rpart)\n",
    "library(glmnet)\n",
    "library(splines)\n",
    "library(MASS)\n",
    "library(lmtest)\n",
    "library(sandwich)\n",
    "library(ggplot2)"
   ]
  },
  {
   "cell_type": "markdown",
   "id": "e91f579e",
   "metadata": {},
   "source": [
    "As with other chapters in this tutorial, the code below should still work by replacing the next snippet of code with a different dataset, provided that you update the key variables `treatment`, `outcome`, and `covariates` below. Also, please make sure to read the comments as they may be subtle differences depending on whether your dataset was created in a randomized or observational setting."
   ]
  },
  {
   "cell_type": "code",
   "execution_count": 2,
   "id": "359f1352",
   "metadata": {},
   "outputs": [],
   "source": [
    "# Read in data\n",
    "data <- read.csv(\"https://docs.google.com/uc?id=1kSxrVci_EUcSr_Lg1JKk1l7Xd5I9zfRC&export=download\")\n",
    "n <- nrow(data)\n",
    "\n",
    "# Treatment: does the the gov't spend too much on \"welfare\" (1) or \"assistance to the poor\" (0)\n",
    "treatment <- \"w\"\n",
    "\n",
    "# Outcome: 1 for 'yes', 0 for 'no'\n",
    "outcome <- \"y\"\n",
    "\n",
    "# Additional covariates\n",
    "covariates <- c(\"age\", \"polviews\", \"income\", \"educ\", \"marital\", \"sex\")"
   ]
  },
  {
   "cell_type": "markdown",
   "id": "a56b92a4",
   "metadata": {},
   "source": [
    "## Pre-specified hypotheses\n",
    "\n",
    "We will begin by learning how to test pre-specified null hypotheses of the form\n",
    "\\begin{equation} \n",
    "\\label{eq:1}\n",
    "H_{0}: E[Y(1) - Y(0) | G_i = 1] = E[Y(1) - Y(0) | G_i = 0] \n",
    "\\end{equation}\n",
    "\n",
    "That is, that the treatment effect is the same regardless of membership to some group\n",
    "$G_i$. Importantly, for now we’ll assume that the group $G_i$ was **pre-specified** -- it was decided _before_ looking at the data.\n",
    "\n",
    "In a randomized setting, if the both the treatment  $W_i$ and group membership $G_i$ are binary, we can write\n",
    "\\begin{equation}\n",
    "  E[Y_i(W_i)|G_i] = E[Y_i|W_i, G_i] = \\beta_0 + \\beta_w W_i + \\beta_g G_i + \\beta_{wg} W_i G_i\n",
    "\\end{equation}\n",
    "\n",
    "<font size=1>\n",
    "When $W_i$ and $G_i$ are binary, this decomposition is true without loss of generality. Why?\n",
    "</font>\n",
    "\n",
    "This allows us to write the average effects of $W_i$ and $G_i$ on $Y_i$ as\n",
    "\\begin{equation}\n",
    "  \\begin{aligned}\n",
    "    E[Y(1) | G_i=1] &= \\beta_0 + \\beta_w W_i + \\beta_g G_i + \\beta_{wg} W_i G_i, \\\\\n",
    "    E[Y(1) | G_i=0] &= \\beta_0 + \\beta_w W_i,  \\\\\n",
    "    E[Y(0) | G_i=1] &= \\beta_0 + \\beta_g G_i,  \\\\\n",
    "    E[Y(0) | G_i=0] &= \\beta_0.\n",
    "  \\end{aligned}\n",
    "\\end{equation}\n",
    "\n",
    "Rewriting the null hypothesis \\ref{eq:1} in terms of the decomposition \\@ref(eq:decomp), we see that it boils down to a test about the coefficient in the interaction: $\\beta_{xw} = 0$. Here’s an example that tests whether the treatment effect is the same for \"conservative\" (`polviews` < 4) and \"liberal\" (`polviews` $\\geq$ 4) individuals."
   ]
  },
  {
   "cell_type": "code",
   "execution_count": 3,
   "id": "83ddb686",
   "metadata": {},
   "outputs": [
    {
     "data": {
      "text/plain": [
       "\n",
       "t test of coefficients:\n",
       "\n",
       "                     Estimate Std. Error t value  Pr(>|t|)    \n",
       "(Intercept)         0.4836473  0.0050842  95.127 < 2.2e-16 ***\n",
       "w                  -0.3789182  0.0058604 -64.657 < 2.2e-16 ***\n",
       "conservativeTRUE   -0.1590214  0.0092479 -17.195 < 2.2e-16 ***\n",
       "w:conservativeTRUE  0.1160034  0.0103710  11.185 < 2.2e-16 ***\n",
       "---\n",
       "Signif. codes:  0 '***' 0.001 '**' 0.01 '*' 0.05 '.' 0.1 ' ' 1\n"
      ]
     },
     "metadata": {},
     "output_type": "display_data"
    }
   ],
   "source": [
    "# Only valid in randomized settings\n",
    "\n",
    "# Suppose this his group was defined prior to collecting the data\n",
    "data$conservative <- factor(data$polviews < 4)  # a binary group\n",
    "group <- 'conservative'\n",
    "\n",
    "# Recall from last chapter -- this is equivalent to running a t-test\n",
    "fmla <- formula(paste(outcome, ' ~ ', treatment, '*', group))\n",
    "ols <- lm(fmla, data=data)\n",
    "coeftest(ols, vcov=vcovHC(ols, type='HC2'))"
   ]
  },
  {
   "cell_type": "markdown",
   "id": "314adbd9",
   "metadata": {},
   "source": [
    "<font size=1>\n",
    "Interpret the results above. The coefficient $\\beta_{xw}$ is denoted by `w:conservativeTRUE`. Can we detect a difference in treatment effect for conservative vs liberal individuals? For whom is the effect larger?\n",
    "</font>\n",
    "\n",
    "Sometimes there are many subgroups, leading to multiple hypotheses such as\n",
    "\\begin{equation}\n",
    "(\\#eq:mult-hyp)\n",
    "H_0: \\E[Y(1) - Y(0) \\ | \\  G_i = 1] = \\E[Y(1) - Y(0) \\ | \\  G_i = g]\n",
    "\\qquad\n",
    "\\text{for many values of }g.\n",
    "\\end{equation}\n",
    "\n",
    "In that case, we need to correct for the fact that we are testing for multiple hypotheses, or we will end up with many false positives. The **Bonferroni correction** [(wiki)](https://en.wikipedia.org/wiki/Bonferroni_correction) is a common method for dealing with multiple hypothesis testing, though it is often too conservative to be useful. It is available via the function `p.adjust` from base `R`. The next snippet of code tests whether the treatment effect at each level of `polviews` is different from the treatment effect from `polviews` equals one."
   ]
  },
  {
   "cell_type": "code",
   "execution_count": 41,
   "id": "1000517f",
   "metadata": {},
   "outputs": [],
   "source": [
    "# Only valid in randomized setting.\n",
    "\n",
    "# Example: these groups must be defined prior to collecting the data.\n",
    "group <- 'polviews'\n",
    "\n",
    "# Linear regression.\n",
    "fmla <- formula(paste(outcome, ' ~ ', treatment, '*', 'factor(', group, ')'))\n",
    "ols <- lm(fmla, data=data)\n",
    "ols.res <- coeftest(ols, vcov=vcovHC(ols, type='HC2'))\n",
    "\n",
    "# Retrieve the interaction coefficients\n",
    "interact <- which(sapply(names(coef(ols)), function(x) grepl(\"w:\", x)))"
   ]
  },
  {
   "cell_type": "code",
   "execution_count": 42,
   "id": "3ac3e903",
   "metadata": {},
   "outputs": [
    {
     "data": {
      "text/plain": [
       "\n",
       "t test of coefficients:\n",
       "\n",
       "                     Estimate Std. Error t value  Pr(>|t|)    \n",
       "(Intercept)          0.273159   0.021742 12.5636 < 2.2e-16 ***\n",
       "w                   -0.225426   0.024114 -9.3485 < 2.2e-16 ***\n",
       "factor(polviews)2    0.035270   0.024678  1.4292  0.152960    \n",
       "factor(polviews)3    0.079329   0.024658  3.2172  0.001296 ** \n",
       "factor(polviews)4    0.159909   0.022839  7.0014 2.590e-12 ***\n",
       "factor(polviews)5    0.222424   0.024269  9.1649 < 2.2e-16 ***\n",
       "factor(polviews)6    0.292142   0.024315 12.0150 < 2.2e-16 ***\n",
       "factor(polviews)7    0.351841   0.032210 10.9234 < 2.2e-16 ***\n",
       "w:factor(polviews)2 -0.024242   0.027337 -0.8868  0.375206    \n",
       "w:factor(polviews)3 -0.059623   0.027357 -2.1794  0.029308 *  \n",
       "w:factor(polviews)4 -0.134614   0.025340 -5.3123 1.091e-07 ***\n",
       "w:factor(polviews)5 -0.164915   0.027135 -6.0776 1.236e-09 ***\n",
       "w:factor(polviews)6 -0.180079   0.027514 -6.5449 6.053e-11 ***\n",
       "w:factor(polviews)7 -0.186184   0.038706 -4.8103 1.515e-06 ***\n",
       "---\n",
       "Signif. codes:  0 '***' 0.001 '**' 0.01 '*' 0.05 '.' 0.1 ' ' 1\n"
      ]
     },
     "metadata": {},
     "output_type": "display_data"
    }
   ],
   "source": [
    "ols.res "
   ]
  },
  {
   "cell_type": "code",
   "execution_count": 6,
   "id": "356f4612",
   "metadata": {},
   "outputs": [
    {
     "data": {
      "text/html": [
       "<style>\n",
       ".dl-inline {width: auto; margin:0; padding: 0}\n",
       ".dl-inline>dt, .dl-inline>dd {float: none; width: auto; display: inline-block}\n",
       ".dl-inline>dt::after {content: \":\\0020\"; padding-right: .5ex}\n",
       ".dl-inline>dt:not(:first-of-type) {padding-left: .5ex}\n",
       "</style><dl class=dl-inline><dt>w:factor(polviews)2</dt><dd>9</dd><dt>w:factor(polviews)3</dt><dd>10</dd><dt>w:factor(polviews)4</dt><dd>11</dd><dt>w:factor(polviews)5</dt><dd>12</dd><dt>w:factor(polviews)6</dt><dd>13</dd><dt>w:factor(polviews)7</dt><dd>14</dd></dl>\n"
      ],
      "text/latex": [
       "\\begin{description*}\n",
       "\\item[w:factor(polviews)2] 9\n",
       "\\item[w:factor(polviews)3] 10\n",
       "\\item[w:factor(polviews)4] 11\n",
       "\\item[w:factor(polviews)5] 12\n",
       "\\item[w:factor(polviews)6] 13\n",
       "\\item[w:factor(polviews)7] 14\n",
       "\\end{description*}\n"
      ],
      "text/markdown": [
       "w:factor(polviews)2\n",
       ":   9w:factor(polviews)3\n",
       ":   10w:factor(polviews)4\n",
       ":   11w:factor(polviews)5\n",
       ":   12w:factor(polviews)6\n",
       ":   13w:factor(polviews)7\n",
       ":   14\n",
       "\n"
      ],
      "text/plain": [
       "w:factor(polviews)2 w:factor(polviews)3 w:factor(polviews)4 w:factor(polviews)5 \n",
       "                  9                  10                  11                  12 \n",
       "w:factor(polviews)6 w:factor(polviews)7 \n",
       "                 13                  14 "
      ]
     },
     "metadata": {},
     "output_type": "display_data"
    }
   ],
   "source": [
    "interact"
   ]
  },
  {
   "cell_type": "code",
   "execution_count": 43,
   "id": "e6b6bc5a",
   "metadata": {},
   "outputs": [
    {
     "data": {
      "text/html": [
       "<table class=\"dataframe\">\n",
       "<caption>A data.frame: 6 × 4</caption>\n",
       "<thead>\n",
       "\t<tr><th></th><th scope=col>estimate</th><th scope=col>std.err</th><th scope=col>unadj.p.value</th><th scope=col>adj.p.value</th></tr>\n",
       "\t<tr><th></th><th scope=col>&lt;dbl&gt;</th><th scope=col>&lt;dbl&gt;</th><th scope=col>&lt;dbl&gt;</th><th scope=col>&lt;dbl&gt;</th></tr>\n",
       "</thead>\n",
       "<tbody>\n",
       "\t<tr><th scope=row>w:factor(polviews)2</th><td>-0.02424199</td><td>0.02733714</td><td>3.752056e-01</td><td>1.000000e+00</td></tr>\n",
       "\t<tr><th scope=row>w:factor(polviews)3</th><td>-0.05962335</td><td>0.02735735</td><td>2.930808e-02</td><td>1.758485e-01</td></tr>\n",
       "\t<tr><th scope=row>w:factor(polviews)4</th><td>-0.13461439</td><td>0.02534022</td><td>1.090684e-07</td><td>6.544105e-07</td></tr>\n",
       "\t<tr><th scope=row>w:factor(polviews)5</th><td>-0.16491540</td><td>0.02713505</td><td>1.235505e-09</td><td>7.413027e-09</td></tr>\n",
       "\t<tr><th scope=row>w:factor(polviews)6</th><td>-0.18007875</td><td>0.02751422</td><td>6.052625e-11</td><td>3.631575e-10</td></tr>\n",
       "\t<tr><th scope=row>w:factor(polviews)7</th><td>-0.18618443</td><td>0.03870554</td><td>1.514861e-06</td><td>9.089164e-06</td></tr>\n",
       "</tbody>\n",
       "</table>\n"
      ],
      "text/latex": [
       "A data.frame: 6 × 4\n",
       "\\begin{tabular}{r|llll}\n",
       "  & estimate & std.err & unadj.p.value & adj.p.value\\\\\n",
       "  & <dbl> & <dbl> & <dbl> & <dbl>\\\\\n",
       "\\hline\n",
       "\tw:factor(polviews)2 & -0.02424199 & 0.02733714 & 3.752056e-01 & 1.000000e+00\\\\\n",
       "\tw:factor(polviews)3 & -0.05962335 & 0.02735735 & 2.930808e-02 & 1.758485e-01\\\\\n",
       "\tw:factor(polviews)4 & -0.13461439 & 0.02534022 & 1.090684e-07 & 6.544105e-07\\\\\n",
       "\tw:factor(polviews)5 & -0.16491540 & 0.02713505 & 1.235505e-09 & 7.413027e-09\\\\\n",
       "\tw:factor(polviews)6 & -0.18007875 & 0.02751422 & 6.052625e-11 & 3.631575e-10\\\\\n",
       "\tw:factor(polviews)7 & -0.18618443 & 0.03870554 & 1.514861e-06 & 9.089164e-06\\\\\n",
       "\\end{tabular}\n"
      ],
      "text/markdown": [
       "\n",
       "A data.frame: 6 × 4\n",
       "\n",
       "| <!--/--> | estimate &lt;dbl&gt; | std.err &lt;dbl&gt; | unadj.p.value &lt;dbl&gt; | adj.p.value &lt;dbl&gt; |\n",
       "|---|---|---|---|---|\n",
       "| w:factor(polviews)2 | -0.02424199 | 0.02733714 | 3.752056e-01 | 1.000000e+00 |\n",
       "| w:factor(polviews)3 | -0.05962335 | 0.02735735 | 2.930808e-02 | 1.758485e-01 |\n",
       "| w:factor(polviews)4 | -0.13461439 | 0.02534022 | 1.090684e-07 | 6.544105e-07 |\n",
       "| w:factor(polviews)5 | -0.16491540 | 0.02713505 | 1.235505e-09 | 7.413027e-09 |\n",
       "| w:factor(polviews)6 | -0.18007875 | 0.02751422 | 6.052625e-11 | 3.631575e-10 |\n",
       "| w:factor(polviews)7 | -0.18618443 | 0.03870554 | 1.514861e-06 | 9.089164e-06 |\n",
       "\n"
      ],
      "text/plain": [
       "                    estimate    std.err    unadj.p.value adj.p.value \n",
       "w:factor(polviews)2 -0.02424199 0.02733714 3.752056e-01  1.000000e+00\n",
       "w:factor(polviews)3 -0.05962335 0.02735735 2.930808e-02  1.758485e-01\n",
       "w:factor(polviews)4 -0.13461439 0.02534022 1.090684e-07  6.544105e-07\n",
       "w:factor(polviews)5 -0.16491540 0.02713505 1.235505e-09  7.413027e-09\n",
       "w:factor(polviews)6 -0.18007875 0.02751422 6.052625e-11  3.631575e-10\n",
       "w:factor(polviews)7 -0.18618443 0.03870554 1.514861e-06  9.089164e-06"
      ]
     },
     "metadata": {},
     "output_type": "display_data"
    }
   ],
   "source": [
    "# Retrieve unadjusted p-values and \n",
    "unadj.p.value <- ols.res[interact, 4]\n",
    "adj.p.value <- p.adjust(unadj.p.value, method='bonferroni')\n",
    "\n",
    "data.frame(estimate=coef(ols)[interact], std.err=ols.res[interact,2], unadj.p.value, adj.p.value)"
   ]
  },
  {
   "cell_type": "code",
   "execution_count": 8,
   "id": "a06eab68",
   "metadata": {},
   "outputs": [
    {
     "data": {
      "text/html": [
       "<style>\n",
       ".dl-inline {width: auto; margin:0; padding: 0}\n",
       ".dl-inline>dt, .dl-inline>dd {float: none; width: auto; display: inline-block}\n",
       ".dl-inline>dt::after {content: \":\\0020\"; padding-right: .5ex}\n",
       ".dl-inline>dt:not(:first-of-type) {padding-left: .5ex}\n",
       "</style><dl class=dl-inline><dt>w:factor(polviews)2</dt><dd>1</dd><dt>w:factor(polviews)3</dt><dd>0.175848455676661</dd><dt>w:factor(polviews)4</dt><dd>6.54410485620019e-07</dd><dt>w:factor(polviews)5</dt><dd>7.413027450122e-09</dd><dt>w:factor(polviews)6</dt><dd>3.63157523442882e-10</dd><dt>w:factor(polviews)7</dt><dd>9.08916361104202e-06</dd></dl>\n"
      ],
      "text/latex": [
       "\\begin{description*}\n",
       "\\item[w:factor(polviews)2] 1\n",
       "\\item[w:factor(polviews)3] 0.175848455676661\n",
       "\\item[w:factor(polviews)4] 6.54410485620019e-07\n",
       "\\item[w:factor(polviews)5] 7.413027450122e-09\n",
       "\\item[w:factor(polviews)6] 3.63157523442882e-10\n",
       "\\item[w:factor(polviews)7] 9.08916361104202e-06\n",
       "\\end{description*}\n"
      ],
      "text/markdown": [
       "w:factor(polviews)2\n",
       ":   1w:factor(polviews)3\n",
       ":   0.175848455676661w:factor(polviews)4\n",
       ":   6.54410485620019e-07w:factor(polviews)5\n",
       ":   7.413027450122e-09w:factor(polviews)6\n",
       ":   3.63157523442882e-10w:factor(polviews)7\n",
       ":   9.08916361104202e-06\n",
       "\n"
      ],
      "text/plain": [
       "w:factor(polviews)2 w:factor(polviews)3 w:factor(polviews)4 w:factor(polviews)5 \n",
       "       1.000000e+00        1.758485e-01        6.544105e-07        7.413027e-09 \n",
       "w:factor(polviews)6 w:factor(polviews)7 \n",
       "       3.631575e-10        9.089164e-06 "
      ]
     },
     "metadata": {},
     "output_type": "display_data"
    }
   ],
   "source": [
    "adj.p.value"
   ]
  },
  {
   "cell_type": "code",
   "execution_count": 44,
   "id": "e4652633",
   "metadata": {},
   "outputs": [],
   "source": [
    "# Auxiliary function to computes adjusted p-values \n",
    "# following the Romano-Wolf method.\n",
    "# For a reference, see http://ftp.iza.org/dp12845.pdf page 8\n",
    "#  t.orig: vector of t-statistics from original model\n",
    "#  t.boot: matrix of t-statistics from bootstrapped models\n",
    "romano_wolf_correction <- function(t.orig, t.boot) {\n",
    "  abs.t.orig <- abs(t.orig)\n",
    "  abs.t.boot <- abs(t.boot)\n",
    "  abs.t.sorted <- sort(abs.t.orig, decreasing = TRUE)\n",
    "\n",
    "  max.order <- order(abs.t.orig, decreasing = TRUE)\n",
    "  rev.order <- order(max.order)\n",
    "\n",
    "  M <- nrow(t.boot)\n",
    "  S <- ncol(t.boot)\n",
    "\n",
    "  p.adj <- rep(0, S)\n",
    "  p.adj[1] <- mean(apply(abs.t.boot, 1, max) > abs.t.sorted[1])\n",
    "  for (s in seq(2, S)) {\n",
    "    cur.index <- max.order[s:S]\n",
    "    p.init <- mean(apply(abs.t.boot[, cur.index, drop=FALSE], 1, max) > abs.t.sorted[s])\n",
    "    p.adj[s] <- max(p.init, p.adj[s-1])\n",
    "  }\n",
    "  p.adj[rev.order]\n",
    "}\n",
    "\n",
    "# Computes adjusted p-values for linear regression (lm) models.\n",
    "#    model: object of lm class (i.e., a linear reg model)\n",
    "#    indices: vector of integers for the coefficients that will be tested\n",
    "#    cov.type: type of standard error (to be passed to sandwich::vcovHC)\n",
    "#    num.boot: number of null bootstrap samples. Increase to stabilize across runs.\n",
    "# Note: results are probabilitistic and may change slightly at every run. \n",
    "#\n",
    "# Adapted from the p_adjust from from the hdm package, written by Philipp Bach.\n",
    "# https://github.com/PhilippBach/hdm_prev/blob/master/R/p_adjust.R\n",
    "summary_rw_lm <- function(model, indices=NULL, cov.type=\"HC2\", num.boot=10000) {\n",
    "\n",
    "  if (is.null(indices)) {\n",
    "    indices <- 1:nrow(coef(summary(model)))\n",
    "  }\n",
    "  # Grab the original t values.\n",
    "  summary <- coef(summary(model))[indices,,drop=FALSE]\n",
    "  t.orig <- summary[, \"t value\"]\n",
    "\n",
    "  # Null resampling.\n",
    "  # This is a trick to speed up bootstrapping linear models.\n",
    "  # Here, we don't really need to re-fit linear regressions, which would be a bit slow.\n",
    "  # We know that betahat ~ N(beta, Sigma), and we have an estimate Sigmahat.\n",
    "  # So we can approximate \"null t-values\" by\n",
    "  #  - Draw beta.boot ~ N(0, Sigma-hat) --- note the 0 here, this is what makes it a *null* t-value.\n",
    "  #  - Compute t.boot = beta.boot / sqrt(diag(Sigma.hat))\n",
    "  Sigma.hat <- vcovHC(model, type=cov.type)[indices, indices]\n",
    "  se.orig <- sqrt(diag(Sigma.hat))\n",
    "  num.coef <- length(se.orig)\n",
    "  beta.boot <- mvrnorm(n=num.boot, mu=rep(0, num.coef), Sigma=Sigma.hat)\n",
    "  t.boot <- sweep(beta.boot, 2, se.orig, \"/\")\n",
    "  p.adj <- romano_wolf_correction(t.orig, t.boot)\n",
    "\n",
    "  result <- cbind(summary[,c(1,2,4),drop=F], p.adj)\n",
    "  colnames(result) <- c('Estimate', 'Std. Error', 'Orig. p-value', 'Adj. p-value')\n",
    "  result\n",
    "}"
   ]
  },
  {
   "cell_type": "code",
   "execution_count": 45,
   "id": "51029689",
   "metadata": {},
   "outputs": [
    {
     "data": {
      "text/html": [
       "<table class=\"dataframe\">\n",
       "<caption>A matrix: 6 × 4 of type dbl</caption>\n",
       "<thead>\n",
       "\t<tr><th></th><th scope=col>Estimate</th><th scope=col>Std. Error</th><th scope=col>Orig. p-value</th><th scope=col>Adj. p-value</th></tr>\n",
       "</thead>\n",
       "<tbody>\n",
       "\t<tr><th scope=row>w:factor(polviews)2</th><td>-0.02424199</td><td>0.03034779</td><td>4.244098e-01</td><td>0.4278</td></tr>\n",
       "\t<tr><th scope=row>w:factor(polviews)3</th><td>-0.05962335</td><td>0.03015010</td><td>4.798896e-02</td><td>0.0815</td></tr>\n",
       "\t<tr><th scope=row>w:factor(polviews)4</th><td>-0.13461439</td><td>0.02822807</td><td>1.862258e-06</td><td>0.0000</td></tr>\n",
       "\t<tr><th scope=row>w:factor(polviews)5</th><td>-0.16491540</td><td>0.02957511</td><td>2.481093e-08</td><td>0.0000</td></tr>\n",
       "\t<tr><th scope=row>w:factor(polviews)6</th><td>-0.18007875</td><td>0.02966030</td><td>1.284150e-09</td><td>0.0000</td></tr>\n",
       "\t<tr><th scope=row>w:factor(polviews)7</th><td>-0.18618443</td><td>0.03790379</td><td>9.063658e-07</td><td>0.0000</td></tr>\n",
       "</tbody>\n",
       "</table>\n"
      ],
      "text/latex": [
       "A matrix: 6 × 4 of type dbl\n",
       "\\begin{tabular}{r|llll}\n",
       "  & Estimate & Std. Error & Orig. p-value & Adj. p-value\\\\\n",
       "\\hline\n",
       "\tw:factor(polviews)2 & -0.02424199 & 0.03034779 & 4.244098e-01 & 0.4278\\\\\n",
       "\tw:factor(polviews)3 & -0.05962335 & 0.03015010 & 4.798896e-02 & 0.0815\\\\\n",
       "\tw:factor(polviews)4 & -0.13461439 & 0.02822807 & 1.862258e-06 & 0.0000\\\\\n",
       "\tw:factor(polviews)5 & -0.16491540 & 0.02957511 & 2.481093e-08 & 0.0000\\\\\n",
       "\tw:factor(polviews)6 & -0.18007875 & 0.02966030 & 1.284150e-09 & 0.0000\\\\\n",
       "\tw:factor(polviews)7 & -0.18618443 & 0.03790379 & 9.063658e-07 & 0.0000\\\\\n",
       "\\end{tabular}\n"
      ],
      "text/markdown": [
       "\n",
       "A matrix: 6 × 4 of type dbl\n",
       "\n",
       "| <!--/--> | Estimate | Std. Error | Orig. p-value | Adj. p-value |\n",
       "|---|---|---|---|---|\n",
       "| w:factor(polviews)2 | -0.02424199 | 0.03034779 | 4.244098e-01 | 0.4278 |\n",
       "| w:factor(polviews)3 | -0.05962335 | 0.03015010 | 4.798896e-02 | 0.0815 |\n",
       "| w:factor(polviews)4 | -0.13461439 | 0.02822807 | 1.862258e-06 | 0.0000 |\n",
       "| w:factor(polviews)5 | -0.16491540 | 0.02957511 | 2.481093e-08 | 0.0000 |\n",
       "| w:factor(polviews)6 | -0.18007875 | 0.02966030 | 1.284150e-09 | 0.0000 |\n",
       "| w:factor(polviews)7 | -0.18618443 | 0.03790379 | 9.063658e-07 | 0.0000 |\n",
       "\n"
      ],
      "text/plain": [
       "                    Estimate    Std. Error Orig. p-value Adj. p-value\n",
       "w:factor(polviews)2 -0.02424199 0.03034779 4.244098e-01  0.4278      \n",
       "w:factor(polviews)3 -0.05962335 0.03015010 4.798896e-02  0.0815      \n",
       "w:factor(polviews)4 -0.13461439 0.02822807 1.862258e-06  0.0000      \n",
       "w:factor(polviews)5 -0.16491540 0.02957511 2.481093e-08  0.0000      \n",
       "w:factor(polviews)6 -0.18007875 0.02966030 1.284150e-09  0.0000      \n",
       "w:factor(polviews)7 -0.18618443 0.03790379 9.063658e-07  0.0000      "
      ]
     },
     "metadata": {},
     "output_type": "display_data"
    }
   ],
   "source": [
    "# This linear regression is only valid in a randomized setting.\n",
    "fmla <- formula(paste(outcome, ' ~ ', treatment, '*', 'factor(', group, ')'))\n",
    "ols <- lm(fmla, data=data)\n",
    "interact <- which(sapply(names(coef(ols)), function(x) grepl(paste0(treatment, \":\"), x)))\n",
    "\n",
    "# Applying the romano-wolf correction.\n",
    "summary_rw_lm(ols, indices=interact)"
   ]
  },
  {
   "cell_type": "markdown",
   "id": "286bcdc7",
   "metadata": {},
   "source": [
    "## Data-driven hypotheses\n",
    "\n",
    "Pre-specifying hypotheses prior to looking at the data is in general good practice to avoid \"p-hacking\" (e.g., slicing the data into different subgroups until a significant result is found). However, valid tests can also be attained if by **sample splitting**: we can use a subset of the sample to find promising subgroups, then test hypotheses about these subgroups in the remaining sample. This kind of sample splitting for hypothesis testing is called **honesty**.\n",
    "\n",
    "### Via causal trees\n",
    "\n",
    "**Causal trees** [(Athey and Imbens)](PNAS, 2016)](https://www.pnas.org/content/pnas/113/27/7353.full.pdf) are an intuitive algorithm that is available in the randomized setting to discover subgroups with different treatment effects.\n",
    "\n",
    "At a high level, the idea is to divide the sample into three subsets (not necessarily of equal size). The `splitting` subset is used to fit a decision tree whose objective is modified to maximize heterogeneity in treatment effect estimates across leaves. The `estimation` subset is then used to produce a valid estimate of the treatment effect at each leaf of the fitted tree. Finally, a `test` subset can be used to validate the tree estimates.\n",
    "\n",
    "The next snippet uses `honest.causalTree` function from the [`causalTree`](https://github.com/susanathey/causalTree) package. For more details, see the [causalTree documentation](https://github.com/susanathey/causalTree/blob/master/briefintro.pdf)."
   ]
  },
  {
   "cell_type": "code",
   "execution_count": 11,
   "id": "2504a129",
   "metadata": {},
   "outputs": [
    {
     "data": {
      "text/html": [
       "<span style=white-space:pre-wrap>'y  ~ age + polviews + income + educ + marital + sex'</span>"
      ],
      "text/latex": [
       "'y  \\textasciitilde{} age + polviews + income + educ + marital + sex'"
      ],
      "text/markdown": [
       "<span style=white-space:pre-wrap>'y  ~ age + polviews + income + educ + marital + sex'</span>"
      ],
      "text/plain": [
       "[1] \"y  ~ age + polviews + income + educ + marital + sex\""
      ]
     },
     "metadata": {},
     "output_type": "display_data"
    }
   ],
   "source": [
    "# Only valid for randomized data!\n",
    "fmla <- paste(outcome, \" ~\", paste(covariates, collapse = \" + \"))\n",
    "fmla"
   ]
  },
  {
   "cell_type": "code",
   "execution_count": 12,
   "id": "598b4225",
   "metadata": {},
   "outputs": [],
   "source": [
    "# Dividing data into three subsets\n",
    "indices <- split(seq(nrow(data)), sort(seq(nrow(data)) %% 3))\n",
    "names(indices) <- c('split', 'est', 'test')"
   ]
  },
  {
   "cell_type": "code",
   "execution_count": 13,
   "id": "d29a528e",
   "metadata": {},
   "outputs": [
    {
     "name": "stdout",
     "output_type": "stream",
     "text": [
      "[1] 2\n",
      "[1] \"CT\"\n"
     ]
    }
   ],
   "source": [
    "# Fitting the forest\n",
    "ct.unpruned <- honest.causalTree(\n",
    "  formula=fmla,            # Define the model\n",
    "  data=data[indices$split,],\n",
    "  treatment=data[indices$split, treatment],\n",
    "  est_data=data[indices$est,],\n",
    "  est_treatment=data[indices$est, treatment],\n",
    "  minsize=1,                 # Min. number of treatment and control cases in each leaf\n",
    "  HonestSampleSize=length(indices$est), #  Num obs used in estimation after splitting\n",
    "  \n",
    "  # We recommend not changing the parameters below\n",
    "  split.Rule=\"CT\",            # Define the splitting option\n",
    "  cv.option=\"TOT\",            # Cross validation options\n",
    "  cp=0,                       # Complexity parameter\n",
    "  split.Honest=TRUE,          # Use honesty when splitting\n",
    "  cv.Honest=TRUE              # Use honesty when performing cross-validation\n",
    ")"
   ]
  },
  {
   "cell_type": "code",
   "execution_count": 14,
   "id": "9aa2a0d6",
   "metadata": {},
   "outputs": [],
   "source": [
    "# Table of cross-validated values by tuning parameter.\n",
    "ct.cptable <- as.data.frame(ct.unpruned$cptable)"
   ]
  },
  {
   "cell_type": "code",
   "execution_count": 15,
   "id": "b841dcef",
   "metadata": {},
   "outputs": [],
   "source": [
    "# Obtain optimal complexity parameter to prune tree.\n",
    "cp.selected <- which.min(ct.cptable$xerror)"
   ]
  },
  {
   "cell_type": "code",
   "execution_count": 16,
   "id": "51ea6209",
   "metadata": {},
   "outputs": [],
   "source": [
    "cp.optimal <- ct.cptable[cp.selected, \"CP\"]\n",
    "\n",
    "# Prune the tree at optimal complexity parameter.\n",
    "ct.pruned <- prune(tree=ct.unpruned, cp=cp.optimal)"
   ]
  },
  {
   "cell_type": "code",
   "execution_count": 17,
   "id": "891d0cb2",
   "metadata": {},
   "outputs": [],
   "source": [
    "# Predict point estimates (on estimation sample)\n",
    "tau.hat.est <- predict(ct.pruned, newdata=data[indices$est,])\n",
    "\n",
    "# Create a factor column 'leaf' indicating leaf assignment in the estimation set\n",
    "num.leaves <- length(unique(tau.hat.est))\n",
    "leaf <- factor(tau.hat.est, levels=sort(unique(tau.hat.est)), labels = seq(num.leaves))"
   ]
  },
  {
   "cell_type": "markdown",
   "id": "579d80b4",
   "metadata": {},
   "source": [
    "Note: if your tree is not splitting at all, try decreasing the parameter `minsize` that controls the minimum size of each leaf. The next snippet plots the learned tree. The values in the cell are the estimated treatment effect and an estimate of the fraction of the population that falls within each leaf. Both are estimated using the `estimation` sample."
   ]
  },
  {
   "cell_type": "code",
   "execution_count": 46,
   "id": "7d3c6dc3",
   "metadata": {},
   "outputs": [
    {
     "data": {
      "image/png": "[encoded data removed]",
      "text/plain": [
       "plot without title"
      ]
     },
     "metadata": {
      "image/png": {
       "height": 420,
       "width": 420
      }
     },
     "output_type": "display_data"
    }
   ],
   "source": [
    "rpart.plot(\n",
    "  x=ct.pruned,        # Pruned tree\n",
    "  type=3,             # Draw separate split labels for the left and right directions\n",
    "  fallen=TRUE,        # Position the leaf nodes at the bottom of the graph\n",
    "  leaf.round=1,       # Rounding of the corners of the leaf node boxes\n",
    "  extra=100,          # Display the percentage of observations in the node\n",
    "  branch=.1,          # Shape of the branch lines\n",
    "  box.palette=\"RdBu\") # Palette for coloring the node"
   ]
  },
  {
   "cell_type": "markdown",
   "id": "266dd53b",
   "metadata": {},
   "source": [
    "<font size=1>\n",
    "Interpret the heatmap above. What describes the subgroups with strongest and weakest estimated treatment effect?\n",
    "</font>\n",
    "\n",
    "\n",
    "### Via grf\n",
    "\n",
    "The function `causal_forest` from the package `grf` allows us to get estimates of the CATE \\@ref(eq:cate). "
   ]
  },
  {
   "cell_type": "code",
   "execution_count": 19,
   "id": "ddd01a11",
   "metadata": {},
   "outputs": [],
   "source": [
    "# Valid in randomized settings and observational settings with unconfoundedness+overlap.\n",
    "\n",
    "# Preparing data to fit a causal forest\n",
    "fmla <- formula(paste0(\"~ 0 +\", paste0(covariates, collapse=\"+\")))\n",
    "XX <- model.matrix(fmla, data)\n",
    "W <- data[,treatment]\n",
    "Y <- data[,outcome]\n",
    "\n",
    "# Comment or uncomment as appropriate.\n",
    "# Randomized setting with known and fixed probabilities (here: 0.5).\n",
    "\n",
    "forest.tau <- causal_forest(XX, Y, W, W.hat=.5) \n"
   ]
  },
  {
   "cell_type": "code",
   "execution_count": 20,
   "id": "edc48615",
   "metadata": {},
   "outputs": [],
   "source": [
    "# Get predictions from forest fitted above.\n",
    "tau.hat <- predict(forest.tau)$predictions  # tau(X) estimates"
   ]
  },
  {
   "cell_type": "markdown",
   "id": "dfbde9a1",
   "metadata": {},
   "source": [
    "Having fit a non-parametric method such as a causal forest, a researcher may (incorrectly) start by looking at the distribution of its predictions of the treatment effect. One might be tempted to think: \"if the histogram is concentrated at a point, then there is no heterogeneity; if the histogram is spread out, then our estimator has found interesting heterogeneity.\" However, this may be false."
   ]
  },
  {
   "cell_type": "code",
   "execution_count": 21,
   "id": "d399abda",
   "metadata": {},
   "outputs": [
    {
     "data": {
      "image/png": "[encoded data removed]",
      "text/plain": [
       "Plot with title \"CATE estimates\""
      ]
     },
     "metadata": {
      "image/png": {
       "height": 420,
       "width": 420
      }
     },
     "output_type": "display_data"
    }
   ],
   "source": [
    "# Do not use this for assessing heterogeneity. See text above.\n",
    "hist(tau.hat, main=\"CATE estimates\", freq=F)"
   ]
  },
  {
   "cell_type": "markdown",
   "id": "f2e426c8",
   "metadata": {},
   "source": [
    "If the histogram is concentrated at a point, we may simply be underpowered: our method was not able to detect any heterogeneity, but maybe it would detect it if we had more data. If the histogram is spread out, we may be overfitting: our model is producing very noisy estimates $\\widehat{\\tau}(x)$, but in fact the true  $\\tau(x)$ can be much smoother as a function of $x$.\n",
    "\n",
    "The `grf` package also produces a measure of variable importance that indicates how often a variable was used in a tree split. Again, much like the histogram above, this can be a rough diagnostic, but it should not be interpreted as indicating that, for example, variable with low importance is not related to heterogeneity. The reasoning is the same as the one presented in the causal trees section: if two covariates are highly correlated, the trees might split on one covariate but not the other, even though both (or maybe neither) are relevant in the true data-generating process."
   ]
  },
  {
   "cell_type": "code",
   "execution_count": 47,
   "id": "a678e91e",
   "metadata": {},
   "outputs": [
    {
     "data": {
      "text/html": [
       "<style>\n",
       ".dl-inline {width: auto; margin:0; padding: 0}\n",
       ".dl-inline>dt, .dl-inline>dd {float: none; width: auto; display: inline-block}\n",
       ".dl-inline>dt::after {content: \":\\0020\"; padding-right: .5ex}\n",
       ".dl-inline>dt:not(:first-of-type) {padding-left: .5ex}\n",
       "</style><dl class=dl-inline><dt>polviews</dt><dd>0.431399686290389</dd><dt>income</dt><dd>0.34377753367646</dd><dt>age</dt><dd>0.0981917806873182</dd><dt>educ</dt><dd>0.0763574123877587</dd><dt>marital</dt><dd>0.0443679539279786</dd></dl>\n"
      ],
      "text/latex": [
       "\\begin{description*}\n",
       "\\item[polviews] 0.431399686290389\n",
       "\\item[income] 0.34377753367646\n",
       "\\item[age] 0.0981917806873182\n",
       "\\item[educ] 0.0763574123877587\n",
       "\\item[marital] 0.0443679539279786\n",
       "\\end{description*}\n"
      ],
      "text/markdown": [
       "polviews\n",
       ":   0.431399686290389income\n",
       ":   0.34377753367646age\n",
       ":   0.0981917806873182educ\n",
       ":   0.0763574123877587marital\n",
       ":   0.0443679539279786\n",
       "\n"
      ],
      "text/plain": [
       "  polviews     income        age       educ    marital \n",
       "0.43139969 0.34377753 0.09819178 0.07635741 0.04436795 "
      ]
     },
     "metadata": {},
     "output_type": "display_data"
    }
   ],
   "source": [
    "var_imp <- c(variable_importance(forest.tau))\n",
    "names(var_imp) <- covariates\n",
    "sorted_var_imp <- sort(var_imp, decreasing = TRUE)\n",
    "sorted_var_imp[1:5]  # showing only first few"
   ]
  },
  {
   "cell_type": "code",
   "execution_count": 48,
   "id": "fdce0767",
   "metadata": {},
   "outputs": [],
   "source": [
    "var_imp <- c(variable_importance(forest.tau))"
   ]
  },
  {
   "cell_type": "code",
   "execution_count": 49,
   "id": "bf835419",
   "metadata": {},
   "outputs": [],
   "source": [
    "var_imp <- c(variable_importance(forest.tau))\n",
    "names(var_imp) <- covariates\n",
    "sorted_var_imp <- sort(var_imp, decreasing = TRUE)"
   ]
  },
  {
   "cell_type": "code",
   "execution_count": 50,
   "id": "a7b6f4f6",
   "metadata": {},
   "outputs": [
    {
     "data": {
      "text/html": [
       "<style>\n",
       ".dl-inline {width: auto; margin:0; padding: 0}\n",
       ".dl-inline>dt, .dl-inline>dd {float: none; width: auto; display: inline-block}\n",
       ".dl-inline>dt::after {content: \":\\0020\"; padding-right: .5ex}\n",
       ".dl-inline>dt:not(:first-of-type) {padding-left: .5ex}\n",
       "</style><dl class=dl-inline><dt>polviews</dt><dd>0.431399686290389</dd><dt>income</dt><dd>0.34377753367646</dd><dt>age</dt><dd>0.0981917806873182</dd><dt>educ</dt><dd>0.0763574123877587</dd><dt>marital</dt><dd>0.0443679539279786</dd><dt>sex</dt><dd>0.00590563303009477</dd></dl>\n"
      ],
      "text/latex": [
       "\\begin{description*}\n",
       "\\item[polviews] 0.431399686290389\n",
       "\\item[income] 0.34377753367646\n",
       "\\item[age] 0.0981917806873182\n",
       "\\item[educ] 0.0763574123877587\n",
       "\\item[marital] 0.0443679539279786\n",
       "\\item[sex] 0.00590563303009477\n",
       "\\end{description*}\n"
      ],
      "text/markdown": [
       "polviews\n",
       ":   0.431399686290389income\n",
       ":   0.34377753367646age\n",
       ":   0.0981917806873182educ\n",
       ":   0.0763574123877587marital\n",
       ":   0.0443679539279786sex\n",
       ":   0.00590563303009477\n",
       "\n"
      ],
      "text/plain": [
       "   polviews      income         age        educ     marital         sex \n",
       "0.431399686 0.343777534 0.098191781 0.076357412 0.044367954 0.005905633 "
      ]
     },
     "metadata": {},
     "output_type": "display_data"
    }
   ],
   "source": [
    "sorted_var_imp "
   ]
  },
  {
   "cell_type": "markdown",
   "id": "657c34e9",
   "metadata": {},
   "source": [
    "#### Data-driven subgroups\n",
    "\n",
    "Just as with causal trees, we can use causal forests to divide our observations into subgroups. In place of leaves, we'll rank observation into (say) quintiles according to their estimated CATE prediction; see, e.g., [Chernozhukov, Demirer, Duflo, Fernández-Val (2020)](https://arxiv.org/abs/1712.04802) for similar ideas.\n",
    "\n",
    "There's a subtle but important point that needs to be addressed here. As we have mentioned before, when predicting the conditional average treatment effect $\\tau(X_i)$ for observation $i$ we should in general avoid using a model that was fitted using observation $i$. This sort of sample splitting (which we called **honesty** above) is one of the required ingredients to get unbiased estimates of the CATE using the methods described here. However, when ranking estimates of two observations $i$ and $j$, we need something a little stronger: we must ensure that the model was not fit using _either_ $i$ _or_ $j$'s data. \n",
    "\n",
    "One way of overcoming this obstacle is simple. First, divide the data into $K$ folds (subsets). Then, cycle through the folds, fitting a CATE model on $K-1$ folds. Next, for each held-out fold, _separately_ rank the unseen observations into $Q$ groups based on their prediction  (i.e., if $Q=5$, then we rank observations by estimated CATE into \"top quintile\", \"second quintile\", and so on). After concatenating the independent rankings together, we can study the differences in observations in each rank-group. \n",
    "\n",
    "[This gist](https://gist.github.com/halflearned/bea4e5137c0c81fd18a75f682da466c8) computes the above for `grf`, and it should not be hard to modify it so as to replace forests by any other non-parametric method. However, for `grf` specifically, there's a small trick that allows us to obtain a valid ranking: we can pass a vector of fold indices to the argument `clusters` and rank observations within each fold. This works because estimates for each fold (\"cluster\")   trees are computed using trees that were not fit using observations from that fold. Here's how to do it. \n"
   ]
  },
  {
   "cell_type": "code",
   "execution_count": 51,
   "id": "7e03becd",
   "metadata": {},
   "outputs": [],
   "source": [
    "# Valid randomized data and observational data with unconfoundedness+overlap.\n",
    "# Note: read the comments below carefully. \n",
    "# In randomized settings, do not estimate forest.e and e.hat; use known assignment probs.\n",
    "\n",
    "# Prepare dataset\n",
    "fmla <- formula(paste0(\"~ 0 + \", paste0(covariates, collapse=\"+\")))\n",
    "X <- model.matrix(fmla, data)\n",
    "W <- data[,treatment]\n",
    "Y <- data[,outcome]\n",
    "\n",
    "# Number of rankings that the predictions will be ranking on \n",
    "# (e.g., 2 for above/below median estimated CATE, 5 for estimated CATE quintiles, etc.)\n",
    "num.rankings <- 5  \n",
    "\n",
    "# Prepare for data.splitting\n",
    "# Assign a fold number to each observation.\n",
    "# The argument 'clusters' in the next step will mimick K-fold cross-fitting.\n",
    "num.folds <- 10\n",
    "folds <- sort(seq(n) %% num.folds) + 1\n",
    "\n",
    "# Comment or uncomment depending on your setting.\n",
    "# Observational setting with unconfoundedness+overlap (unknown assignment probs):\n",
    "# forest <- causal_forest(X, Y, W, clusters = folds)\n",
    "# Randomized settings with fixed and known probabilities (here: 0.5).\n",
    "forest <- causal_forest(X, Y, W, W.hat=.5, clusters = folds)\n",
    "\n",
    "# Retrieve out-of-bag predictions.\n",
    "# Predictions for observation in fold k will be computed using \n",
    "# trees that were not trained using observations for that fold.\n",
    "tau.hat <- predict(forest)$predictions\n",
    "\n",
    "# Rank observations *within each fold* into quintiles according to their CATE predictions.\n",
    "ranking <- rep(NA, n)\n",
    "for (fold in seq(num.folds)) {\n",
    "  tau.hat.quantiles <- quantile(tau.hat[folds == fold], probs = seq(0, 1, by=1/num.rankings))\n",
    "  ranking[folds == fold] <- cut(tau.hat[folds == fold], tau.hat.quantiles, include.lowest=TRUE,labels=seq(num.rankings))\n",
    "}"
   ]
  },
  {
   "cell_type": "markdown",
   "id": "b7b5fbfb",
   "metadata": {},
   "source": [
    "The next snippet computes the average treatment effect within each group defined above, i.e., $\\E[Y_i(1) - Y_i(0)|G_i = g]$. This can done in two ways. First, by computing a simple difference-in-means estimate of the ATE based on observations within each group. This is valid only in randomized settings."
   ]
  },
  {
   "cell_type": "code",
   "execution_count": 52,
   "id": "1d848b6f",
   "metadata": {},
   "outputs": [
    {
     "data": {
      "text/html": [
       "<table class=\"dataframe\">\n",
       "<caption>A data.frame: 5 × 4</caption>\n",
       "<thead>\n",
       "\t<tr><th scope=col>method</th><th scope=col>ranking</th><th scope=col>estimate</th><th scope=col>std.err</th></tr>\n",
       "\t<tr><th scope=col>&lt;chr&gt;</th><th scope=col>&lt;chr&gt;</th><th scope=col>&lt;dbl&gt;</th><th scope=col>&lt;dbl&gt;</th></tr>\n",
       "</thead>\n",
       "<tbody>\n",
       "\t<tr><td>ols</td><td>Q1</td><td>-0.4353549</td><td>0.011320846</td></tr>\n",
       "\t<tr><td>ols</td><td>Q2</td><td>-0.3975594</td><td>0.011186537</td></tr>\n",
       "\t<tr><td>ols</td><td>Q3</td><td>-0.3669326</td><td>0.011075093</td></tr>\n",
       "\t<tr><td>ols</td><td>Q4</td><td>-0.3272430</td><td>0.010451586</td></tr>\n",
       "\t<tr><td>ols</td><td>Q5</td><td>-0.2107984</td><td>0.009772566</td></tr>\n",
       "</tbody>\n",
       "</table>\n"
      ],
      "text/latex": [
       "A data.frame: 5 × 4\n",
       "\\begin{tabular}{llll}\n",
       " method & ranking & estimate & std.err\\\\\n",
       " <chr> & <chr> & <dbl> & <dbl>\\\\\n",
       "\\hline\n",
       "\t ols & Q1 & -0.4353549 & 0.011320846\\\\\n",
       "\t ols & Q2 & -0.3975594 & 0.011186537\\\\\n",
       "\t ols & Q3 & -0.3669326 & 0.011075093\\\\\n",
       "\t ols & Q4 & -0.3272430 & 0.010451586\\\\\n",
       "\t ols & Q5 & -0.2107984 & 0.009772566\\\\\n",
       "\\end{tabular}\n"
      ],
      "text/markdown": [
       "\n",
       "A data.frame: 5 × 4\n",
       "\n",
       "| method &lt;chr&gt; | ranking &lt;chr&gt; | estimate &lt;dbl&gt; | std.err &lt;dbl&gt; |\n",
       "|---|---|---|---|\n",
       "| ols | Q1 | -0.4353549 | 0.011320846 |\n",
       "| ols | Q2 | -0.3975594 | 0.011186537 |\n",
       "| ols | Q3 | -0.3669326 | 0.011075093 |\n",
       "| ols | Q4 | -0.3272430 | 0.010451586 |\n",
       "| ols | Q5 | -0.2107984 | 0.009772566 |\n",
       "\n"
      ],
      "text/plain": [
       "  method ranking estimate   std.err    \n",
       "1 ols    Q1      -0.4353549 0.011320846\n",
       "2 ols    Q2      -0.3975594 0.011186537\n",
       "3 ols    Q3      -0.3669326 0.011075093\n",
       "4 ols    Q4      -0.3272430 0.010451586\n",
       "5 ols    Q5      -0.2107984 0.009772566"
      ]
     },
     "metadata": {},
     "output_type": "display_data"
    }
   ],
   "source": [
    "# Valid only in randomized settings.\n",
    "# Average difference-in-means within each ranking\n",
    "\n",
    "# Formula y ~ 0 + ranking + ranking:w\n",
    "fmla <- paste0(outcome, \" ~ 0 + ranking + ranking:\", treatment)\n",
    "ols.ate <- lm(fmla, data=transform(data, ranking=factor(ranking)))\n",
    "ols.ate <- coeftest(ols.ate, vcov=vcovHC(ols.ate, type='HC2'))\n",
    "interact <- which(grepl(\":\", rownames(ols.ate)))\n",
    "ols.ate <- data.frame(\"ols\", paste0(\"Q\", seq(num.rankings)), ols.ate[interact, 1:2])\n",
    "rownames(ols.ate) <- NULL # just for display\n",
    "colnames(ols.ate) <- c(\"method\", \"ranking\", \"estimate\", \"std.err\")\n",
    "ols.ate"
   ]
  },
  {
   "cell_type": "markdown",
   "id": "8456eabc",
   "metadata": {},
   "source": [
    "Another option is to average the AIPW scores within each group. This valid for both randomized settings and observational settings with unconfoundedness and overlap. Moreover, AIPW-based estimators should produce estimates with tighter confidence intervals in large samples."
   ]
  },
  {
   "cell_type": "code",
   "execution_count": 53,
   "id": "0762ad48",
   "metadata": {},
   "outputs": [
    {
     "data": {
      "text/html": [
       "<table class=\"dataframe\">\n",
       "<caption>A data.frame: 5 × 4</caption>\n",
       "<thead>\n",
       "\t<tr><th scope=col>method</th><th scope=col>ranking</th><th scope=col>estimate</th><th scope=col>std.err</th></tr>\n",
       "\t<tr><th scope=col>&lt;chr&gt;</th><th scope=col>&lt;chr&gt;</th><th scope=col>&lt;dbl&gt;</th><th scope=col>&lt;dbl&gt;</th></tr>\n",
       "</thead>\n",
       "<tbody>\n",
       "\t<tr><td>aipw</td><td>Q1</td><td>-0.4367440</td><td>0.011059159</td></tr>\n",
       "\t<tr><td>aipw</td><td>Q2</td><td>-0.3971625</td><td>0.010753714</td></tr>\n",
       "\t<tr><td>aipw</td><td>Q3</td><td>-0.3653607</td><td>0.010638938</td></tr>\n",
       "\t<tr><td>aipw</td><td>Q4</td><td>-0.3292289</td><td>0.010197880</td></tr>\n",
       "\t<tr><td>aipw</td><td>Q5</td><td>-0.2071731</td><td>0.009316174</td></tr>\n",
       "</tbody>\n",
       "</table>\n"
      ],
      "text/latex": [
       "A data.frame: 5 × 4\n",
       "\\begin{tabular}{llll}\n",
       " method & ranking & estimate & std.err\\\\\n",
       " <chr> & <chr> & <dbl> & <dbl>\\\\\n",
       "\\hline\n",
       "\t aipw & Q1 & -0.4367440 & 0.011059159\\\\\n",
       "\t aipw & Q2 & -0.3971625 & 0.010753714\\\\\n",
       "\t aipw & Q3 & -0.3653607 & 0.010638938\\\\\n",
       "\t aipw & Q4 & -0.3292289 & 0.010197880\\\\\n",
       "\t aipw & Q5 & -0.2071731 & 0.009316174\\\\\n",
       "\\end{tabular}\n"
      ],
      "text/markdown": [
       "\n",
       "A data.frame: 5 × 4\n",
       "\n",
       "| method &lt;chr&gt; | ranking &lt;chr&gt; | estimate &lt;dbl&gt; | std.err &lt;dbl&gt; |\n",
       "|---|---|---|---|\n",
       "| aipw | Q1 | -0.4367440 | 0.011059159 |\n",
       "| aipw | Q2 | -0.3971625 | 0.010753714 |\n",
       "| aipw | Q3 | -0.3653607 | 0.010638938 |\n",
       "| aipw | Q4 | -0.3292289 | 0.010197880 |\n",
       "| aipw | Q5 | -0.2071731 | 0.009316174 |\n",
       "\n"
      ],
      "text/plain": [
       "  method ranking estimate   std.err    \n",
       "1 aipw   Q1      -0.4367440 0.011059159\n",
       "2 aipw   Q2      -0.3971625 0.010753714\n",
       "3 aipw   Q3      -0.3653607 0.010638938\n",
       "4 aipw   Q4      -0.3292289 0.010197880\n",
       "5 aipw   Q5      -0.2071731 0.009316174"
      ]
     },
     "metadata": {},
     "output_type": "display_data"
    }
   ],
   "source": [
    "# Computing AIPW scores.\n",
    "tau.hat <- predict(forest)$predictions\n",
    "e.hat <- forest$W.hat # P[W=1|X]\n",
    "m.hat <- forest$Y.hat # E[Y|X]\n",
    "\n",
    "# Estimating mu.hat(X, 1) and mu.hat(X, 0) for obs in held-out sample\n",
    "# Note: to understand this, read equations 6-8 in this vignette:\n",
    "# https://grf-labs.github.io/grf/articles/muhats.html\n",
    "mu.hat.0 <- m.hat - e.hat * tau.hat        # E[Y|X,W=0] = E[Y|X] - e(X)*tau(X)\n",
    "mu.hat.1 <- m.hat + (1 - e.hat) * tau.hat  # E[Y|X,W=1] = E[Y|X] + (1 - e(X))*tau(X)\n",
    "\n",
    "# AIPW scores\n",
    "aipw.scores <- tau.hat + W / e.hat * (Y -  mu.hat.1) - (1 - W) / (1 - e.hat) * (Y -  mu.hat.0)\n",
    "\n",
    "ols <- lm(aipw.scores ~ 0 + factor(ranking))\n",
    "forest.ate <- data.frame(\"aipw\", paste0(\"Q\", seq(num.rankings)), coeftest(ols, vcov=vcovHC(ols, \"HC2\"))[,1:2])\n",
    "colnames(forest.ate) <- c(\"method\", \"ranking\", \"estimate\", \"std.err\")\n",
    "rownames(forest.ate) <- NULL # just for display\n",
    "forest.ate"
   ]
  },
  {
   "cell_type": "markdown",
   "id": "54214c8a",
   "metadata": {},
   "source": [
    "The code below plots the estimates."
   ]
  },
  {
   "cell_type": "code",
   "execution_count": 54,
   "id": "18043342",
   "metadata": {
    "scrolled": true
   },
   "outputs": [
    {
     "data": {
      "image/png": "[encoded data removed]",
      "text/plain": [
       "plot without title"
      ]
     },
     "metadata": {
      "image/png": {
       "height": 420,
       "width": 420
      }
     },
     "output_type": "display_data"
    }
   ],
   "source": [
    "# Concatenate the two results.\n",
    "res <- rbind(forest.ate, ols.ate)\n",
    "\n",
    "# Plotting the point estimate of average treatment effect \n",
    "# and 95% confidence intervals around it.\n",
    "ggplot(res) +\n",
    "  aes(x = ranking, y = estimate, group=method, color=method) + \n",
    "  geom_point(position=position_dodge(0.2)) +\n",
    "  geom_errorbar(aes(ymin=estimate-2*std.err, ymax=estimate+2*std.err), width=.2, position=position_dodge(0.2)) +\n",
    "  ylab(\"\") + xlab(\"\") +\n",
    "  ggtitle(\"Average CATE within each ranking (as defined by predicted CATE)\") +\n",
    "  theme_minimal() +\n",
    "  theme(legend.position=\"bottom\", legend.title = element_blank())"
   ]
  },
  {
   "cell_type": "markdown",
   "id": "f341d6c0",
   "metadata": {},
   "source": [
    "When there isn't much detectable heterogeneity, the plot above can end up being non-monotonic. This can mean that the number of observations is too small for us to be able to detect subgroups with relevant differences in treatment effect.\n",
    "\n",
    "<font size=1>\n",
    "As an exercise, try running the previous two snippets on few data points (e.g., the first thousand observations only). You will likely see the \"non-monotonicity\" phenomenon just described.\n",
    "</font>\n",
    "\n",
    "Next, as we did for leaves in a causal tree, we can test e.g., if the prediction for groups 2, 3, etc. are larger than the one in the first group. Here's how to do it based on a difference-in-means estimator. Note the Romano-Wolf multiple-hypothesis testing correction."
   ]
  },
  {
   "cell_type": "code",
   "execution_count": 55,
   "id": "e4cf29ba",
   "metadata": {},
   "outputs": [
    {
     "data": {
      "text/html": [
       "<table class=\"dataframe\">\n",
       "<caption>A matrix: 4 × 4 of type dbl</caption>\n",
       "<thead>\n",
       "\t<tr><th></th><th scope=col>Estimate</th><th scope=col>Std. Error</th><th scope=col>Orig. p-value</th><th scope=col>Adj. p-value</th></tr>\n",
       "</thead>\n",
       "<tbody>\n",
       "\t<tr><th scope=row>Rank 2 - Rank 1</th><td>0.03779552</td><td>0.01475636</td><td>1.043311e-02</td><td>0.0113</td></tr>\n",
       "\t<tr><th scope=row>Rank 3 - Rank 1</th><td>0.06842235</td><td>0.01474772</td><td>3.507639e-06</td><td>0.0000</td></tr>\n",
       "\t<tr><th scope=row>Rank 4 - Rank 1</th><td>0.10811193</td><td>0.01473558</td><td>2.245724e-13</td><td>0.0000</td></tr>\n",
       "\t<tr><th scope=row>Rank 5 - Rank 1</th><td>0.22455650</td><td>0.01474881</td><td>3.840570e-52</td><td>0.0000</td></tr>\n",
       "</tbody>\n",
       "</table>\n"
      ],
      "text/latex": [
       "A matrix: 4 × 4 of type dbl\n",
       "\\begin{tabular}{r|llll}\n",
       "  & Estimate & Std. Error & Orig. p-value & Adj. p-value\\\\\n",
       "\\hline\n",
       "\tRank 2 - Rank 1 & 0.03779552 & 0.01475636 & 1.043311e-02 & 0.0113\\\\\n",
       "\tRank 3 - Rank 1 & 0.06842235 & 0.01474772 & 3.507639e-06 & 0.0000\\\\\n",
       "\tRank 4 - Rank 1 & 0.10811193 & 0.01473558 & 2.245724e-13 & 0.0000\\\\\n",
       "\tRank 5 - Rank 1 & 0.22455650 & 0.01474881 & 3.840570e-52 & 0.0000\\\\\n",
       "\\end{tabular}\n"
      ],
      "text/markdown": [
       "\n",
       "A matrix: 4 × 4 of type dbl\n",
       "\n",
       "| <!--/--> | Estimate | Std. Error | Orig. p-value | Adj. p-value |\n",
       "|---|---|---|---|---|\n",
       "| Rank 2 - Rank 1 | 0.03779552 | 0.01475636 | 1.043311e-02 | 0.0113 |\n",
       "| Rank 3 - Rank 1 | 0.06842235 | 0.01474772 | 3.507639e-06 | 0.0000 |\n",
       "| Rank 4 - Rank 1 | 0.10811193 | 0.01473558 | 2.245724e-13 | 0.0000 |\n",
       "| Rank 5 - Rank 1 | 0.22455650 | 0.01474881 | 3.840570e-52 | 0.0000 |\n",
       "\n"
      ],
      "text/plain": [
       "                Estimate   Std. Error Orig. p-value Adj. p-value\n",
       "Rank 2 - Rank 1 0.03779552 0.01475636 1.043311e-02  0.0113      \n",
       "Rank 3 - Rank 1 0.06842235 0.01474772 3.507639e-06  0.0000      \n",
       "Rank 4 - Rank 1 0.10811193 0.01473558 2.245724e-13  0.0000      \n",
       "Rank 5 - Rank 1 0.22455650 0.01474881 3.840570e-52  0.0000      "
      ]
     },
     "metadata": {},
     "output_type": "display_data"
    }
   ],
   "source": [
    "# Valid in randomized settings only.\n",
    "\n",
    "# y ~ ranking + w + ranking:w\n",
    "fmla <- paste0(outcome, \"~ ranking + \", treatment, \" + ranking:\", treatment) \n",
    "ols <- lm(fmla, data=transform(data, ranking=factor(ranking)))\n",
    "interact <- which(sapply(names(coef(ols)), function(x) grepl(\":\", x)))\n",
    "res <- summary_rw_lm(ols, indices=interact)\n",
    "rownames(res) <- paste(\"Rank\", 2:num.rankings, \"- Rank 1\") # just for display\n",
    "res"
   ]
  },
  {
   "cell_type": "markdown",
   "id": "59c503bb",
   "metadata": {},
   "source": [
    "Here's how to do it for AIPW-based estimates, again with Romano-Wolf correction for multiple hypothesis testing. "
   ]
  },
  {
   "cell_type": "code",
   "execution_count": 56,
   "id": "3475950c",
   "metadata": {},
   "outputs": [
    {
     "data": {
      "text/html": [
       "<table class=\"dataframe\">\n",
       "<caption>A matrix: 4 × 4 of type dbl</caption>\n",
       "<thead>\n",
       "\t<tr><th></th><th scope=col>Estimate</th><th scope=col>Std. Error</th><th scope=col>Orig. p-value</th><th scope=col>Adj. p-value</th></tr>\n",
       "</thead>\n",
       "<tbody>\n",
       "\t<tr><th scope=row>Rank 2 - Rank 1</th><td>0.03958150</td><td>0.01472228</td><td>7.180611e-03</td><td>0.0064</td></tr>\n",
       "\t<tr><th scope=row>Rank 3 - Rank 1</th><td>0.07138324</td><td>0.01472100</td><td>1.246882e-06</td><td>0.0000</td></tr>\n",
       "\t<tr><th scope=row>Rank 4 - Rank 1</th><td>0.10751507</td><td>0.01472293</td><td>2.896946e-13</td><td>0.0000</td></tr>\n",
       "\t<tr><th scope=row>Rank 5 - Rank 1</th><td>0.22957093</td><td>0.01472293</td><td>1.367774e-54</td><td>0.0000</td></tr>\n",
       "</tbody>\n",
       "</table>\n"
      ],
      "text/latex": [
       "A matrix: 4 × 4 of type dbl\n",
       "\\begin{tabular}{r|llll}\n",
       "  & Estimate & Std. Error & Orig. p-value & Adj. p-value\\\\\n",
       "\\hline\n",
       "\tRank 2 - Rank 1 & 0.03958150 & 0.01472228 & 7.180611e-03 & 0.0064\\\\\n",
       "\tRank 3 - Rank 1 & 0.07138324 & 0.01472100 & 1.246882e-06 & 0.0000\\\\\n",
       "\tRank 4 - Rank 1 & 0.10751507 & 0.01472293 & 2.896946e-13 & 0.0000\\\\\n",
       "\tRank 5 - Rank 1 & 0.22957093 & 0.01472293 & 1.367774e-54 & 0.0000\\\\\n",
       "\\end{tabular}\n"
      ],
      "text/markdown": [
       "\n",
       "A matrix: 4 × 4 of type dbl\n",
       "\n",
       "| <!--/--> | Estimate | Std. Error | Orig. p-value | Adj. p-value |\n",
       "|---|---|---|---|---|\n",
       "| Rank 2 - Rank 1 | 0.03958150 | 0.01472228 | 7.180611e-03 | 0.0064 |\n",
       "| Rank 3 - Rank 1 | 0.07138324 | 0.01472100 | 1.246882e-06 | 0.0000 |\n",
       "| Rank 4 - Rank 1 | 0.10751507 | 0.01472293 | 2.896946e-13 | 0.0000 |\n",
       "| Rank 5 - Rank 1 | 0.22957093 | 0.01472293 | 1.367774e-54 | 0.0000 |\n",
       "\n"
      ],
      "text/plain": [
       "                Estimate   Std. Error Orig. p-value Adj. p-value\n",
       "Rank 2 - Rank 1 0.03958150 0.01472228 7.180611e-03  0.0064      \n",
       "Rank 3 - Rank 1 0.07138324 0.01472100 1.246882e-06  0.0000      \n",
       "Rank 4 - Rank 1 0.10751507 0.01472293 2.896946e-13  0.0000      \n",
       "Rank 5 - Rank 1 0.22957093 0.01472293 1.367774e-54  0.0000      "
      ]
     },
     "metadata": {},
     "output_type": "display_data"
    }
   ],
   "source": [
    "# Valid in randomized and observational settings with unconfoundedness+overlap.\n",
    "\n",
    "# Using AIPW scores computed above\n",
    "ols <- lm(aipw.scores ~ 1 + factor(ranking))\n",
    "res <- summary_rw_lm(ols, indices=2:num.rankings)\n",
    "rownames(res) <- paste(\"Rank\", 2:num.rankings, \"- Rank 1\") # just for display\n",
    "res"
   ]
  },
  {
   "cell_type": "markdown",
   "id": "99c1f110",
   "metadata": {},
   "source": [
    "Finally, we can also check if different groups have different average covariate levels across rankings. "
   ]
  },
  {
   "cell_type": "code",
   "execution_count": 32,
   "id": "52af919a",
   "metadata": {},
   "outputs": [
    {
     "data": {
      "text/html": [
       "<style>\n",
       ".list-inline {list-style: none; margin:0; padding: 0}\n",
       ".list-inline>li {display: inline-block}\n",
       ".list-inline>li:not(:last-child)::after {content: \"\\00b7\"; padding: 0 .5ex}\n",
       "</style>\n",
       "<ol class=list-inline><li>'age'</li><li>'polviews'</li><li>'income'</li><li>'educ'</li><li>'marital'</li><li>'sex'</li></ol>\n"
      ],
      "text/latex": [
       "\\begin{enumerate*}\n",
       "\\item 'age'\n",
       "\\item 'polviews'\n",
       "\\item 'income'\n",
       "\\item 'educ'\n",
       "\\item 'marital'\n",
       "\\item 'sex'\n",
       "\\end{enumerate*}\n"
      ],
      "text/markdown": [
       "1. 'age'\n",
       "2. 'polviews'\n",
       "3. 'income'\n",
       "4. 'educ'\n",
       "5. 'marital'\n",
       "6. 'sex'\n",
       "\n",
       "\n"
      ],
      "text/plain": [
       "[1] \"age\"      \"polviews\" \"income\"   \"educ\"     \"marital\"  \"sex\"     "
      ]
     },
     "metadata": {},
     "output_type": "display_data"
    }
   ],
   "source": [
    "covariates"
   ]
  },
  {
   "cell_type": "code",
   "execution_count": 33,
   "id": "204b1f16",
   "metadata": {},
   "outputs": [
    {
     "data": {
      "image/png": "[encoded data removed]",
      "text/plain": [
       "plot without title"
      ]
     },
     "metadata": {
      "image/png": {
       "height": 420,
       "width": 420
      }
     },
     "output_type": "display_data"
    }
   ],
   "source": [
    "df <- mapply(function(covariate) {\n",
    "      # Looping over covariate names\n",
    "      # Compute average covariate value per ranking (with correct standard errors)\n",
    "      fmla <- formula(paste0(covariate, \"~ 0 + ranking\"))\n",
    "      ols <- lm(fmla, data=transform(data, ranking=factor(ranking)))\n",
    "      ols.res <- coeftest(ols, vcov=vcovHC(ols, \"HC2\"))\n",
    "    \n",
    "      # Retrieve results\n",
    "      avg <- ols.res[,1]\n",
    "      stderr <- ols.res[,2]\n",
    "      \n",
    "      # Tally up results\n",
    "      data.frame(covariate, avg, stderr, ranking=paste0(\"Q\", seq(num.rankings)), \n",
    "                 # Used for coloring\n",
    "                 scaling=pnorm((avg - mean(avg))/sd(avg)), \n",
    "                 # We will order based on how much variation is 'explain' by the averages\n",
    "                 # relative to the total variation of the covariate in the data\n",
    "                 variation=sd(avg) / sd(data[,covariate]),\n",
    "                 # String to print in each cell in heatmap below\n",
    "                 labels=paste0(signif(avg, 3), \"\\n\", \"(\", signif(stderr, 3), \")\"))\n",
    "}, covariates, SIMPLIFY = FALSE)\n",
    "\n",
    "df <- do.call(rbind, df)\n",
    "\n",
    "# a small optional trick to ensure heatmap will be in decreasing order of 'variation'\n",
    "df$covariate <- reorder(df$covariate, order(df$variation))\n",
    "\n",
    "# plot heatmap\n",
    "ggplot(df) +\n",
    "    aes(ranking, covariate) +\n",
    "    geom_tile(aes(fill = scaling)) + \n",
    "    geom_text(aes(label = labels)) +\n",
    "    scale_fill_gradient(low = \"#E1BE6A\", high = \"#40B0A6\") +\n",
    "    ggtitle(paste0(\"Average covariate values within group (based on CATE estimate ranking)\")) +\n",
    "    theme_minimal() + \n",
    "    ylab(\"\") + xlab(\"CATE estimate ranking\") +\n",
    "    theme(plot.title = element_text(size = 11, face = \"bold\"),\n",
    "          axis.text=element_text(size=11)) "
   ]
  },
  {
   "cell_type": "markdown",
   "id": "984574a0",
   "metadata": {},
   "source": [
    "<font size=1>\n",
    "Interpret the heatmap above. What describes the subgroups with strongest and weakest estimated treatment effect? Are there variables that seem to increase or decrease monotonically across rankings?\n",
    "</font>"
   ]
  },
  {
   "cell_type": "markdown",
   "id": "721c6198",
   "metadata": {},
   "source": [
    "#### Best linear projection\n",
    "\n",
    "This function provides a doubly robust fit to the linear model $\\widehat{\\tau}(X_i) = \\beta_0 + A_i'\\beta_1$, where $A_i$ can be a subset of the covariate columns. The coefficients in this regression are suggestive of general trends, but they should not be interpret as partial effects -- that would only be true if the true model were really linear in covariates, and that's an assumption we shouldn't be willing to make in general. More details [link](https://rdrr.io/cran/grf/src/R/forest_summary.R)"
   ]
  },
  {
   "cell_type": "code",
   "execution_count": 34,
   "id": "d5b691cd",
   "metadata": {},
   "outputs": [
    {
     "data": {
      "text/plain": [
       "\n",
       "Best linear projection of the conditional average treatment effect.\n",
       "Confidence intervals are cluster- and heteroskedasticity-robust (HC3):\n",
       "\n",
       "               Estimate  Std. Error  t value  Pr(>|t|)    \n",
       "(Intercept) -0.19347963  0.04040076  -4.7890 1.684e-06 ***\n",
       "age          0.00154125  0.00029472   5.2296 1.711e-07 ***\n",
       "polviews    -0.03564173  0.00339159 -10.5088 < 2.2e-16 ***\n",
       "income      -0.02053453  0.00192941 -10.6429 < 2.2e-16 ***\n",
       "educ         0.00925261  0.00162558   5.6919 1.269e-08 ***\n",
       "marital      0.01085117  0.00312323   3.4743 0.0005129 ***\n",
       "sex         -0.00453352  0.00942065  -0.4812 0.6303550    \n",
       "---\n",
       "Signif. codes:  0 '***' 0.001 '**' 0.01 '*' 0.05 '.' 0.1 ' ' 1\n"
      ]
     },
     "metadata": {},
     "output_type": "display_data"
    }
   ],
   "source": [
    "# Best linear projection of the conditional average treatment effect on covariates\n",
    "best_linear_projection(forest.tau, X)"
   ]
  },
  {
   "cell_type": "markdown",
   "id": "680e62e1",
   "metadata": {},
   "source": [
    "#### Assessing heterogeneity\n",
    "\n",
    "The function `test_calibration` computes an estimate of the best linear predictor of true CATE based on out-of-bag predictions $\\hat{\\tau}^{-i}(\\cdot)$. The exact implementation seeks to fit the following linear model:\n",
    "\\begin{equation}\n",
    "Y_{i} - \\hat{m}^{-i}(X_{i}) = \\alpha\\bar{\\tau}\\left(W_{i} - \\hat{e}^{-i}(X_{i})\\right) + \\beta \\left(\\hat{\\tau}^{-i}(X_{i}) - \\bar{\\tau} \\right) \\left(W_{i} - \\hat{e}^{-i}(X_{i}) \\right) + \\epsilon,\n",
    "\\end{equation}\n",
    "\n",
    "where $\\bar{\\tau} := n^{-1}\\sum_{i=1}^{n} \\hat{\\tau}^{-i}(X_{i})$. The coefficients $\\alpha$ and $\\beta$ allow us to evaluate the performance of our estimates. If $\\alpha = 1$, then the average prediction produced by the forest is correct. Meanwhile, if $\\beta = 1$, then the forest predictions adequately capture the underlying heterogeneity.\n",
    "\n",
    "The slope $\\beta$ is a measure of how the CATE predictions covary with true CATE. Therefore, the p-value on the estimate of coefficient also acts as an omnibus test for the presence of heterogeneity. If the coefficient is significantly greater than zero, then we can reject the null of no heterogeneity. However, coefficients smaller than 0 are not meaningful and show not be interpreted."
   ]
  },
  {
   "cell_type": "code",
   "execution_count": 35,
   "id": "68b0257a",
   "metadata": {},
   "outputs": [
    {
     "data": {
      "text/plain": [
       "\n",
       "Best linear fit using forest predictions (on held-out data)\n",
       "as well as the mean forest prediction as regressors, along\n",
       "with one-sided heteroskedasticity-robust (HC3) SEs:\n",
       "\n",
       "                               Estimate Std. Error t value    Pr(>t)    \n",
       "mean.forest.prediction         0.994521   0.013312  74.711 < 2.2e-16 ***\n",
       "differential.forest.prediction 0.895982   0.046250  19.372 < 2.2e-16 ***\n",
       "---\n",
       "Signif. codes:  0 '***' 0.001 '**' 0.01 '*' 0.05 '.' 0.1 ' ' 1\n"
      ]
     },
     "metadata": {},
     "output_type": "display_data"
    }
   ],
   "source": [
    "test_calibration(forest.tau)"
   ]
  },
  {
   "cell_type": "markdown",
   "id": "8be7c2f6",
   "metadata": {},
   "source": [
    "<font size=1>\n",
    "Interpret the test above. Is the forest producing correct estimate of the average treatment effect? Is it capturing the underlying heterogeneity?\n",
    "</font>"
   ]
  },
  {
   "cell_type": "markdown",
   "id": "2e8e0faf",
   "metadata": {},
   "source": [
    "#### Partial dependence\n",
    "\n",
    "It may also be interesting to examine how our CATE estimates behave when we change a single covariate, while keeping all the other covariates at a some fixed value. In the plot below we evaluate a variable of interest across quantiles, while keeping all other covariates at their median. \n",
    "\n",
    "It is important to recognize that by keeping some variables at their median we may be evaluating the CATE at $x$ values in regions where there are few or no data points. Also, it may be the case that varying some particular variable while keeping others fixed may just not be very interesting.\n",
    "\n",
    "In what follows we'll again use `causal_forest` predictions, along with their variance estimates (set `estimate.variances=TRUE` when predicting to we get estimates of the asymptotic variance of the prediction for each point). Since `grf` predictions are asymptotically normal, we can construct 95\\% confidence intervals in the usual manner (i.e., $\\hat{\\tau}(x) \\pm 1.96\\sqrt{\\widehat{\\text{Var}}(\\hat{\\tau}(x))}$)."
   ]
  },
  {
   "cell_type": "code",
   "execution_count": 36,
   "id": "2fd9332f",
   "metadata": {},
   "outputs": [
    {
     "data": {
      "image/png": "[encoded data removed]",
      "text/plain": [
       "plot without title"
      ]
     },
     "metadata": {
      "image/png": {
       "height": 420,
       "width": 420
      }
     },
     "output_type": "display_data"
    }
   ],
   "source": [
    "selected.covariate <- \"polviews\"\n",
    "other.covariates <- covariates[which(covariates != selected.covariate)]\n",
    "\n",
    "# Fitting a forest \n",
    "# (commented for convenience; no need re-fit if already fitted above)\n",
    "fmla <- formula(paste0(\"~ 0 + \", paste0(covariates, collapse=\"+\")))\n",
    "# Note: For smaller confidence intervals, set num.trees ~ sample size\n",
    "# X <- model.matrix(fmla, data)\n",
    "# W <- data[,treatment]\n",
    "# Y <- data[,outcome]\n",
    "# forest.tau <- causal_forest(X, Y, W, W.hat=.5)  # few trees for speed here\n",
    "\n",
    "# Compute a grid of values appropriate for the selected covariate\n",
    "grid.size <- 7 \n",
    "covariate.grid <- seq(min(data[,selected.covariate]), max(data[,selected.covariate]), length.out=grid.size)\n",
    "\n",
    "# Other options for constructing a grid:\n",
    "# For a binary variable, simply use 0 and 1\n",
    "# grid.size <- 2\n",
    "# covariate.grid <- c(0, 1)  \n",
    "\n",
    "# For a continuous variable, select appropriate percentiles\n",
    "# percentiles <- c(.1, .25, .5, .75, .9)\n",
    "# grid.size <- length(percentiles)\n",
    "# covariate.grid <- quantile(data[,selected.covariate], probs=percentiles)\n",
    "\n",
    "# Take median of other covariates \n",
    "medians <- apply(data[, other.covariates, F], 2, median)\n",
    "\n",
    "# Construct a dataset\n",
    "data.grid <- data.frame(sapply(medians, function(x) rep(x, grid.size)), covariate.grid)\n",
    "colnames(data.grid) <- c(other.covariates, selected.covariate)\n",
    "\n",
    "# Expand the data\n",
    "X.grid <- model.matrix(fmla, data.grid)\n",
    "\n",
    "# Point predictions of the CATE and standard errors \n",
    "forest.pred <- predict(forest.tau, newdata = X.grid, estimate.variance=TRUE)\n",
    "tau.hat <- forest.pred$predictions\n",
    "tau.hat.se <- sqrt(forest.pred$variance.estimates)\n",
    "\n",
    "# Plot predictions for each group and 95% confidence intervals around them.\n",
    "data.pred <- transform(data.grid, tau.hat=tau.hat, ci.low = tau.hat - 2*tau.hat.se, ci.high = tau.hat + 2*tau.hat.se)\n",
    "ggplot(data.pred) +\n",
    "  geom_point(aes_string(x=selected.covariate, y=\"tau.hat\", group = 1), color=\"black\", size = 4) +\n",
    "  geom_line(aes_string(x=selected.covariate, y=\"tau.hat\", group = 1), color=\"black\", size = 1) +\n",
    "  geom_errorbar(aes_string(x=selected.covariate, ymin=\"ci.low\", ymax=\"ci.high\", width=.2), color=\"blue\") +\n",
    "   ylab(\"\") +\n",
    "  ggtitle(paste0(\"Predicted treatment effect varying '\", selected.covariate, \"' (other variables fixed at median)\")) +\n",
    "  scale_x_continuous(\"polviews\", breaks=covariate.grid, labels=signif(covariate.grid, 2)) +\n",
    "  theme_minimal() +\n",
    "  theme(plot.title = element_text(size = 11, face = \"bold\")) "
   ]
  },
  {
   "cell_type": "code",
   "execution_count": 37,
   "id": "f598d0db",
   "metadata": {},
   "outputs": [
    {
     "data": {
      "text/html": [
       "<table class=\"dataframe\">\n",
       "<caption>A matrix: 7 × 6 of type dbl</caption>\n",
       "<thead>\n",
       "\t<tr><th></th><th scope=col>age</th><th scope=col>polviews</th><th scope=col>income</th><th scope=col>educ</th><th scope=col>marital</th><th scope=col>sex</th></tr>\n",
       "</thead>\n",
       "<tbody>\n",
       "\t<tr><th scope=row>1</th><td>43</td><td>1</td><td>12</td><td>13</td><td>1</td><td>2</td></tr>\n",
       "\t<tr><th scope=row>2</th><td>43</td><td>2</td><td>12</td><td>13</td><td>1</td><td>2</td></tr>\n",
       "\t<tr><th scope=row>3</th><td>43</td><td>3</td><td>12</td><td>13</td><td>1</td><td>2</td></tr>\n",
       "\t<tr><th scope=row>4</th><td>43</td><td>4</td><td>12</td><td>13</td><td>1</td><td>2</td></tr>\n",
       "\t<tr><th scope=row>5</th><td>43</td><td>5</td><td>12</td><td>13</td><td>1</td><td>2</td></tr>\n",
       "\t<tr><th scope=row>6</th><td>43</td><td>6</td><td>12</td><td>13</td><td>1</td><td>2</td></tr>\n",
       "\t<tr><th scope=row>7</th><td>43</td><td>7</td><td>12</td><td>13</td><td>1</td><td>2</td></tr>\n",
       "</tbody>\n",
       "</table>\n"
      ],
      "text/latex": [
       "A matrix: 7 × 6 of type dbl\n",
       "\\begin{tabular}{r|llllll}\n",
       "  & age & polviews & income & educ & marital & sex\\\\\n",
       "\\hline\n",
       "\t1 & 43 & 1 & 12 & 13 & 1 & 2\\\\\n",
       "\t2 & 43 & 2 & 12 & 13 & 1 & 2\\\\\n",
       "\t3 & 43 & 3 & 12 & 13 & 1 & 2\\\\\n",
       "\t4 & 43 & 4 & 12 & 13 & 1 & 2\\\\\n",
       "\t5 & 43 & 5 & 12 & 13 & 1 & 2\\\\\n",
       "\t6 & 43 & 6 & 12 & 13 & 1 & 2\\\\\n",
       "\t7 & 43 & 7 & 12 & 13 & 1 & 2\\\\\n",
       "\\end{tabular}\n"
      ],
      "text/markdown": [
       "\n",
       "A matrix: 7 × 6 of type dbl\n",
       "\n",
       "| <!--/--> | age | polviews | income | educ | marital | sex |\n",
       "|---|---|---|---|---|---|---|\n",
       "| 1 | 43 | 1 | 12 | 13 | 1 | 2 |\n",
       "| 2 | 43 | 2 | 12 | 13 | 1 | 2 |\n",
       "| 3 | 43 | 3 | 12 | 13 | 1 | 2 |\n",
       "| 4 | 43 | 4 | 12 | 13 | 1 | 2 |\n",
       "| 5 | 43 | 5 | 12 | 13 | 1 | 2 |\n",
       "| 6 | 43 | 6 | 12 | 13 | 1 | 2 |\n",
       "| 7 | 43 | 7 | 12 | 13 | 1 | 2 |\n",
       "\n"
      ],
      "text/plain": [
       "  age polviews income educ marital sex\n",
       "1 43  1        12     13   1       2  \n",
       "2 43  2        12     13   1       2  \n",
       "3 43  3        12     13   1       2  \n",
       "4 43  4        12     13   1       2  \n",
       "5 43  5        12     13   1       2  \n",
       "6 43  6        12     13   1       2  \n",
       "7 43  7        12     13   1       2  "
      ]
     },
     "metadata": {},
     "output_type": "display_data"
    }
   ],
   "source": [
    "X.grid"
   ]
  },
  {
   "cell_type": "markdown",
   "id": "233242d6",
   "metadata": {},
   "source": [
    "Note that, in this example, we got fairly large confidence intervals. This can be explained in two ways. First, as we mentioned above, there's a data scarcity problem. For example, even though the number of observations with `polviews` equal to `6` is not small,"
   ]
  },
  {
   "cell_type": "code",
   "execution_count": 38,
   "id": "3b8e90a4",
   "metadata": {},
   "outputs": [
    {
     "data": {
      "text/html": [
       "0.154538791749555"
      ],
      "text/latex": [
       "0.154538791749555"
      ],
      "text/markdown": [
       "0.154538791749555"
      ],
      "text/plain": [
       "[1] 0.1545388"
      ]
     },
     "metadata": {},
     "output_type": "display_data"
    }
   ],
   "source": [
    "with(data, mean(polviews == 6))"
   ]
  },
  {
   "cell_type": "markdown",
   "id": "1fa0a458",
   "metadata": {},
   "source": [
    "there's a much smaller fraction of individuals with `polviews` equal to `6` and (say) age close to the median age,"
   ]
  },
  {
   "cell_type": "code",
   "execution_count": 39,
   "id": "b175466a",
   "metadata": {},
   "outputs": [
    {
     "data": {
      "text/html": [
       "0.0224758315010645"
      ],
      "text/latex": [
       "0.0224758315010645"
      ],
      "text/markdown": [
       "0.0224758315010645"
      ],
      "text/plain": [
       "[1] 0.02247583"
      ]
     },
     "metadata": {},
     "output_type": "display_data"
    }
   ],
   "source": [
    "mean(with(data, (polviews == 6) & (abs(age - median(age)) <= 3))) # at most 3 yrs away"
   ]
  },
  {
   "cell_type": "markdown",
   "id": "89c6984c",
   "metadata": {},
   "source": [
    "and an even smaller fraction of observations with `polviews` equal to `6` and every other variable close to the median. The second cause of wide confidence intervals is statistical. Since `grf` is a non-parametric model, we should expect fairly wide confidence intervals, especially in high-dimensional problems -- that is an unavoidable consequence of avoiding modeling assumptions. \n",
    "\n",
    "<font size=2>\n",
    "As documented in the original paper on generalized random forests ([Athey, Tibshirani and Wager, 2019](https://arxiv.org/abs/1610.01271)), the coverage of `grf` confidence intervals can drop if the signal is too dense or too complex relative to the number of observations. Also, to a point, it's possible to get tighter confidence intervals by increasing the number of trees; see this [short vignette](https://grf-labs.github.io/grf/articles/ci_and_num.trees.html) for more information. \n",
    "</font>\n",
    "\n",
    "We can vary more than one variable at a time. The next snippet shows predictions and standard errors varying two variables."
   ]
  },
  {
   "cell_type": "code",
   "execution_count": 40,
   "id": "30815015",
   "metadata": {},
   "outputs": [
    {
     "data": {
      "image/png": "[encoded data removed]",
      "text/plain": [
       "plot without title"
      ]
     },
     "metadata": {
      "image/png": {
       "height": 420,
       "width": 420
      }
     },
     "output_type": "display_data"
    }
   ],
   "source": [
    "x1 <- 'polviews'\n",
    "x2 <- 'age'\n",
    "selected.covariates <- c(x1, x2)\n",
    "other.covariates <- covariates[-which(covariates %in% selected.covariates)]\n",
    "\n",
    "# Compute a grid of values appropriate for the selected covariate\n",
    "# See other options for constructing grids in the snippet above.\n",
    "x1.grid.size <- 7\n",
    "x2.grid.size <- 5\n",
    "x1.grid <- seq(min(data[,x1]), max(data[,x1]), length.out=x1.grid.size)\n",
    "x2.grid <- seq(min(data[,x2]), max(data[,x2]), length.out=x2.grid.size)\n",
    "\n",
    "# Take median of other covariates \n",
    "medians <- apply(data[, other.covariates, F], 2, median)\n",
    "\n",
    "# Construct dataset\n",
    "data.grid <- data.frame(\n",
    "                sapply(medians, function(x) rep(x, grid.size)), \n",
    "                expand.grid(x1.grid, x2.grid))\n",
    "colnames(data.grid) <- c(other.covariates, selected.covariates)\n",
    "\n",
    "# Expand the data according to formula used to fit forest\n",
    "X.grid <- model.matrix(fmla, data.grid)\n",
    "\n",
    "# Forest-based point estimates of CATE and standard errors around them\n",
    "forest.pred <- predict(forest.tau, newdata = X.grid, estimate.variance=TRUE)\n",
    "tau.hat <- forest.pred$predictions\n",
    "tau.hat.se <- sqrt(forest.pred$variance.estimates)\n",
    "\n",
    "# A vector of labels for plotting below\n",
    "labels <- mapply(function(est, se) paste0(signif(est, 3), \"\\n\", \"(\", signif(se, 3), \")\"), tau.hat, tau.hat.se)\n",
    "df <- data.frame(X.grid, tau.hat, labels)\n",
    "\n",
    "# Plotting\n",
    "ggplot(df) +\n",
    "    aes(age, polviews) +\n",
    "    geom_tile(aes(fill = tau.hat)) + \n",
    "    geom_text(aes(label = labels)) +\n",
    "    scale_fill_gradient(low = \"blue\", high = \"orange\") +\n",
    "    scale_y_continuous(\"polviews\", breaks=x1.grid, labels=signif(x1.grid, 2)) +\n",
    "    scale_x_continuous(\"age\", breaks=x2.grid, labels=signif(x2.grid, 2)) +\n",
    "    ggtitle(paste0(\"Predicted treatment effect varying '\", x1, \"' and '\", x2, \"' (other variables fixed at median)\")) +\n",
    "    theme_minimal() +\n",
    "    theme(plot.title = element_text(size = 10, face = \"bold\")) "
   ]
  },
  {
   "cell_type": "markdown",
   "id": "83dc4bdc",
   "metadata": {},
   "source": [
    "## Further reading\n",
    "\n",
    "A readable summary of different method for hypothesis testing correction is laid out in the introduction to [Clarke, Romano and Wolf (2009)](http://ftp.iza.org/dp12845.pdf).\n",
    "\n",
    "[Athey and Wager (2019)](https://arxiv.org/abs/1902.07409) shows an application of causal forests to heterogeity analysis in a setting with clustering."
   ]
  }
 ],
 "metadata": {
  "kernelspec": {
   "display_name": "R",
   "language": "R",
   "name": "ir"
  },
  "language_info": {
   "codemirror_mode": "r",
   "file_extension": ".r",
   "mimetype": "text/x-r-source",
   "name": "R",
   "pygments_lexer": "r",
   "version": "4.1.2"
  }
 },
 "nbformat": 4,
 "nbformat_minor": 5
}
