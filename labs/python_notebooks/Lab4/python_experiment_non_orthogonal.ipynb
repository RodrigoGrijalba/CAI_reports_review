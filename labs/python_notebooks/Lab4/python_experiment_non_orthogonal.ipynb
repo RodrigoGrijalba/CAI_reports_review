{
 "cells": [
  {
   "cell_type": "code",
   "execution_count": 2,
   "id": "da11e5a8",
   "metadata": {
    "id": "da11e5a8"
   },
   "outputs": [],
   "source": [
    "import numpy as np\n",
    "import warnings\n",
    "import matplotlib.pyplot as plt\n",
    "from sklearn.base import BaseEstimator\n",
    "warnings.simplefilter('ignore')"
   ]
  },
  {
   "cell_type": "markdown",
   "id": "f815a26a",
   "metadata": {
    "id": "f815a26a"
   },
   "source": [
    "We import a clone of hdmpy to use rlasso functions in python\n",
    "```\n",
    "!pip install multiprocess\n",
    "!pip install pyreadr\n",
    "!git clone https://github.com/maxhuppertz/hdmpy.git\n",
    "```"
   ]
  },
  {
   "cell_type": "code",
   "execution_count": 3,
   "id": "q9tTqKaPflDN",
   "metadata": {
    "colab": {
     "base_uri": "https://localhost:8080/"
    },
    "id": "q9tTqKaPflDN",
    "outputId": "2cad5c24-c6b7-4e2e-dfec-9132fdc4289b"
   },
   "outputs": [
    {
     "name": "stdout",
     "output_type": "stream",
     "text": [
      "Requirement already satisfied: multiprocess in c:\\users\\alexander\\anaconda3\\lib\\site-packages (0.70.12.2)\n",
      "Requirement already satisfied: dill>=0.3.4 in c:\\users\\alexander\\anaconda3\\lib\\site-packages (from multiprocess) (0.3.4)\n"
     ]
    },
    {
     "name": "stderr",
     "output_type": "stream",
     "text": [
      "WARNING: Ignoring invalid distribution -tatsmodels (c:\\users\\alexander\\anaconda3\\lib\\site-packages)\n",
      "WARNING: Ignoring invalid distribution -tatsmodels (c:\\users\\alexander\\anaconda3\\lib\\site-packages)\n",
      "WARNING: Ignoring invalid distribution -tatsmodels (c:\\users\\alexander\\anaconda3\\lib\\site-packages)\n",
      "WARNING: Ignoring invalid distribution -tatsmodels (c:\\users\\alexander\\anaconda3\\lib\\site-packages)\n",
      "WARNING: Ignoring invalid distribution -tatsmodels (c:\\users\\alexander\\anaconda3\\lib\\site-packages)\n",
      "WARNING: Ignoring invalid distribution -tatsmodels (c:\\users\\alexander\\anaconda3\\lib\\site-packages)\n"
     ]
    },
    {
     "name": "stdout",
     "output_type": "stream",
     "text": [
      "Requirement already satisfied: pyreadr in c:\\users\\alexander\\anaconda3\\lib\\site-packages (0.4.2)\n",
      "Requirement already satisfied: pandas>0.24.0 in c:\\users\\alexander\\anaconda3\\lib\\site-packages (from pyreadr) (1.5.3)\n",
      "Requirement already satisfied: numpy>=1.20.3 in c:\\users\\alexander\\anaconda3\\lib\\site-packages (from pandas>0.24.0->pyreadr) (1.24.2)\n",
      "Requirement already satisfied: python-dateutil>=2.8.1 in c:\\users\\alexander\\anaconda3\\lib\\site-packages (from pandas>0.24.0->pyreadr) (2.8.2)\n",
      "Requirement already satisfied: pytz>=2020.1 in c:\\users\\alexander\\anaconda3\\lib\\site-packages (from pandas>0.24.0->pyreadr) (2021.3)\n",
      "Requirement already satisfied: six>=1.5 in c:\\users\\alexander\\anaconda3\\lib\\site-packages (from python-dateutil>=2.8.1->pandas>0.24.0->pyreadr) (1.16.0)\n"
     ]
    },
    {
     "name": "stderr",
     "output_type": "stream",
     "text": [
      "WARNING: Ignoring invalid distribution -tatsmodels (c:\\users\\alexander\\anaconda3\\lib\\site-packages)\n",
      "WARNING: Ignoring invalid distribution -tatsmodels (c:\\users\\alexander\\anaconda3\\lib\\site-packages)\n",
      "WARNING: Ignoring invalid distribution -tatsmodels (c:\\users\\alexander\\anaconda3\\lib\\site-packages)\n",
      "WARNING: Ignoring invalid distribution -tatsmodels (c:\\users\\alexander\\anaconda3\\lib\\site-packages)\n",
      "WARNING: Ignoring invalid distribution -tatsmodels (c:\\users\\alexander\\anaconda3\\lib\\site-packages)\n",
      "WARNING: Ignoring invalid distribution -tatsmodels (c:\\users\\alexander\\anaconda3\\lib\\site-packages)\n",
      "Cloning into 'hdmpy'...\n"
     ]
    }
   ],
   "source": [
    "!pip install multiprocess\n",
    "!pip install pyreadr\n",
    "!git clone https://github.com/maxhuppertz/hdmpy.git"
   ]
  },
  {
   "cell_type": "code",
   "execution_count": 4,
   "id": "c4cb78c8",
   "metadata": {},
   "outputs": [
    {
     "data": {
      "text/plain": [
       "'C:\\\\Users\\\\Alexander\\\\Documents\\\\GitHub\\\\CausalAI-Course\\\\labs\\\\python_notebooks\\\\Lab4'"
      ]
     },
     "execution_count": 4,
     "metadata": {},
     "output_type": "execute_result"
    }
   ],
   "source": [
    "pwd"
   ]
  },
  {
   "cell_type": "code",
   "execution_count": 5,
   "id": "d465905f",
   "metadata": {
    "id": "d465905f"
   },
   "outputs": [],
   "source": [
    "import sys\n",
    "sys.path.insert(1, \"./hdmpy\")\n",
    "import hdmpy"
   ]
  },
  {
   "cell_type": "code",
   "execution_count": 6,
   "id": "d5d475d7",
   "metadata": {
    "id": "d5d475d7"
   },
   "outputs": [],
   "source": [
    "# An estimator class that runs the lasso with theoretically driven penalty choice.\n",
    "# Better in small samples than cross-validation and also faster computationally\n",
    "class RLasso(BaseEstimator):\n",
    "\n",
    "    def __init__(self, *, post=False):\n",
    "        self.post = post\n",
    "\n",
    "    def fit(self, X, y):\n",
    "        self.rlasso_ = hdmpy.rlasso(X, y, post=self.post)\n",
    "        return self\n",
    "\n",
    "    @property\n",
    "    def coef_(self):\n",
    "        return np.array(self.rlasso_.est['beta']).flatten()\n",
    "\n",
    "    def predict(self, X):\n",
    "        return X @ self.coef_ + np.array(self.rlasso_.est['intercept'])"
   ]
  },
  {
   "cell_type": "code",
   "execution_count": 7,
   "id": "b8c3a418",
   "metadata": {
    "id": "b8c3a418"
   },
   "outputs": [],
   "source": [
    "# A simple experimental data generating process. No effect heterogeneity.\n",
    "def gen_data(n, d, p, delta, base):\n",
    "    X = np.random.normal(0, 1, size=(n, d))\n",
    "    D = np.random.binomial(1, p, size=(n,))\n",
    "    y0 = base - X[:, 0] + np.random.normal(0, .1, size=(n,))\n",
    "    y1 = delta + base - X[:, 0] + np.random.normal(0, .1, size=(n,))\n",
    "    y = y1 * D + y0 * (1 - D)\n",
    "    return y, D, X"
   ]
  },
  {
   "cell_type": "code",
   "execution_count": 8,
   "id": "258d88f2",
   "metadata": {
    "id": "258d88f2"
   },
   "outputs": [],
   "source": [
    "n = 100 # n samples\n",
    "d = 100 # n features\n",
    "delta = 1.0 # treatment effect\n",
    "base = .3 # baseline outcome"
   ]
  },
  {
   "cell_type": "code",
   "execution_count": 9,
   "id": "69d66c15",
   "metadata": {
    "id": "69d66c15"
   },
   "outputs": [],
   "source": [
    "# Simple two means estimate and calculation of variance\n",
    "def twomeans(y, D):\n",
    "    hat0 = np.mean(y[D==0]) # mean of outcome of un-treated\n",
    "    hat1 = np.mean(y[D==1]) # mean of outcome of treated\n",
    "    V0 = np.var(y[D==0]) / np.mean(1 - D) # asymptotic variance of the mean of outcome of untreated\n",
    "    V1 = np.var(y[D==1]) / np.mean(D) # asymptotic variance of the mean of outcome of treated\n",
    "    hat = hat1 - hat0 # estimate of effect\n",
    "    stderr = np.sqrt((V0 + V1) / n) # standard error of estimate of effect\n",
    "    return hat, stderr"
   ]
  },
  {
   "cell_type": "code",
   "execution_count": 10,
   "id": "db73000b",
   "metadata": {
    "colab": {
     "base_uri": "https://localhost:8080/"
    },
    "id": "db73000b",
    "outputId": "0eb2353e-cbd7-48a4-e4b7-f0befa6e4ca8"
   },
   "outputs": [
    {
     "data": {
      "text/plain": [
       "(0.8018889598126377, 0.2469727302839426)"
      ]
     },
     "execution_count": 10,
     "metadata": {},
     "output_type": "execute_result"
    }
   ],
   "source": [
    "np.random.seed(123)\n",
    "y, D, X = gen_data(n, d, .2, delta, base) # generate RCT data\n",
    "twomeans(y, D) # calculate estimation quantities"
   ]
  },
  {
   "cell_type": "code",
   "execution_count": 11,
   "id": "0f4535a9",
   "metadata": {
    "id": "0f4535a9"
   },
   "outputs": [],
   "source": [
    "from sklearn.linear_model import LinearRegression\n",
    "# We implement the partialling out version of OLS (for pedagogical purposes)\n",
    "def partialling_out(y, D, W):\n",
    "    yres = y - LinearRegression().fit(W, y).predict(W) # residualize outcome with OLS\n",
    "    Dres = D - LinearRegression().fit(W, D).predict(W) # residualize treatment with OLS\n",
    "    hat = np.mean(yres * Dres) / np.mean(Dres**2) # calculate final residual ~ residual ols estimate\n",
    "    epsilon = yres - hat * Dres # calculate residual of final regression; epsilon in the BLP decomposition\n",
    "    V = np.mean(epsilon**2 * Dres**2) / np.mean(Dres**2)**2 # calculate variance of effect\n",
    "    return hat, np.sqrt(V / y.shape[0]) # return estimate and standard error"
   ]
  },
  {
   "cell_type": "code",
   "execution_count": 15,
   "id": "ce4e7e18",
   "metadata": {},
   "outputs": [
    {
     "data": {
      "text/plain": [
       "(100, 200)"
      ]
     },
     "execution_count": 15,
     "metadata": {},
     "output_type": "execute_result"
    }
   ],
   "source": [
    "np.hstack([D*X, X]).shape"
   ]
  },
  {
   "cell_type": "code",
   "execution_count": 16,
   "id": "6f718a18",
   "metadata": {
    "colab": {
     "base_uri": "https://localhost:8080/"
    },
    "id": "6f718a18",
    "outputId": "47a4781a-dd61-4ddb-c51a-4f626561849b"
   },
   "outputs": [
    {
     "data": {
      "text/plain": [
       "(0.5096496460139639, 0.07604036851173256)"
      ]
     },
     "execution_count": 16,
     "metadata": {},
     "output_type": "execute_result"
    }
   ],
   "source": [
    "partialling_out(y, D, np.hstack([D*X, X]))"
   ]
  },
  {
   "cell_type": "code",
   "execution_count": 17,
   "id": "84e660b2",
   "metadata": {
    "id": "84e660b2"
   },
   "outputs": [],
   "source": [
    "# Now we simply replace OLS with Lasso to implement the Double Lasso process\n",
    "def double_lasso(y, D, W):\n",
    "    yres = y - RLasso().fit(W, y).predict(W) # residualize outcome with Lasso\n",
    "    Dres = D - RLasso().fit(W, D).predict(W) # residualize treatment with Lasso\n",
    "    # rest is the same as in the OLS case\n",
    "    hat = np.mean(yres * Dres) / np.mean(Dres**2)\n",
    "    epsilon = yres - hat * Dres\n",
    "    V = np.mean(epsilon**2 * Dres**2) / np.mean(Dres**2)**2\n",
    "    return hat, np.sqrt(V / y.shape[0])"
   ]
  },
  {
   "cell_type": "code",
   "execution_count": 18,
   "id": "c8b1cfd5",
   "metadata": {
    "colab": {
     "base_uri": "https://localhost:8080/"
    },
    "id": "c8b1cfd5",
    "outputId": "e28855e2-38a2-42d1-fe45-42918a363663"
   },
   "outputs": [
    {
     "data": {
      "text/plain": [
       "(0.9951576009987019, 0.04469042128095982)"
      ]
     },
     "execution_count": 18,
     "metadata": {},
     "output_type": "execute_result"
    }
   ],
   "source": [
    "double_lasso(y, D, np.hstack([D*X, X]))"
   ]
  },
  {
   "cell_type": "code",
   "execution_count": 20,
   "id": "6bd7b64c",
   "metadata": {},
   "outputs": [
    {
     "data": {
      "text/plain": [
       "1.0"
      ]
     },
     "execution_count": 20,
     "metadata": {},
     "output_type": "execute_result"
    }
   ],
   "source": [
    "delta"
   ]
  },
  {
   "cell_type": "code",
   "execution_count": 23,
   "id": "46fa3687",
   "metadata": {},
   "outputs": [
    {
     "data": {
      "text/plain": [
       "[False]"
      ]
     },
     "execution_count": 23,
     "metadata": {},
     "output_type": "execute_result"
    }
   ],
   "source": [
    "ci = [ 0.75, 0.98]\n",
    "[(ci[0] <= delta) & (delta <= ci[1])]"
   ]
  },
  {
   "cell_type": "code",
   "execution_count": 27,
   "id": "3e58c0e9",
   "metadata": {
    "id": "3e58c0e9"
   },
   "outputs": [],
   "source": [
    "# We now check the distributional properties of the different estimators across experiments\n",
    "# First is the simple two means estimate\n",
    "cov, hats, stderrs = [], [], [] # we will keep track of coverage (truth is in CI) and of the point estimate and stderr\n",
    "for _ in range(100):\n",
    "    y, D, X = gen_data(n, d, .2, delta, base)\n",
    "    hat, stderr = twomeans(y, D)\n",
    "    ci = [hat - 1.96 * stderr, hat + 1.96 * stderr] # 95% confidence interval\n",
    "    hats += [hat]\n",
    "    stderrs += [stderr]\n",
    "    cov += [(ci[0] <= delta) & (delta <= ci[1])] # 1 if CI contains the true parameter"
   ]
  },
  {
   "cell_type": "code",
   "execution_count": 33,
   "id": "67f2a63d",
   "metadata": {
    "colab": {
     "base_uri": "https://localhost:8080/"
    },
    "id": "67f2a63d",
    "outputId": "dc92144a-8ba9-4c92-9952-88ce5edb7668"
   },
   "outputs": [
    {
     "data": {
      "text/plain": [
       "0.93"
      ]
     },
     "execution_count": 33,
     "metadata": {},
     "output_type": "execute_result"
    }
   ],
   "source": [
    "np.mean(cov) # average coverage (should be .95 ideally)"
   ]
  },
  {
   "cell_type": "code",
   "execution_count": 29,
   "id": "31e49a00",
   "metadata": {
    "colab": {
     "base_uri": "https://localhost:8080/",
     "height": 432
    },
    "id": "31e49a00",
    "outputId": "70933bbc-dddd-4eff-cb07-c195dcf64b88"
   },
   "outputs": [
    {
     "data": {
      "image/png": "[encoded data removed]",
      "text/plain": [
       "<Figure size 432x288 with 1 Axes>"
      ]
     },
     "metadata": {
      "needs_background": "light"
     },
     "output_type": "display_data"
    }
   ],
   "source": [
    "# distribution of estimates\n",
    "plt.hist(hats)\n",
    "plt.show()"
   ]
  },
  {
   "cell_type": "code",
   "execution_count": 30,
   "id": "81766f99",
   "metadata": {
    "colab": {
     "base_uri": "https://localhost:8080/"
    },
    "id": "81766f99",
    "outputId": "a2883174-66d7-4879-f66a-836718796658"
   },
   "outputs": [
    {
     "data": {
      "text/plain": [
       "0.969156453380624"
      ]
     },
     "execution_count": 30,
     "metadata": {},
     "output_type": "execute_result"
    }
   ],
   "source": [
    "np.mean(hats) # mean of estimate; measures how biased the estimate is (should be =delta ideally)"
   ]
  },
  {
   "cell_type": "code",
   "execution_count": 31,
   "id": "174f80f2",
   "metadata": {
    "colab": {
     "base_uri": "https://localhost:8080/"
    },
    "id": "174f80f2",
    "outputId": "861ddc2f-d449-4e4c-975f-c143a48a3752"
   },
   "outputs": [
    {
     "data": {
      "text/plain": [
       "0.25368809928563724"
      ]
     },
     "execution_count": 31,
     "metadata": {},
     "output_type": "execute_result"
    }
   ],
   "source": [
    "np.std(hats) # standard deviation of estimates; should be close to the standard errors we calculated for the CIs"
   ]
  },
  {
   "cell_type": "code",
   "execution_count": 32,
   "id": "2789f752",
   "metadata": {
    "colab": {
     "base_uri": "https://localhost:8080/"
    },
    "id": "2789f752",
    "outputId": "9416463f-15af-4b8e-de9b-c95f88e50d62"
   },
   "outputs": [
    {
     "data": {
      "text/plain": [
       "0.2476468450508734"
      ]
     },
     "execution_count": 32,
     "metadata": {},
     "output_type": "execute_result"
    }
   ],
   "source": [
    "np.mean(stderrs)"
   ]
  },
  {
   "cell_type": "code",
   "execution_count": 34,
   "id": "a3a5c66c",
   "metadata": {
    "id": "a3a5c66c"
   },
   "outputs": [],
   "source": [
    "# Let's repeat this for the partialling out process (OLS), controlling for X\n",
    "cov, hats, stderrs = [], [], [] # we will keep track of coverage (truth is in CI) and of the point estimate and stderr\n",
    "for _ in range(100):\n",
    "    y, D, X = gen_data(n, d, .2, delta, base)\n",
    "    hat, stderr = partialling_out(y, D, X)\n",
    "    ci = [hat - 1.96 * stderr, hat + 1.96 * stderr] # 95% confidence interval\n",
    "    hats += [hat]\n",
    "    stderrs += [stderr]\n",
    "    cov += [(ci[0] <= delta) & (delta <= ci[1])] # 1 if CI contains the true parameter"
   ]
  },
  {
   "cell_type": "code",
   "execution_count": 35,
   "id": "535ff01b",
   "metadata": {
    "colab": {
     "base_uri": "https://localhost:8080/"
    },
    "id": "535ff01b",
    "outputId": "f0f2f5a8-3989-48d6-944b-8d397ab4b790"
   },
   "outputs": [
    {
     "data": {
      "text/plain": [
       "0.25"
      ]
     },
     "execution_count": 35,
     "metadata": {},
     "output_type": "execute_result"
    }
   ],
   "source": [
    "np.mean(cov)"
   ]
  },
  {
   "cell_type": "code",
   "execution_count": 36,
   "id": "e1a42254",
   "metadata": {
    "colab": {
     "base_uri": "https://localhost:8080/",
     "height": 432
    },
    "id": "e1a42254",
    "outputId": "c321006c-0e33-4522-b4d5-c8f0cc8c02fd"
   },
   "outputs": [
    {
     "data": {
      "image/png": "[encoded data removed]",
      "text/plain": [
       "<Figure size 432x288 with 1 Axes>"
      ]
     },
     "metadata": {
      "needs_background": "light"
     },
     "output_type": "display_data"
    }
   ],
   "source": [
    "plt.hist(hats)\n",
    "plt.show()"
   ]
  },
  {
   "cell_type": "code",
   "execution_count": 37,
   "id": "7c1cfa87",
   "metadata": {
    "colab": {
     "base_uri": "https://localhost:8080/"
    },
    "id": "7c1cfa87",
    "outputId": "88573ba9-1bc6-422d-db2f-799f52b82ce1"
   },
   "outputs": [
    {
     "data": {
      "text/plain": [
       "0.6938206016054842"
      ]
     },
     "execution_count": 37,
     "metadata": {},
     "output_type": "execute_result"
    }
   ],
   "source": [
    "np.mean(hats) # ols is heavily biased... mean of estimates very far from delta=1"
   ]
  },
  {
   "cell_type": "code",
   "execution_count": 38,
   "id": "442740a1",
   "metadata": {
    "colab": {
     "base_uri": "https://localhost:8080/"
    },
    "id": "442740a1",
    "outputId": "b03b977d-f979-4ce2-aed3-74c53aa08adc"
   },
   "outputs": [
    {
     "data": {
      "text/plain": [
       "0.20518288022023742"
      ]
     },
     "execution_count": 38,
     "metadata": {},
     "output_type": "execute_result"
    }
   ],
   "source": [
    "np.std(hats)"
   ]
  },
  {
   "cell_type": "code",
   "execution_count": 39,
   "id": "cc4d40e2",
   "metadata": {
    "colab": {
     "base_uri": "https://localhost:8080/"
    },
    "id": "cc4d40e2",
    "outputId": "490c5e82-2540-422a-9b2f-797bfaece626"
   },
   "outputs": [
    {
     "data": {
      "text/plain": [
       "0.09880241355078309"
      ]
     },
     "execution_count": 39,
     "metadata": {},
     "output_type": "execute_result"
    }
   ],
   "source": [
    "np.mean(stderrs) # standard error severely under estimates the variance of the estimate; all this is due to overfitting"
   ]
  },
  {
   "cell_type": "code",
   "execution_count": 42,
   "id": "9e0a09f9",
   "metadata": {
    "colab": {
     "base_uri": "https://localhost:8080/"
    },
    "id": "9e0a09f9",
    "outputId": "f4b8c82d-ca43-46f1-e5a1-f2063ea41f6f"
   },
   "outputs": [
    {
     "name": "stderr",
     "output_type": "stream",
     "text": [
      "[Parallel(n_jobs=-1)]: Using backend LokyBackend with 16 concurrent workers.\n",
      "[Parallel(n_jobs=-1)]: Done 160 tasks      | elapsed:    2.4s\n",
      "[Parallel(n_jobs=-1)]: Done 480 tasks      | elapsed:    7.1s\n",
      "[Parallel(n_jobs=-1)]: Done 928 tasks      | elapsed:   13.7s\n",
      "[Parallel(n_jobs=-1)]: Done 1000 out of 1000 | elapsed:   14.7s finished\n"
     ]
    }
   ],
   "source": [
    "# Now let's try the double Lasso. Because it's computationally expensive\n",
    "# we'll do the experiments in parallel. Python makes parallelism very simple\n",
    "from joblib import Parallel, delayed # we import these two functions\n",
    "\n",
    "# we wrap our experiment process in a function, which is supposed to run a\n",
    "# a single experiment\n",
    "def exp(it, n, d):\n",
    "    np.random.seed(it) # we draw a different seed for each experiment\n",
    "    y, D, X = gen_data(n, d, .2, delta, base) # we generate data\n",
    "    hat, stderr = double_lasso(y, D, X) # we apply the double lasso process\n",
    "    ci = [hat - 1.96 * stderr, hat + 1.96 * stderr]\n",
    "    # return estimate, standard error and (1 if CI contains the true parameter)\n",
    "    return hat, stderr, (ci[0] <= delta) & (delta <= ci[1])\n",
    "\n",
    "# Now here is how you run any function in parallel multiple times\n",
    "# It's a simple parallel for loop.\n",
    "res = Parallel(n_jobs=-1, verbose=3)(delayed(exp)(it, n, d) for it in range(100))"
   ]
  },
  {
   "cell_type": "code",
   "execution_count": 43,
   "id": "45cdfbba",
   "metadata": {
    "id": "45cdfbba"
   },
   "outputs": [],
   "source": [
    "# This simply takes the list of triples and turns it into a triple of lists :)\n",
    "# good trick to know\n",
    "hats, stderrs, cov = zip(*res)"
   ]
  },
  {
   "cell_type": "code",
   "execution_count": 44,
   "id": "48544788",
   "metadata": {
    "colab": {
     "base_uri": "https://localhost:8080/"
    },
    "id": "48544788",
    "outputId": "750e85ce-a7c4-4a60-e56b-67f7a08f27fc"
   },
   "outputs": [
    {
     "data": {
      "text/plain": [
       "0.902"
      ]
     },
     "execution_count": 44,
     "metadata": {},
     "output_type": "execute_result"
    }
   ],
   "source": [
    "np.mean(cov) # much better coverage than OLS"
   ]
  },
  {
   "cell_type": "code",
   "execution_count": 45,
   "id": "58334e8e",
   "metadata": {
    "colab": {
     "base_uri": "https://localhost:8080/",
     "height": 432
    },
    "id": "58334e8e",
    "outputId": "438a5cc3-f62b-40c7-b69d-b7c8aa90c3ff"
   },
   "outputs": [
    {
     "data": {
      "image/png": "[encoded data removed]",
      "text/plain": [
       "<Figure size 432x288 with 1 Axes>"
      ]
     },
     "metadata": {
      "needs_background": "light"
     },
     "output_type": "display_data"
    }
   ],
   "source": [
    "plt.hist(hats)\n",
    "plt.show()"
   ]
  },
  {
   "cell_type": "code",
   "execution_count": 46,
   "id": "1fc08ca4",
   "metadata": {
    "colab": {
     "base_uri": "https://localhost:8080/"
    },
    "id": "1fc08ca4",
    "outputId": "98458f5c-1bb8-458c-a013-ecfd316eab75"
   },
   "outputs": [
    {
     "data": {
      "text/plain": [
       "0.9865520389720975"
      ]
     },
     "execution_count": 46,
     "metadata": {},
     "output_type": "execute_result"
    }
   ],
   "source": [
    "np.mean(hats) # much closer to 1... (almost the same as two-means)"
   ]
  },
  {
   "cell_type": "code",
   "execution_count": 47,
   "id": "2194a541",
   "metadata": {
    "colab": {
     "base_uri": "https://localhost:8080/"
    },
    "id": "2194a541",
    "outputId": "50a391e2-af8c-4f19-9e9c-efa9a09e52d5"
   },
   "outputs": [
    {
     "data": {
      "text/plain": [
       "0.03869389209484647"
      ]
     },
     "execution_count": 47,
     "metadata": {},
     "output_type": "execute_result"
    }
   ],
   "source": [
    "np.std(hats) # standard deviation much smaller than two means, which did not adjust for X"
   ]
  },
  {
   "cell_type": "code",
   "execution_count": 48,
   "id": "be61450d",
   "metadata": {
    "colab": {
     "base_uri": "https://localhost:8080/"
    },
    "id": "be61450d",
    "outputId": "1ec78e90-86c0-4c03-8338-2d4769d33cfb"
   },
   "outputs": [
    {
     "data": {
      "text/plain": [
       "0.03332286709942897"
      ]
     },
     "execution_count": 48,
     "metadata": {},
     "output_type": "execute_result"
    }
   ],
   "source": [
    "np.mean(stderrs) # and close to the calculate standard errors; we correctly estimated uncertainty"
   ]
  },
  {
   "cell_type": "code",
   "execution_count": 49,
   "id": "394859c2",
   "metadata": {
    "colab": {
     "base_uri": "https://localhost:8080/"
    },
    "id": "394859c2",
    "outputId": "5388d37f-d0a4-47c5-c449-99fc005637c0"
   },
   "outputs": [
    {
     "name": "stderr",
     "output_type": "stream",
     "text": [
      "[Parallel(n_jobs=-1)]: Using backend LokyBackend with 16 concurrent workers.\n",
      "[Parallel(n_jobs=-1)]: Done 100 out of 100 | elapsed:    5.7s finished\n"
     ]
    }
   ],
   "source": [
    "# Let's see what would happen if we just run a single lasso\n",
    "from joblib import Parallel, delayed\n",
    "\n",
    "def exp(it, n, d):\n",
    "    np.random.seed(it)\n",
    "    y, D, X = gen_data(n, d, .2, delta, base)\n",
    "    hat = RLasso().fit(np.hstack([D.reshape(-1, 1), X]), y).coef_[0]\n",
    "    return hat # no obvious way to account for uncertainty\n",
    "\n",
    "res = Parallel(n_jobs=-1, verbose=3)(delayed(exp)(it, n, d) for it in range(100))"
   ]
  },
  {
   "cell_type": "code",
   "execution_count": 50,
   "id": "893d95ba",
   "metadata": {
    "colab": {
     "base_uri": "https://localhost:8080/",
     "height": 430
    },
    "id": "893d95ba",
    "outputId": "c5eecdda-f911-458b-f2c2-062f17b5a203"
   },
   "outputs": [
    {
     "data": {
      "image/png": "[encoded data removed]",
      "text/plain": [
       "<Figure size 432x288 with 1 Axes>"
      ]
     },
     "metadata": {
      "needs_background": "light"
     },
     "output_type": "display_data"
    }
   ],
   "source": [
    "plt.hist(res)\n",
    "plt.show()"
   ]
  },
  {
   "cell_type": "code",
   "execution_count": 51,
   "id": "f1711931",
   "metadata": {
    "colab": {
     "base_uri": "https://localhost:8080/"
    },
    "id": "f1711931",
    "outputId": "3fa3eb3c-bc14-4379-f603-530ce51224d0"
   },
   "outputs": [
    {
     "data": {
      "text/plain": [
       "(0.050475677805303154, 0.028884200739207198)"
      ]
     },
     "execution_count": 51,
     "metadata": {},
     "output_type": "execute_result"
    }
   ],
   "source": [
    "# bias is comparable and larger than standard deviation.\n",
    "# Even if we could estimate the standard deviation, confidence intervals would undercover\n",
    "1 - np.mean(res), np.std(res)"
   ]
  },
  {
   "cell_type": "code",
   "execution_count": 35,
   "id": "3fb42054",
   "metadata": {
    "colab": {
     "base_uri": "https://localhost:8080/"
    },
    "id": "3fb42054",
    "outputId": "b1c0d393-88de-4b55-e707-e2907c02b65c"
   },
   "outputs": [
    {
     "name": "stderr",
     "output_type": "stream",
     "text": [
      "[Parallel(n_jobs=-1)]: Using backend LokyBackend with 2 concurrent workers.\n",
      "[Parallel(n_jobs=-1)]: Done  52 tasks      | elapsed:    4.1s\n",
      "[Parallel(n_jobs=-1)]: Done 100 out of 100 | elapsed:    8.5s finished\n"
     ]
    }
   ],
   "source": [
    "# Let's try adding a post-Lasso OLS step and construct confidence\n",
    "# intervals ignoring the Lasso step\n",
    "from joblib import Parallel, delayed\n",
    "\n",
    "def exp(it, n, d):\n",
    "    np.random.seed(it)\n",
    "    y, D, X = gen_data(n, d, .2, delta, base)\n",
    "    # run a big lasso y ~ D, X\n",
    "    DX = np.hstack([D.reshape(-1, 1), X])\n",
    "    coefs = RLasso().fit(DX, y).coef_[1:]\n",
    "    # run OLS on y ~ D, X[chosen by lasso]\n",
    "    # calculate standard error as if lasso step never happened\n",
    "    hat, stderr = partialling_out(y, D - np.mean(D), X[:, np.abs(coefs)>0.0])\n",
    "    ci = [hat - 1.96 * stderr, hat + 1.96 * stderr]\n",
    "    return hat, stderr, (ci[0] <= delta) & (delta <= ci[1])\n",
    "\n",
    "res = Parallel(n_jobs=-1, verbose=3)(delayed(exp)(it, n, d) for it in range(100))"
   ]
  },
  {
   "cell_type": "code",
   "execution_count": 36,
   "id": "25303e2a",
   "metadata": {
    "id": "25303e2a"
   },
   "outputs": [],
   "source": [
    "hats, stderrs, cov = zip(*res)"
   ]
  },
  {
   "cell_type": "code",
   "execution_count": 37,
   "id": "68b51670",
   "metadata": {
    "colab": {
     "base_uri": "https://localhost:8080/"
    },
    "id": "68b51670",
    "outputId": "6d1b9d7b-fef6-4690-8f9c-c88410e3cec1"
   },
   "outputs": [
    {
     "data": {
      "text/plain": [
       "0.84"
      ]
     },
     "execution_count": 37,
     "metadata": {},
     "output_type": "execute_result"
    }
   ],
   "source": [
    "np.mean(cov) # not bad"
   ]
  },
  {
   "cell_type": "code",
   "execution_count": 38,
   "id": "f538442b",
   "metadata": {
    "colab": {
     "base_uri": "https://localhost:8080/",
     "height": 430
    },
    "id": "f538442b",
    "outputId": "ba100383-f26e-4383-a964-e7e92d04df94"
   },
   "outputs": [
    {
     "data": {
      "image/png": "[encoded data removed]",
      "text/plain": [
       "<Figure size 640x480 with 1 Axes>"
      ]
     },
     "metadata": {},
     "output_type": "display_data"
    }
   ],
   "source": [
    "plt.hist(hats)\n",
    "plt.show()"
   ]
  },
  {
   "cell_type": "code",
   "execution_count": 39,
   "id": "3c71cd7d",
   "metadata": {
    "colab": {
     "base_uri": "https://localhost:8080/"
    },
    "id": "3c71cd7d",
    "outputId": "4d0a018f-0a5e-4906-9711-c53a980b5d44"
   },
   "outputs": [
    {
     "data": {
      "text/plain": [
       "(0.010426863603987369, 0.02935721315771419)"
      ]
     },
     "execution_count": 39,
     "metadata": {},
     "output_type": "execute_result"
    }
   ],
   "source": [
    "1 - np.mean(hats), np.std(hats) # quite un-biased; bias < standard deviation"
   ]
  },
  {
   "cell_type": "code",
   "execution_count": 40,
   "id": "b74cf552",
   "metadata": {
    "colab": {
     "base_uri": "https://localhost:8080/"
    },
    "id": "b74cf552",
    "outputId": "d518c2b3-b124-4034-930a-fe74e3922b48"
   },
   "outputs": [
    {
     "data": {
      "text/plain": [
       "0.021836912547711952"
      ]
     },
     "execution_count": 40,
     "metadata": {},
     "output_type": "execute_result"
    }
   ],
   "source": [
    "# we under-estimated a bit the uncertainty; smaller estimated stderr than true std.\n",
    "# this is most prob a finite sample error, from ignoring the lasso variable selection step\n",
    "# this is an RCT and so even post lasso ols is Neyman orthogonal. We should expect good behavior.\n",
    "np.mean(stderrs)"
   ]
  },
  {
   "cell_type": "code",
   "execution_count": 41,
   "id": "b0eeedd3",
   "metadata": {
    "id": "b0eeedd3"
   },
   "outputs": [],
   "source": [
    "# But what if we are not in an RCT!?\n",
    "import scipy.special\n",
    "def gen_data(n, d, p, delta, base):\n",
    "    X = np.random.normal(0, 1, size=(n, d))\n",
    "    D = X[:, 0] + np.random.normal(0, 1/4, size=(n,))\n",
    "    y = delta * D + base - X[:, 0] + np.random.normal(0, 1, size=(n,))\n",
    "    return y, D, X"
   ]
  },
  {
   "cell_type": "code",
   "execution_count": 42,
   "id": "dd843f2e",
   "metadata": {
    "colab": {
     "base_uri": "https://localhost:8080/"
    },
    "id": "dd843f2e",
    "outputId": "ca8c49f9-57da-48f8-d11c-413ac4c8ff0d"
   },
   "outputs": [
    {
     "name": "stderr",
     "output_type": "stream",
     "text": [
      "[Parallel(n_jobs=-1)]: Using backend LokyBackend with 2 concurrent workers.\n",
      "[Parallel(n_jobs=-1)]: Done  28 tasks      | elapsed:    6.9s\n",
      "[Parallel(n_jobs=-1)]: Done 100 out of 100 | elapsed:   19.2s finished\n"
     ]
    }
   ],
   "source": [
    "from joblib import Parallel, delayed\n",
    "\n",
    "def exp(it, n, d):\n",
    "    np.random.seed(it)\n",
    "    y, D, X = gen_data(n, d, .2, delta, base)\n",
    "    DX = np.hstack([D.reshape(-1, 1), X])\n",
    "    coefs = RLasso().fit(DX, y).coef_[1:]\n",
    "    hat, stderr = partialling_out(y, D, X[:, np.abs(coefs)>0.0])\n",
    "    ci = [hat - 1.96 * stderr, hat + 1.96 * stderr]\n",
    "    return hat, stderr, (ci[0] <= delta) & (delta <= ci[1])\n",
    "\n",
    "res = Parallel(n_jobs=-1, verbose=3)(delayed(exp)(it, n, d) for it in range(100))"
   ]
  },
  {
   "cell_type": "code",
   "execution_count": 43,
   "id": "26f93c1e",
   "metadata": {
    "id": "26f93c1e"
   },
   "outputs": [],
   "source": [
    "hats, stderrs, cov = zip(*res)"
   ]
  },
  {
   "cell_type": "code",
   "execution_count": 44,
   "id": "b30e1d54",
   "metadata": {
    "colab": {
     "base_uri": "https://localhost:8080/"
    },
    "id": "b30e1d54",
    "outputId": "df7e2844-9259-452c-c246-0c7b1e247273"
   },
   "outputs": [
    {
     "data": {
      "text/plain": [
       "0.06"
      ]
     },
     "execution_count": 44,
     "metadata": {},
     "output_type": "execute_result"
    }
   ],
   "source": [
    "np.mean(cov) # Oops! Post Lasso OLS severely undercovers; It is not Neyman orthogonal when D is correlated with X"
   ]
  },
  {
   "cell_type": "code",
   "execution_count": 45,
   "id": "ea9e640f",
   "metadata": {
    "colab": {
     "base_uri": "https://localhost:8080/",
     "height": 430
    },
    "id": "ea9e640f",
    "outputId": "e0e9741d-916b-491f-9ee2-08b019e9eabe"
   },
   "outputs": [
    {
     "data": {
      "image/png": "[encoded data removed]",
      "text/plain": [
       "<Figure size 640x480 with 1 Axes>"
      ]
     },
     "metadata": {},
     "output_type": "display_data"
    }
   ],
   "source": [
    "plt.hist(hats)\n",
    "plt.show()"
   ]
  },
  {
   "cell_type": "code",
   "execution_count": 46,
   "id": "a725e335",
   "metadata": {
    "colab": {
     "base_uri": "https://localhost:8080/"
    },
    "id": "a725e335",
    "outputId": "929ad043-f92d-4dd7-ba82-7bf0efd1bfe5"
   },
   "outputs": [
    {
     "data": {
      "text/plain": [
       "0.13314746199317987"
      ]
     },
     "execution_count": 46,
     "metadata": {},
     "output_type": "execute_result"
    }
   ],
   "source": [
    "np.mean(hats) # very heavily biased"
   ]
  },
  {
   "cell_type": "code",
   "execution_count": 47,
   "id": "5d52c197",
   "metadata": {
    "colab": {
     "base_uri": "https://localhost:8080/"
    },
    "id": "5d52c197",
    "outputId": "7910ee9d-d595-4931-dc61-7f8f22b42949"
   },
   "outputs": [
    {
     "name": "stderr",
     "output_type": "stream",
     "text": [
      "[Parallel(n_jobs=-1)]: Using backend LokyBackend with 2 concurrent workers.\n",
      "[Parallel(n_jobs=-1)]: Done  28 tasks      | elapsed:    4.8s\n",
      "[Parallel(n_jobs=-1)]: Done 100 out of 100 | elapsed:   18.0s finished\n"
     ]
    }
   ],
   "source": [
    "# But let's try the Neyman orthogonal Double Lasso\n",
    "from joblib import Parallel, delayed\n",
    "\n",
    "def exp(it, n, d):\n",
    "    np.random.seed(it)\n",
    "    y, D, X = gen_data(n, d, .2, delta, base)\n",
    "    hat, stderr = double_lasso(y, D, X) # we apply the double lasso process\n",
    "    ci = [hat - 1.96 * stderr, hat + 1.96 * stderr]\n",
    "    return hat, stderr, (ci[0] <= delta) & (delta <= ci[1])\n",
    "\n",
    "res = Parallel(n_jobs=-1, verbose=3)(delayed(exp)(it, n, d) for it in range(100))\n",
    "hats, stderrs, cov = zip(*res)"
   ]
  },
  {
   "cell_type": "code",
   "execution_count": 48,
   "id": "3c289eb3",
   "metadata": {
    "colab": {
     "base_uri": "https://localhost:8080/"
    },
    "id": "3c289eb3",
    "outputId": "54e199e3-648b-4c35-8e36-333d2d6d5884"
   },
   "outputs": [
    {
     "data": {
      "text/plain": [
       "0.92"
      ]
     },
     "execution_count": 48,
     "metadata": {},
     "output_type": "execute_result"
    }
   ],
   "source": [
    "np.mean(cov) # great coverage"
   ]
  },
  {
   "cell_type": "code",
   "execution_count": 49,
   "id": "add24767",
   "metadata": {
    "colab": {
     "base_uri": "https://localhost:8080/"
    },
    "id": "add24767",
    "outputId": "c370bda4-b14f-4b7c-f78a-625d1f630b3c"
   },
   "outputs": [
    {
     "data": {
      "text/plain": [
       "(-0.012935262655555224, 0.4208056138818759)"
      ]
     },
     "execution_count": 49,
     "metadata": {},
     "output_type": "execute_result"
    }
   ],
   "source": [
    "1 - np.mean(hats), np.std(hats) # very small bias compared to standard deviation"
   ]
  },
  {
   "cell_type": "code",
   "execution_count": 50,
   "id": "8a89f4c7",
   "metadata": {
    "colab": {
     "base_uri": "https://localhost:8080/"
    },
    "id": "8a89f4c7",
    "outputId": "66511a7d-aac1-4d63-b579-a4c5fdb06d9f"
   },
   "outputs": [
    {
     "data": {
      "text/plain": [
       "0.3910698115940304"
      ]
     },
     "execution_count": 50,
     "metadata": {},
     "output_type": "execute_result"
    }
   ],
   "source": [
    "np.mean(stderrs) # accurate estimation of uncertainty"
   ]
  },
  {
   "cell_type": "code",
   "execution_count": 51,
   "id": "d33463a5",
   "metadata": {
    "colab": {
     "base_uri": "https://localhost:8080/",
     "height": 430
    },
    "id": "d33463a5",
    "outputId": "695467f5-ba41-4704-c55c-938cb2cf7d3e"
   },
   "outputs": [
    {
     "data": {
      "image/png": "[encoded data removed]",
      "text/plain": [
       "<Figure size 640x480 with 1 Axes>"
      ]
     },
     "metadata": {},
     "output_type": "display_data"
    }
   ],
   "source": [
    "# Approximately normal distribution of estimates, centered at the truth\n",
    "plt.hist(hats)\n",
    "plt.show()"
   ]
  },
  {
   "cell_type": "code",
   "execution_count": 51,
   "id": "e3ae78ae",
   "metadata": {
    "id": "e3ae78ae"
   },
   "outputs": [],
   "source": []
  }
 ],
 "metadata": {
  "colab": {
   "provenance": []
  },
  "kernelspec": {
   "display_name": "Python 3 (ipykernel)",
   "language": "python",
   "name": "python3"
  },
  "language_info": {
   "codemirror_mode": {
    "name": "ipython",
    "version": 3
   },
   "file_extension": ".py",
   "mimetype": "text/x-python",
   "name": "python",
   "nbconvert_exporter": "python",
   "pygments_lexer": "ipython3",
   "version": "3.9.7"
  }
 },
 "nbformat": 4,
 "nbformat_minor": 5
}
