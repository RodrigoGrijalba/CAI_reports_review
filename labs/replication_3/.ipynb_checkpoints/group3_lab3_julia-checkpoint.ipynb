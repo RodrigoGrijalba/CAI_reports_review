{
 "cells": [
  {
   "cell_type": "markdown",
   "id": "28f9905a",
   "metadata": {},
   "source": [
    "# Workgroup 3\n",
    "\n",
    "**Group 3**: Valerie Dube, Erzo Garay, Juan Marcos Guerrero y Matías Villalba,"
   ]
  },
  {
   "cell_type": "markdown",
   "id": "7ec3854f",
   "metadata": {},
   "source": [
    "## 1. Neyman Orthogonality Proof"
   ]
  },
  {
   "cell_type": "markdown",
   "id": "79b7695f",
   "metadata": {},
   "source": [
    "$Y_{nx1}=\\alpha D_{nx1}+W_{nxp}\\beta_{px1}+\\epsilon_{nx1}\\\\\n",
    "\\widetilde{Y}_{nx1}=Y_{nx1}-W_{nxp}X_{{{Yw}_{px1}}}\\\\\n",
    "\\widetilde{D}_{nx1}=D_{nx1}-W_{nxp}X_{{{Dw}_{px1}}}\\\\\n",
    "W=Matrix\\ composed\\ by\\ one\\ variable\\ in\\ each\\ column\\\\\n",
    "X=Vector\\ of\\ coefficients\\\\\n",
    "n=N° observations\\\\\n",
    "p=N° confounders \\\\\\ \n",
    "\\\\\\\n",
    "\\\\\\\n",
    "M(a,\\eta)=E[(\\widetilde{Y}_{nx1}(\\eta_{1})-a\\widetilde{D}(\\eta_{2})_{nx1})'(\\widetilde{D}(\\eta_{2})_{nx1})]=0\\\\\n",
    "\\frac{\\partial a}{\\partial \\eta}=-[\\frac{\\partial M}{\\partial a}(\\alpha,\\eta_{0})]^{-1}[\\frac{\\partial M}{\\partial \\eta}(\\alpha,\\eta_{0})]\\\\\n",
    "\\frac{\\partial M}{\\partial \\eta}(\\alpha,\\eta_{0})=\\frac{\\partial M}{\\partial \\eta_{1}}(\\alpha,X_{Yw},X_{Dw})+\\frac{\\partial M}{\\partial \\eta_{2}}(\\alpha,X_{Yw},X_{Dw})\\\\\n",
    "S_{1}=\\frac{\\partial M}{\\partial \\eta_{1}}(\\alpha,X_{Yw},X_{Dw})  ,  S_{2}=\\frac{\\partial M}{\\partial \\eta_{2}}(\\alpha,X_{Yw},X_{Dw})$\n"
   ]
  },
  {
   "cell_type": "markdown",
   "id": "917d3242",
   "metadata": {},
   "source": [
    "# Demonstration 1:             "
   ]
  },
  {
   "cell_type": "markdown",
   "id": "d45a5a21",
   "metadata": {},
   "source": [
    "$Given\\ the\\ general\\ formula\\,\\ before\\ using\\  (\\alpha,X_{Yw},X_{Dw}): \\widetilde{Y}_{nx1}=Y_{nx1}-W_{nxp}\\eta_{{{1}_{px1}}}  ,\\ \\widetilde{D}_{nx1}=D_{nx1}-W_{nxp}\\eta_{{{2}_{px1}}}: \\\\\\\n",
    "\\\\\\\n",
    "S_{1}=\\frac{\\partial M}{\\partial \\eta_{1}}|_{(\\alpha,W_{Yw},W_{Dw})}\\\\\\\n",
    "\\\\\\\n",
    "=\\frac{\\partial E[(\\widetilde{Y}_{nx1}(\\eta_{1})-a\\widetilde{D}(\\eta_{2})_{nx1})'(\\widetilde{D}(\\eta_{2})_{nx1})}{\\partial \\eta_{1}}|_{(\\alpha,W_{Yw},W_{Dw})}=\\frac{\\partial E[Y_{nx1}-W_{nxp}\\eta_{{{1}_{px1}}}-aD_{nx1}+aW_{nxp}\\eta_{{{2}_{px1}}})'(D_{nx1}-W_{nxp}\\eta_{{{2}_{px1}}})}{\\partial \\eta_{1}}|_{(\\alpha,W_{Yw},W_{Dw})}\\\\\\\n",
    "\\\\\\\n",
    "Substituting\\ (\\alpha,W_{Yw},W_{Dw})\\ in\\ (a,\\eta_{1},\\eta_{2})\\\\\\\n",
    "\\\\\\\n",
    "=\\frac{\\partial E[(\\widetilde{Y}_{nx1}(\\eta_{1})-a\\widetilde{D}(\\eta_{2})_{nx1})'(\\widetilde{D}(\\eta_{2})_{nx1})]}{\\partial \\eta_{1}}|_{(\\alpha,W_{Yw},W_{Dw})}=E[(W_{nxp})'(D_{nx1}-W_{n*p}\\eta_{{2}_{px1}})]|_{(\\alpha,W_{Yw},W_{Dw})}\\\\\n",
    "=E[(W_{nxp})'(D_{nx1}-W_{n*p}X_{{{Dw}_{px1}}})]\\\\\n",
    "=E[W'_{pxn}D_{nx1}-W'_{pxn}W_{nxp}(W'_{pxn}W_{nxp})^{-1}(W'_{pxn}D_{nx1})]\\\\\n",
    "=E[W'_{pxn}D_{nx1}-I_{pxp}(W'_{pxn}D_{nx1})]=E[W'_{pxn}D_{nx1}-W'_{pxn}D_{nx1}]=E[0]\\\\\n",
    "S_{1}=0$"
   ]
  },
  {
   "cell_type": "markdown",
   "id": "c5c0ec4a",
   "metadata": {},
   "source": [
    "# Demonstration 2: "
   ]
  },
  {
   "cell_type": "markdown",
   "id": "92247adc",
   "metadata": {},
   "source": [
    "$Given\\ the\\ general\\ formula\\,\\ before\\ using\\  (\\alpha,X_{Yw},X_{Dw}): \\widetilde{Y}_{nx1}=y_{nx1}-W_{nxp}\\eta_{{{1}_{px1}}}  ,\\ \\widetilde{D}_{nx1}=D_{nx1}-W_{nxp}\\eta_{{{2}_{px1}}}\\\\\\\n",
    "\\\\\\\n",
    "S_{2}=\\frac{\\partial M}{\\partial \\eta_{2}}|_{(\\alpha,W_{Yw},W_{Dw})}=0\\\\\\\n",
    "\\\\\n",
    "=\\frac{\\partial E[(\\widetilde{Y}_{nx1}(\\eta_{1})-a\\widetilde{D}(\\eta_{2})_{nx1})'(\\widetilde{D}(\\eta_{2})_{nx1})}{\\partial \\eta_{2}}|_{(\\alpha,W_{Yw},W_{Dw})}=\\frac{\\partial E[Y_{nx1}-W_{nxp}\\eta_{{{1}_{px1}}}-aD_{nx1}+aW_{nxp}\\eta_{{{2}_{px1}}})'(D_{nx1}-W_{nxp}\\eta_{{{2}_{px1}}})}{\\partial \\eta_{2}}|_{(\\alpha,W_{Yw},W_{Dw})}\\\\\n",
    "=\\frac{\\partial E[-Y_{1xn}'W_{nxp}\\eta_{{2}_{px1}}+\\eta'_{{1}_{1xn}}W'_{pxn}W_{pxn}\\eta_{{2}_{px1}}+aD'_{1xn}W_{nxp}\\eta_{{2}_{px1}}+a\\eta'_{{2}_{1xp}}W'_{pxn}D_{nx1}-a\\eta'_{{2}_{1xp}}W'_{pxn}W_{nxp}\\eta_{{2}_{px1}}]}{\\partial \\eta_{2}}|_{(\\alpha,W_{Yw},W_{Dw})}\\\\\n",
    "=E[-W'_{pxn}Y_{nx1}+W'_{pxn}W_{nxp}\\eta_{{1}_{px1}}+aW'_{pxn}D_{nx1}+aW'_{pxn}D_{nx1}-aW'_{pxn}W_{nxp}\\eta_{{2}_{px1}}-aW'_{pxn}W_{nxp}\\eta_{{2}_{px1}}]|_{(\\alpha,W_{Yw},W_{Dw})}\\\\\\\n",
    "\\\\\\\n",
    "Substituting\\ (\\alpha,W_{Yw},W_{Dw})\\ in\\ (a,\\eta_{1},\\eta_{2})\\\\\\\n",
    "\\\\\n",
    "=E[-W'_{pxn}Y_{nx1}+W'_{pxn}W_{nxp}X_{{{yw}_{px1}}}+\\alpha W'_{pxn}D_{nx1}+\\alpha W'_{pxn}D_{nx1}-\\alpha W'_{pxn}W_{nxp}X_{{{Dw}_{px1}}}-\\alpha W'_{pxn}W_{nxp}X_{{{Dw}_{px1}}}]\\\\\n",
    "=E[-W'_{pxn}Y_{nx1}+W'_{pxn}W_{nxp}(W'_{pxn}W_{nxp})^{-1}(W'_{pxn}Y_{nx1})+\\alpha W'_{pxn}D_{nx1}+\\alpha W'_{pxn}D_{nx1}-\\alpha W'_{pxn}W_{nxp}(W'_{pxn}W_{nxp})^{-1}(W'_{pxn}D_{nx1})-\\alpha W'_{pxn}W_{nxp}(W'_{pxn}W_{nxp})^{-1}(W'_{pxn}D_{nx1})]\\\\\n",
    "=E[-W'_{pxn}Y_{nx1}+-W'_{pxn}Y_{nx1}+\\alpha W'_{pxn}D_{nx1}+\\alpha W'_{pxn}D_{nx1}-\\alpha W'_{pxn}D_{nx1}-\\alpha W'_{pxn}D_{nx1}]=E[0]=0\\\\\n",
    "S_{2}=0$\n"
   ]
  },
  {
   "cell_type": "markdown",
   "id": "27bcd963",
   "metadata": {},
   "source": [
    "## 2. Code Section"
   ]
  },
  {
   "cell_type": "markdown",
   "id": "f41ff1c3",
   "metadata": {},
   "source": [
    "### 2.1. Orthogonal Learning"
   ]
  },
  {
   "cell_type": "markdown",
   "id": "494a0c37",
   "metadata": {},
   "source": []
  },
  {
   "cell_type": "markdown",
   "id": "87765d7b",
   "metadata": {},
   "source": [
    "### 2.2. Double Lasso - Using School data"
   ]
  },
  {
   "cell_type": "code",
   "execution_count": null,
   "id": "c01fcb06",
   "metadata": {},
   "outputs": [],
   "source": []
  }
 ],
 "metadata": {
  "kernelspec": {
   "display_name": "Julia 1.10.2",
   "language": "julia",
   "name": "julia-1.10"
  },
  "language_info": {
   "file_extension": ".jl",
   "mimetype": "application/julia",
   "name": "julia",
   "version": "1.10.2"
  }
 },
 "nbformat": 4,
 "nbformat_minor": 5
}
