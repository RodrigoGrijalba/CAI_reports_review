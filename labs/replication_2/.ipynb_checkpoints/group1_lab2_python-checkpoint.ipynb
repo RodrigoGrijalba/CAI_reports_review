{
 "cells": [
  {
   "cell_type": "code",
   "execution_count": null,
   "id": "7f316393-e35f-4732-96ca-05d4cca80be2",
   "metadata": {},
   "outputs": [],
   "source": [
    "#!pip install numpy pandas statsmodels causalgraphicalmodels\n"
   ]
  },
  {
   "cell_type": "code",
   "execution_count": null,
   "id": "a9cd537d-ab54-4d3f-949f-c5729fde71d1",
   "metadata": {},
   "outputs": [],
   "source": [
    "import pandas as pd, numpy as np, statsmodels.formula.api as smf\n",
    "from causalgraphicalmodels import CausalGraphicalModel\n",
    "from statsmodels.iolib.summary2 import summary_col"
   ]
  },
  {
   "cell_type": "code",
   "execution_count": null,
   "id": "30739836-03a5-4983-8e8d-60e0b813dee3",
   "metadata": {},
   "outputs": [],
   "source": [
    "sprinkler = CausalGraphicalModel(nodes=[\"Z\",\"Y\",\"X\"],\n",
    "                                 edges=[(\"Z\",\"Y\"),\n",
    "                                        (\"Z\",\"X\"),\n",
    "                                        (\"X\",\"Y\")])\n",
    "sprinkler.draw()"
   ]
  },
  {
   "cell_type": "code",
   "execution_count": null,
   "id": "80f57b21-88a8-4193-9c7c-b047f2efcd82",
   "metadata": {},
   "outputs": [],
   "source": [
    "# Set Seed to make the results replicable (generating random numbers)\n",
    "np.random.seed(134)     \n",
    "\n",
    "n = 10000                # sample size\n",
    "Z = np.random.normal(0,1, 1000).reshape((1000, 1))  # generate Z, the distribution of the variables do not really matter\n",
    "X = 0.5*Z + np.random.normal(0, 1, 1000).reshape((1000, 1))\n",
    "Y = X + 2*Z + np.random.normal(0, 1, 1000).reshape((1000, 1)) #Real effect is 3.\n",
    "\n",
    "# Create dataframe\n",
    "D = np.hstack((Z, X, Y))\n",
    "data = pd.DataFrame(D, columns = [\"Z\", \"X\", \"Y\"])"
   ]
  },
  {
   "cell_type": "code",
   "execution_count": null,
   "id": "3f7b301b-fc50-44b9-9631-a723b9fafb93",
   "metadata": {},
   "outputs": [],
   "source": []
  }
 ],
 "metadata": {
  "kernelspec": {
   "display_name": "Python 3 (ipykernel)",
   "language": "python",
   "name": "python3"
  },
  "language_info": {
   "name": ""
  }
 },
 "nbformat": 4,
 "nbformat_minor": 5
}
