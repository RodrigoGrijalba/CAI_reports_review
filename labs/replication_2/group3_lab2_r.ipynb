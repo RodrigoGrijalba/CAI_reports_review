{
 "cells": [
  {
   "cell_type": "markdown",
   "metadata": {},
   "source": [
    "Workgroup 2\n",
    "\n",
    "# Potential Outcomes and RCTs\n",
    "\n",
    "#### Group 3: Dube, V., Garay, E. Guerrero, J., Villalba, M."
   ]
  },
  {
   "cell_type": "markdown",
   "metadata": {},
   "source": [
    "## Multicollinearity"
   ]
  },
  {
   "cell_type": "markdown",
   "metadata": {},
   "source": [
    "Multicolinearity occurs when two or more predictors in a regresion model are highly correlated to one another, causing a higher variance our the estimated coefficients. To understand the way multicollinearity affects our regresion we can examine the composition of the variance of our estimates. \n",
    "\n",
    "Considering the partitioned regression model:\n",
    "\n",
    "\\begin{align*}\n",
    "    Y &= X\\beta + \\epsilon \\\\\n",
    "    Y &= X_1\\beta_1 + X_2\\beta_2 + \\epsilon\n",
    "\\end{align*}\n",
    "\n",
    "We know that the OLS estimator will solve this equation:\n",
    "\n",
    "\\begin{align*}\n",
    "(X'X)\\hat{\\beta} &=X'Y \\\\\n",
    "\n",
    "\\begin{bmatrix}\n",
    "  X_1'X_1      & X_1'X_2   \\\\\n",
    "  X_2'X_1      & X_2'X_2 \n",
    "\\end{bmatrix}\n",
    "\\begin{bmatrix}\n",
    "\\hat{\\beta_1} \\\\\n",
    "\\hat{\\beta_2}\n",
    "\\end{bmatrix}\n",
    "& =\n",
    "\\begin{bmatrix}\n",
    "X_1'Y \\\\\n",
    "X_2'Y\n",
    "\\end{bmatrix}\n",
    "\\end{align*}\n",
    "\n",
    "This, because of the Frisch-Whaugh-Lovell Theorem, yields:\n",
    "\n",
    "\\begin{align*}\n",
    "  \\hat{\\beta_1} &= (X_1'M_2X_1)^{-1}X_1'M_2Y\n",
    "\\end{align*}\n",
    "\n",
    "Where $M_2 = I - X_2(X_2'X_2)^{-1}X_2'$, is the orthogonal projection matrix to $X_2$.\n",
    "\n",
    "Note that $M_2$ is symmetric, idempotent, and that any variable premultiplied by it yields the residual from from running $X_2$ on that variable. For an arbitrary variable $Z$:\n",
    "\n",
    "\\begin{align*}\n",
    "  M_2Z &= (I - X_2(X_2'X_2)^{-1}X_2')Z \\\\\n",
    "  &= Z - X_2(X_2'X_2)^{-1}X_2'Z \\\\\n",
    "  &= Z - X_2\\hat{\\omega} \\\\\n",
    "  &= Z - \\hat{Z} \\\\\n",
    "  &= e_{Z}\n",
    "\\end{align*}\n",
    "\n",
    "Where $e_{Z}$ and $\\hat{\\omega} \\equiv (X_2'X_2)^{-1}X_2'Z$ come from the regresion: $$ Z = X_2\\hat{\\omega} + e_{Z}$$\n",
    "\n",
    "In a sense, the $M_2$ matrix cleanses or \"filters out\" our $Z$ variable, keeping only the part which is orthogonal to $X_2$.\n",
    "\n",
    "For $\\hat{\\beta_1}$ this implies (note that $M_2X_2$ yields 0):\n",
    "\n",
    "\\begin{align*}\n",
    "  \\hat{\\beta_1} &= (X_1'M_2X_1)^{-1}X_1'M_2Y \\\\\n",
    "  &= (X_1'M_2X_1)^{-1}X_1'M_2(X_1\\beta_1 + X_2\\beta_2 + \\epsilon) \\\\\n",
    "  &= \\beta_1 + (X_1'M_2X_1)^{-1}X_1'M_2\\epsilon \n",
    "\\end{align*}\n",
    "\n",
    "For the conditional variance of $\\hat{\\beta_1}$ this has great implications:\n",
    "\n",
    "\\begin{align*}\n",
    "  Var(\\hat{\\beta_1}|X) &= Var(\\beta_1 + (X_1'M_2X_1)^{-1}X_1'M_2\\epsilon|X) \\\\\n",
    "  &= Var((X_1'M_2X_1)^{-1}X_1'M_2\\epsilon|X) \\\\\n",
    "  &= E[((X_1'M_2X_1)^{-1}X_1'M_2\\epsilon)((X_1'M_2X_1)^{-1}X_1'M_2\\epsilon)'|X] \\\\\n",
    "  &= E[(X_1'M_2X_1)^{-1}X_1'M_2\\epsilon\\epsilon'M_2'X_1(X_1'M_2'X_1)^{-1}|X] \\\\\n",
    "  &= (X_1'M_2X_1)^{-1}X_1'M_2E[\\epsilon\\epsilon'|X]M_2'X_1(X_1'M_2'X_1)^{-1}\n",
    "\\end{align*}\n",
    "\n",
    "Under the traditional assumption that $E[\\epsilon\\epsilon'|X] = \\sigma^2I$:\n",
    "\n",
    "\\begin{align*}\n",
    " Var(\\hat{\\beta_1}|X) &= \\sigma^2(X_1'M_2X_1)^{-1}X_1'M_2M_2'X_1(X_1'M_2'X_1)^{-1} \\\\\n",
    "&= \\sigma^2(X_1'M_2'X_1)^{-1}\n",
    "\\end{align*}\n",
    "\n",
    "Remembering that the variance of $X_1$ can be decomposed into two positive components:\n",
    "\n",
    "\\begin{align*}\n",
    "  X_1 &= X_2\\alpha + v \\\\\n",
    "  Var(X_1) &= Var(X_2\\alpha) + Var(v) \\\\\n",
    "  Var(X_1) - Var(X_2\\alpha) &= Var(v) \\\\\n",
    "  E[X_1'X_1] - Var(X_2\\alpha) &= E[X_1'M_2'X_1]\n",
    "\\end{align*}\n",
    "\n",
    "Thus, necessarily: $$E[X_1'M_2X_1] \\leq E[X_1'X_1]$$ \n",
    "\n",
    "Altogether this could mean: $$\\sigma_0^2(X_1'X_1)^{-1} \\leq \\sigma^2(X_1'M_2'X_1)^{-1}$$\n",
    "\n",
    "This shows that controlling for $X_2$ in our regresion might in fact increase the variance of $\\hat{\\beta_1}$ by limiting us to the \"usable\" variance of $X_1$ which is orthogonal to $X_2$.\n",
    "\n",
    "Of course, this is without considering that we might need to control for $X_2$ in order to account for potencial endogeneity induced by ommited variables. Thus this racionale only applies clearly when the inclusion of the confounder is \"optional\" (ie. $X_1$ is randomly assigned)."
   ]
  },
  {
   "cell_type": "markdown",
   "metadata": {},
   "source": [
    "### Perfectly collinear regressors example"
   ]
  },
  {
   "cell_type": "code",
   "execution_count": 3,
   "metadata": {
    "vscode": {
     "languageId": "r"
    }
   },
   "outputs": [
    {
     "data": {
      "text/html": [
       "<table class=\"dataframe\">\n",
       "<caption>A matrix: 10 × 9 of type dbl</caption>\n",
       "<tbody>\n",
       "\t<tr><td> 1.262954285</td><td> 0.7635935</td><td>-0.22426789</td><td>-0.2357066</td><td> 1.7579031</td><td> 0.26613736</td><td> 0.35872890</td><td> 0.01915639</td><td>-0.7970895</td></tr>\n",
       "\t<tr><td>-0.326233361</td><td>-0.7990092</td><td> 0.37739565</td><td>-0.5428883</td><td> 0.5607461</td><td>-0.37670272</td><td>-0.01104548</td><td> 0.25733838</td><td> 1.2540831</td></tr>\n",
       "\t<tr><td> 1.329799263</td><td>-1.1476570</td><td> 0.13333636</td><td>-0.4333103</td><td>-0.4527840</td><td> 2.44136463</td><td>-0.94064916</td><td>-0.64901008</td><td> 0.7721422</td></tr>\n",
       "\t<tr><td> 1.272429321</td><td>-0.2894616</td><td> 0.80418951</td><td>-0.6494716</td><td>-0.8320433</td><td>-0.79533912</td><td>-0.11582532</td><td>-0.11916876</td><td>-0.2195156</td></tr>\n",
       "\t<tr><td> 0.414641434</td><td>-0.2992151</td><td>-0.05710677</td><td> 0.7267507</td><td>-1.1665705</td><td>-0.05487747</td><td>-0.81496871</td><td> 0.66413570</td><td>-0.4248103</td></tr>\n",
       "\t<tr><td>-1.539950042</td><td>-0.4115108</td><td> 0.50360797</td><td> 1.1519118</td><td>-1.0655906</td><td> 0.25014132</td><td> 0.24226348</td><td> 1.10096910</td><td>-0.4189801</td></tr>\n",
       "\t<tr><td>-0.928567035</td><td> 0.2522234</td><td> 1.08576936</td><td> 0.9921604</td><td>-1.5637821</td><td> 0.61824329</td><td>-1.42509839</td><td> 0.14377148</td><td> 0.9969869</td></tr>\n",
       "\t<tr><td>-0.294720447</td><td>-0.8919211</td><td>-0.69095384</td><td>-0.4295131</td><td> 1.1565370</td><td>-0.17262350</td><td> 0.36594112</td><td>-0.11775360</td><td>-0.2757780</td></tr>\n",
       "\t<tr><td>-0.005767173</td><td> 0.4356833</td><td>-1.28459935</td><td> 1.2383041</td><td> 0.8320471</td><td>-2.22390027</td><td> 0.24841265</td><td>-0.91206837</td><td> 1.2560188</td></tr>\n",
       "\t<tr><td> 2.404653389</td><td>-1.2375384</td><td> 0.04672617</td><td>-0.2793463</td><td>-0.2273287</td><td>-1.26361438</td><td> 0.06528818</td><td>-1.43758624</td><td> 0.6466744</td></tr>\n",
       "</tbody>\n",
       "</table>\n"
      ],
      "text/latex": [
       "A matrix: 10 × 9 of type dbl\n",
       "\\begin{tabular}{lllllllll}\n",
       "\t  1.262954285 &  0.7635935 & -0.22426789 & -0.2357066 &  1.7579031 &  0.26613736 &  0.35872890 &  0.01915639 & -0.7970895\\\\\n",
       "\t -0.326233361 & -0.7990092 &  0.37739565 & -0.5428883 &  0.5607461 & -0.37670272 & -0.01104548 &  0.25733838 &  1.2540831\\\\\n",
       "\t  1.329799263 & -1.1476570 &  0.13333636 & -0.4333103 & -0.4527840 &  2.44136463 & -0.94064916 & -0.64901008 &  0.7721422\\\\\n",
       "\t  1.272429321 & -0.2894616 &  0.80418951 & -0.6494716 & -0.8320433 & -0.79533912 & -0.11582532 & -0.11916876 & -0.2195156\\\\\n",
       "\t  0.414641434 & -0.2992151 & -0.05710677 &  0.7267507 & -1.1665705 & -0.05487747 & -0.81496871 &  0.66413570 & -0.4248103\\\\\n",
       "\t -1.539950042 & -0.4115108 &  0.50360797 &  1.1519118 & -1.0655906 &  0.25014132 &  0.24226348 &  1.10096910 & -0.4189801\\\\\n",
       "\t -0.928567035 &  0.2522234 &  1.08576936 &  0.9921604 & -1.5637821 &  0.61824329 & -1.42509839 &  0.14377148 &  0.9969869\\\\\n",
       "\t -0.294720447 & -0.8919211 & -0.69095384 & -0.4295131 &  1.1565370 & -0.17262350 &  0.36594112 & -0.11775360 & -0.2757780\\\\\n",
       "\t -0.005767173 &  0.4356833 & -1.28459935 &  1.2383041 &  0.8320471 & -2.22390027 &  0.24841265 & -0.91206837 &  1.2560188\\\\\n",
       "\t  2.404653389 & -1.2375384 &  0.04672617 & -0.2793463 & -0.2273287 & -1.26361438 &  0.06528818 & -1.43758624 &  0.6466744\\\\\n",
       "\\end{tabular}\n"
      ],
      "text/markdown": [
       "\n",
       "A matrix: 10 × 9 of type dbl\n",
       "\n",
       "|  1.262954285 |  0.7635935 | -0.22426789 | -0.2357066 |  1.7579031 |  0.26613736 |  0.35872890 |  0.01915639 | -0.7970895 |\n",
       "| -0.326233361 | -0.7990092 |  0.37739565 | -0.5428883 |  0.5607461 | -0.37670272 | -0.01104548 |  0.25733838 |  1.2540831 |\n",
       "|  1.329799263 | -1.1476570 |  0.13333636 | -0.4333103 | -0.4527840 |  2.44136463 | -0.94064916 | -0.64901008 |  0.7721422 |\n",
       "|  1.272429321 | -0.2894616 |  0.80418951 | -0.6494716 | -0.8320433 | -0.79533912 | -0.11582532 | -0.11916876 | -0.2195156 |\n",
       "|  0.414641434 | -0.2992151 | -0.05710677 |  0.7267507 | -1.1665705 | -0.05487747 | -0.81496871 |  0.66413570 | -0.4248103 |\n",
       "| -1.539950042 | -0.4115108 |  0.50360797 |  1.1519118 | -1.0655906 |  0.25014132 |  0.24226348 |  1.10096910 | -0.4189801 |\n",
       "| -0.928567035 |  0.2522234 |  1.08576936 |  0.9921604 | -1.5637821 |  0.61824329 | -1.42509839 |  0.14377148 |  0.9969869 |\n",
       "| -0.294720447 | -0.8919211 | -0.69095384 | -0.4295131 |  1.1565370 | -0.17262350 |  0.36594112 | -0.11775360 | -0.2757780 |\n",
       "| -0.005767173 |  0.4356833 | -1.28459935 |  1.2383041 |  0.8320471 | -2.22390027 |  0.24841265 | -0.91206837 |  1.2560188 |\n",
       "|  2.404653389 | -1.2375384 |  0.04672617 | -0.2793463 | -0.2273287 | -1.26361438 |  0.06528818 | -1.43758624 |  0.6466744 |\n",
       "\n"
      ],
      "text/plain": [
       "      [,1]         [,2]       [,3]        [,4]       [,5]       [,6]       \n",
       " [1,]  1.262954285  0.7635935 -0.22426789 -0.2357066  1.7579031  0.26613736\n",
       " [2,] -0.326233361 -0.7990092  0.37739565 -0.5428883  0.5607461 -0.37670272\n",
       " [3,]  1.329799263 -1.1476570  0.13333636 -0.4333103 -0.4527840  2.44136463\n",
       " [4,]  1.272429321 -0.2894616  0.80418951 -0.6494716 -0.8320433 -0.79533912\n",
       " [5,]  0.414641434 -0.2992151 -0.05710677  0.7267507 -1.1665705 -0.05487747\n",
       " [6,] -1.539950042 -0.4115108  0.50360797  1.1519118 -1.0655906  0.25014132\n",
       " [7,] -0.928567035  0.2522234  1.08576936  0.9921604 -1.5637821  0.61824329\n",
       " [8,] -0.294720447 -0.8919211 -0.69095384 -0.4295131  1.1565370 -0.17262350\n",
       " [9,] -0.005767173  0.4356833 -1.28459935  1.2383041  0.8320471 -2.22390027\n",
       "[10,]  2.404653389 -1.2375384  0.04672617 -0.2793463 -0.2273287 -1.26361438\n",
       "      [,7]        [,8]        [,9]      \n",
       " [1,]  0.35872890  0.01915639 -0.7970895\n",
       " [2,] -0.01104548  0.25733838  1.2540831\n",
       " [3,] -0.94064916 -0.64901008  0.7721422\n",
       " [4,] -0.11582532 -0.11916876 -0.2195156\n",
       " [5,] -0.81496871  0.66413570 -0.4248103\n",
       " [6,]  0.24226348  1.10096910 -0.4189801\n",
       " [7,] -1.42509839  0.14377148  0.9969869\n",
       " [8,]  0.36594112 -0.11775360 -0.2757780\n",
       " [9,]  0.24841265 -0.91206837  1.2560188\n",
       "[10,]  0.06528818 -1.43758624  0.6466744"
      ]
     },
     "metadata": {},
     "output_type": "display_data"
    }
   ],
   "source": [
    "set.seed(0)\n",
    "matrix <- matrix(rnorm(90), nrow=10, ncol=9)\n",
    "matrix"
   ]
  },
  {
   "cell_type": "code",
   "execution_count": 4,
   "metadata": {
    "vscode": {
     "languageId": "r"
    }
   },
   "outputs": [
    {
     "data": {
      "text/html": [
       "<table class=\"dataframe\">\n",
       "<caption>A matrix: 10 × 10 of type dbl</caption>\n",
       "<tbody>\n",
       "\t<tr><td> 1.262954285</td><td> 0.7635935</td><td>-0.22426789</td><td>-0.2357066</td><td> 1.7579031</td><td> 0.26613736</td><td> 0.35872890</td><td> 0.01915639</td><td>-0.7970895</td><td> 2.2237678</td></tr>\n",
       "\t<tr><td>-0.326233361</td><td>-0.7990092</td><td> 0.37739565</td><td>-0.5428883</td><td> 0.5607461</td><td>-0.37670272</td><td>-0.01104548</td><td> 0.25733838</td><td> 1.2540831</td><td> 1.4885958</td></tr>\n",
       "\t<tr><td> 1.329799263</td><td>-1.1476570</td><td> 0.13333636</td><td>-0.4333103</td><td>-0.4527840</td><td> 2.44136463</td><td>-0.94064916</td><td>-0.64901008</td><td> 0.7721422</td><td> 1.6491575</td></tr>\n",
       "\t<tr><td> 1.272429321</td><td>-0.2894616</td><td> 0.80418951</td><td>-0.6494716</td><td>-0.8320433</td><td>-0.79533912</td><td>-0.11582532</td><td>-0.11916876</td><td>-0.2195156</td><td> 0.2208704</td></tr>\n",
       "\t<tr><td> 0.414641434</td><td>-0.2992151</td><td>-0.05710677</td><td> 0.7267507</td><td>-1.1665705</td><td>-0.05487747</td><td>-0.81496871</td><td> 0.66413570</td><td>-0.4248103</td><td>-1.1767394</td></tr>\n",
       "\t<tr><td>-1.539950042</td><td>-0.4115108</td><td> 0.50360797</td><td> 1.1519118</td><td>-1.0655906</td><td> 0.25014132</td><td> 0.24226348</td><td> 1.10096910</td><td>-0.4189801</td><td>-3.0245207</td></tr>\n",
       "\t<tr><td>-0.928567035</td><td> 0.2522234</td><td> 1.08576936</td><td> 0.9921604</td><td>-1.5637821</td><td> 0.61824329</td><td>-1.42509839</td><td> 0.14377148</td><td> 0.9969869</td><td>-1.4953622</td></tr>\n",
       "\t<tr><td>-0.294720447</td><td>-0.8919211</td><td>-0.69095384</td><td>-0.4295131</td><td> 1.1565370</td><td>-0.17262350</td><td> 0.36594112</td><td>-0.11775360</td><td>-0.2757780</td><td> 0.5860385</td></tr>\n",
       "\t<tr><td>-0.005767173</td><td> 0.4356833</td><td>-1.28459935</td><td> 1.2383041</td><td> 0.8320471</td><td>-2.22390027</td><td> 0.24841265</td><td>-0.91206837</td><td> 1.2560188</td><td> 2.0822988</td></tr>\n",
       "\t<tr><td> 2.404653389</td><td>-1.2375384</td><td> 0.04672617</td><td>-0.2793463</td><td>-0.2273287</td><td>-1.26361438</td><td> 0.06528818</td><td>-1.43758624</td><td> 0.6466744</td><td> 2.8239991</td></tr>\n",
       "</tbody>\n",
       "</table>\n"
      ],
      "text/latex": [
       "A matrix: 10 × 10 of type dbl\n",
       "\\begin{tabular}{llllllllll}\n",
       "\t  1.262954285 &  0.7635935 & -0.22426789 & -0.2357066 &  1.7579031 &  0.26613736 &  0.35872890 &  0.01915639 & -0.7970895 &  2.2237678\\\\\n",
       "\t -0.326233361 & -0.7990092 &  0.37739565 & -0.5428883 &  0.5607461 & -0.37670272 & -0.01104548 &  0.25733838 &  1.2540831 &  1.4885958\\\\\n",
       "\t  1.329799263 & -1.1476570 &  0.13333636 & -0.4333103 & -0.4527840 &  2.44136463 & -0.94064916 & -0.64901008 &  0.7721422 &  1.6491575\\\\\n",
       "\t  1.272429321 & -0.2894616 &  0.80418951 & -0.6494716 & -0.8320433 & -0.79533912 & -0.11582532 & -0.11916876 & -0.2195156 &  0.2208704\\\\\n",
       "\t  0.414641434 & -0.2992151 & -0.05710677 &  0.7267507 & -1.1665705 & -0.05487747 & -0.81496871 &  0.66413570 & -0.4248103 & -1.1767394\\\\\n",
       "\t -1.539950042 & -0.4115108 &  0.50360797 &  1.1519118 & -1.0655906 &  0.25014132 &  0.24226348 &  1.10096910 & -0.4189801 & -3.0245207\\\\\n",
       "\t -0.928567035 &  0.2522234 &  1.08576936 &  0.9921604 & -1.5637821 &  0.61824329 & -1.42509839 &  0.14377148 &  0.9969869 & -1.4953622\\\\\n",
       "\t -0.294720447 & -0.8919211 & -0.69095384 & -0.4295131 &  1.1565370 & -0.17262350 &  0.36594112 & -0.11775360 & -0.2757780 &  0.5860385\\\\\n",
       "\t -0.005767173 &  0.4356833 & -1.28459935 &  1.2383041 &  0.8320471 & -2.22390027 &  0.24841265 & -0.91206837 &  1.2560188 &  2.0822988\\\\\n",
       "\t  2.404653389 & -1.2375384 &  0.04672617 & -0.2793463 & -0.2273287 & -1.26361438 &  0.06528818 & -1.43758624 &  0.6466744 &  2.8239991\\\\\n",
       "\\end{tabular}\n"
      ],
      "text/markdown": [
       "\n",
       "A matrix: 10 × 10 of type dbl\n",
       "\n",
       "|  1.262954285 |  0.7635935 | -0.22426789 | -0.2357066 |  1.7579031 |  0.26613736 |  0.35872890 |  0.01915639 | -0.7970895 |  2.2237678 |\n",
       "| -0.326233361 | -0.7990092 |  0.37739565 | -0.5428883 |  0.5607461 | -0.37670272 | -0.01104548 |  0.25733838 |  1.2540831 |  1.4885958 |\n",
       "|  1.329799263 | -1.1476570 |  0.13333636 | -0.4333103 | -0.4527840 |  2.44136463 | -0.94064916 | -0.64901008 |  0.7721422 |  1.6491575 |\n",
       "|  1.272429321 | -0.2894616 |  0.80418951 | -0.6494716 | -0.8320433 | -0.79533912 | -0.11582532 | -0.11916876 | -0.2195156 |  0.2208704 |\n",
       "|  0.414641434 | -0.2992151 | -0.05710677 |  0.7267507 | -1.1665705 | -0.05487747 | -0.81496871 |  0.66413570 | -0.4248103 | -1.1767394 |\n",
       "| -1.539950042 | -0.4115108 |  0.50360797 |  1.1519118 | -1.0655906 |  0.25014132 |  0.24226348 |  1.10096910 | -0.4189801 | -3.0245207 |\n",
       "| -0.928567035 |  0.2522234 |  1.08576936 |  0.9921604 | -1.5637821 |  0.61824329 | -1.42509839 |  0.14377148 |  0.9969869 | -1.4953622 |\n",
       "| -0.294720447 | -0.8919211 | -0.69095384 | -0.4295131 |  1.1565370 | -0.17262350 |  0.36594112 | -0.11775360 | -0.2757780 |  0.5860385 |\n",
       "| -0.005767173 |  0.4356833 | -1.28459935 |  1.2383041 |  0.8320471 | -2.22390027 |  0.24841265 | -0.91206837 |  1.2560188 |  2.0822988 |\n",
       "|  2.404653389 | -1.2375384 |  0.04672617 | -0.2793463 | -0.2273287 | -1.26361438 |  0.06528818 | -1.43758624 |  0.6466744 |  2.8239991 |\n",
       "\n"
      ],
      "text/plain": [
       "      [,1]         [,2]       [,3]        [,4]       [,5]       [,6]       \n",
       " [1,]  1.262954285  0.7635935 -0.22426789 -0.2357066  1.7579031  0.26613736\n",
       " [2,] -0.326233361 -0.7990092  0.37739565 -0.5428883  0.5607461 -0.37670272\n",
       " [3,]  1.329799263 -1.1476570  0.13333636 -0.4333103 -0.4527840  2.44136463\n",
       " [4,]  1.272429321 -0.2894616  0.80418951 -0.6494716 -0.8320433 -0.79533912\n",
       " [5,]  0.414641434 -0.2992151 -0.05710677  0.7267507 -1.1665705 -0.05487747\n",
       " [6,] -1.539950042 -0.4115108  0.50360797  1.1519118 -1.0655906  0.25014132\n",
       " [7,] -0.928567035  0.2522234  1.08576936  0.9921604 -1.5637821  0.61824329\n",
       " [8,] -0.294720447 -0.8919211 -0.69095384 -0.4295131  1.1565370 -0.17262350\n",
       " [9,] -0.005767173  0.4356833 -1.28459935  1.2383041  0.8320471 -2.22390027\n",
       "[10,]  2.404653389 -1.2375384  0.04672617 -0.2793463 -0.2273287 -1.26361438\n",
       "      [,7]        [,8]        [,9]       [,10]     \n",
       " [1,]  0.35872890  0.01915639 -0.7970895  2.2237678\n",
       " [2,] -0.01104548  0.25733838  1.2540831  1.4885958\n",
       " [3,] -0.94064916 -0.64901008  0.7721422  1.6491575\n",
       " [4,] -0.11582532 -0.11916876 -0.2195156  0.2208704\n",
       " [5,] -0.81496871  0.66413570 -0.4248103 -1.1767394\n",
       " [6,]  0.24226348  1.10096910 -0.4189801 -3.0245207\n",
       " [7,] -1.42509839  0.14377148  0.9969869 -1.4953622\n",
       " [8,]  0.36594112 -0.11775360 -0.2757780  0.5860385\n",
       " [9,]  0.24841265 -0.91206837  1.2560188  2.0822988\n",
       "[10,]  0.06528818 -1.43758624  0.6466744  2.8239991"
      ]
     },
     "metadata": {},
     "output_type": "display_data"
    }
   ],
   "source": [
    "coefficients <- c(1, 1, 1)\n",
    "selected_columns <- c(1, 5, 9)\n",
    "matrix <- cbind(matrix, matrix[, selected_columns] %*% coefficients)\n",
    "matrix"
   ]
  },
  {
   "cell_type": "code",
   "execution_count": 7,
   "metadata": {
    "vscode": {
     "languageId": "r"
    }
   },
   "outputs": [
    {
     "data": {
      "text/html": [
       "0"
      ],
      "text/latex": [
       "0"
      ],
      "text/markdown": [
       "0"
      ],
      "text/plain": [
       "[1] 0"
      ]
     },
     "metadata": {},
     "output_type": "display_data"
    }
   ],
   "source": [
    "det(matrix)"
   ]
  },
  {
   "cell_type": "code",
   "execution_count": 6,
   "metadata": {
    "vscode": {
     "languageId": "r"
    }
   },
   "outputs": [
    {
     "ename": "ERROR",
     "evalue": "Error in solve.default(matrix): Lapack routine dgesv: system is exactly singular: U[10,10] = 0\n",
     "output_type": "error",
     "traceback": [
      "Error in solve.default(matrix): Lapack routine dgesv: system is exactly singular: U[10,10] = 0\nTraceback:\n",
      "1. solve(matrix)",
      "2. solve.default(matrix)"
     ]
    }
   ],
   "source": [
    "solve(matrix)"
   ]
  },
  {
   "cell_type": "markdown",
   "metadata": {},
   "source": [
    "## Analyzing RCT data with precision adjustment"
   ]
  },
  {
   "cell_type": "code",
   "execution_count": null,
   "metadata": {
    "vscode": {
     "languageId": "r"
    }
   },
   "outputs": [],
   "source": []
  },
  {
   "cell_type": "markdown",
   "metadata": {},
   "source": [
    "## A crash course in good and bad controls (val)"
   ]
  },
  {
   "cell_type": "markdown",
   "metadata": {},
   "source": [
    "In this section, we will explore different scenarios where we need to decide whether the inclusion of a control variable, denoted by _Z_, will help (or not) to improve the estimation of the **average treatment effect** (ATE) of treatment _X_ on outcome _Y_. The effect of observed variables will be represented by a continuous line, while that of unobserved variables will be represented by and discontinuous line."
   ]
  },
  {
   "cell_type": "code",
   "execution_count": null,
   "metadata": {
    "vscode": {
     "languageId": "r"
    }
   },
   "outputs": [
    {
     "ename": "",
     "evalue": "",
     "output_type": "error",
     "traceback": [
      "\u001b[1;31mFailed to start the Kernel. \n",
      "\u001b[1;31mError in loadNamespace(j <- i[[1L]], c(lib.loc, .libPaths()), versionCheck = vI[[j]]) : \n",
      "\u001b[1;31m  there is no package called ‘htmltools’\n",
      "\u001b[1;31mCalls: :: ... loadNamespace -> withRestarts -> withOneRestart -> doWithOneRestart\n",
      "\u001b[1;31mExecution halted. \n",
      "\u001b[1;31mView Jupyter <a href='command:jupyter.viewOutput'>log</a> for further details."
     ]
    }
   ],
   "source": [
    "# install.packages(\"librarian\", quiet = T)\n",
    "# install.packages(\"ggdag\")\n",
    "librarian::shelf(\n",
    "    dagitty, tibble, stargazer, ggplot2, ggdag,\n",
    "    quiet = T\n",
    ")\n",
    "theme_set(theme_void())"
   ]
  },
  {
   "cell_type": "code",
   "execution_count": 3,
   "metadata": {
    "vscode": {
     "languageId": "r"
    }
   },
   "outputs": [],
   "source": [
    "# cleans workspace\n",
    "rm(list = ls()) "
   ]
  },
  {
   "cell_type": "markdown",
   "metadata": {},
   "source": [
    "#### Good control (Blocking back-door paths)"
   ]
  },
  {
   "cell_type": "markdown",
   "metadata": {},
   "source": [
    "**Model 1** \n",
    "\n",
    "We will assume that _X_ measures whether or not the student attends the extra tutoring session, that affects the student's grade (_Y_). Then, we have another observable variable, as hours of the student sleep (_Z_), that impacts _X_ and _Y_. Theory says that when controlling by _Z_, we block the back-door path from _X_ to _Y_. Thus, we see that in the second regression, the coefficient of _X_ is closer to the real one (2.923 ≈ 3)."
   ]
  },
  {
   "cell_type": "code",
   "execution_count": null,
   "metadata": {
    "vscode": {
     "languageId": "r"
    }
   },
   "outputs": [
    {
     "ename": "",
     "evalue": "",
     "output_type": "error",
     "traceback": [
      "\u001b[1;31mFailed to start the Kernel. \n",
      "\u001b[1;31mError in loadNamespace(j <- i[[1L]], c(lib.loc, .libPaths()), versionCheck = vI[[j]]) : \n",
      "\u001b[1;31m  there is no package called ‘htmltools’\n",
      "\u001b[1;31mCalls: :: ... loadNamespace -> withRestarts -> withOneRestart -> doWithOneRestart\n",
      "\u001b[1;31mExecution halted. \n",
      "\u001b[1;31mView Jupyter <a href='command:jupyter.viewOutput'>log</a> for further details."
     ]
    }
   ],
   "source": [
    "g <- dagitty(\"dag {\n",
    "    X <- Z -> Y\n",
    "    X -> Y\n",
    "    }\")\n",
    "coordinates(g) <- list(\n",
    "    x=c(X=1, Z=1.5, Y=2),\n",
    "    y=c(X=1, Z=0 ,Y=1))\n",
    "\n",
    "ggdag(g)"
   ]
  },
  {
   "cell_type": "code",
   "execution_count": 7,
   "metadata": {
    "vscode": {
     "languageId": "r"
    }
   },
   "outputs": [],
   "source": [
    "# Generate data\n",
    "set.seed(24)\n",
    "n <- 1000\n",
    "Z <- rnorm(n)\n",
    "X <- 5 * Z + rnorm(n)\n",
    "Y <- 3 * X + 1.5 * Z + rnorm(n)"
   ]
  },
  {
   "cell_type": "code",
   "execution_count": 8,
   "metadata": {
    "vscode": {
     "languageId": "r"
    }
   },
   "outputs": [
    {
     "ename": "ERROR",
     "evalue": "Error in tibble(X = X, Y = Y, Z = Z): could not find function \"tibble\"\n",
     "output_type": "error",
     "traceback": [
      "Error in tibble(X = X, Y = Y, Z = Z): could not find function \"tibble\"\nTraceback:\n"
     ]
    }
   ],
   "source": [
    "d <- tibble(X=X, Y=Y, Z=Z)\n",
    "\n",
    "# Regressions and summary results\n",
    "lm_1 <- lm(Y ~ X, d)\n",
    "lm_2 <- lm(Y ~ X + Z, d)\n",
    "stargazer(lm_1, lm_2, \n",
    "          type = \"text\", \n",
    "          column.labels = c(\"NoControl\", \"UsingControl\")\n",
    ")"
   ]
  },
  {
   "cell_type": "markdown",
   "metadata": {},
   "source": [
    "**Model 2** \n",
    "\n",
    "We will assume that _X_ stands for the police salaries that affect the crime rate (_Y_). Then, we have another observable variable, as the policemen's supply (_Z_), that impacts _X_ but not _Y_. And, additionally, we know that there is an unobservable variable (_U_), as the preference for maintaining civil order, that affects _Z_ and _Y_. The theory says that when controlling by _Z_, we block (some) of the unobservable variable’s back-door path from _X_ to _Y_. Thus, we see that in the second regression, the coefficient of _X_ is equal to the real one (0.5)."
   ]
  },
  {
   "cell_type": "code",
   "execution_count": null,
   "metadata": {
    "vscode": {
     "languageId": "r"
    }
   },
   "outputs": [],
   "source": [
    "g <- dagitty(\"dag {\n",
    "    X <- Z <- U -> Y\n",
    "    X -> Y\n",
    "}\")\n",
    "coordinates(g) <- list(\n",
    "    x=c(X=1, Z=2,U=3, Y=4),\n",
    "    y=c(X=2, Z=1, U=0, Y=2))\n",
    "\n",
    "ggdag(g)"
   ]
  },
  {
   "cell_type": "code",
   "execution_count": null,
   "metadata": {
    "vscode": {
     "languageId": "r"
    }
   },
   "outputs": [],
   "source": [
    "set.seed(24)\n",
    "n <- 1000   \n",
    "U <- rnorm(n)\n",
    "Z <- 7 * U + rnorm(n)\n",
    "X <- 2 * Z + rnorm(n)\n",
    "Y <- 0.5 * X + 0.2 * U + rnorm(n)\n",
    "\n",
    "# Create a dataframe\n",
    "d <- tibble(X=X, Y=Y, Z=Z, U=U)"
   ]
  },
  {
   "cell_type": "markdown",
   "metadata": {},
   "source": [
    "#### Bad Control (M-bias)"
   ]
  },
  {
   "cell_type": "markdown",
   "metadata": {},
   "source": [
    "**Model 7** \n",
    "\n",
    "Let us suppose that _X_ stands for a job training program aimed at reducing unemployment. Then, there is a first unobserved confounder, which could be the planning effort and good design of the job program (_U1_) that impacts directly on the participation in job training programs (_X_) and the proximity of job programs (that would be the bad control _Z_). Furthermore, we have another unobserved confounder (_U2_), as the soft skills of the unemployed, that affects the employment status of individuals (_Y_) and the likelihood of beeing in a job training program that is closer (_Z_). That is why including _Z_ in the second regression makes _X_ coefficient value further to the real one."
   ]
  },
  {
   "cell_type": "code",
   "execution_count": null,
   "metadata": {
    "vscode": {
     "languageId": "r"
    }
   },
   "outputs": [],
   "source": [
    "g <- dagitty(\"dag {\n",
    "    X <- U1 -> Z <- U2 -> Y\n",
    "    X -> Y\n",
    "    }\")\n",
    "coordinates(g) <- list(\n",
    "    x = c(X=1, U1=1, Z=2, U2=3, Y=3),\n",
    "    y = c(X=1, U1=0, Z=0, U2=0, Y=1))\n",
    "\n",
    "ggdag(g)"
   ]
  },
  {
   "cell_type": "code",
   "execution_count": null,
   "metadata": {
    "vscode": {
     "languageId": "r"
    }
   },
   "outputs": [],
   "source": [
    "set.seed(1)\n",
    "n <- 1000  \n",
    "U1 <- rnorm(n)\n",
    "U2 <- rnorm(n)\n",
    "Z <- 0.3 * U1 + 0.9 * U2 + rnorm(n)\n",
    "X <- 4 * U1 + rnorm(n)\n",
    "Y <- 3 * X + U2 + rnorm(n)\n",
    "\n",
    "# Create a dataframe\n",
    "d <- tibble(X=X, Y=Y, Z=Z, U1=U1, U2=U2)"
   ]
  },
  {
   "cell_type": "code",
   "execution_count": null,
   "metadata": {
    "vscode": {
     "languageId": "r"
    }
   },
   "outputs": [],
   "source": [
    "lm_1 <- lm(Y ~ X, d)\n",
    "lm_2 <- lm(Y ~ X + Z, d)\n",
    "stargazer(lm_1, lm_2, \n",
    "          type = \"text\", \n",
    "          column.labels = c(\"NoControl\", \"UsingControl\")\n",
    "          )"
   ]
  },
  {
   "cell_type": "markdown",
   "metadata": {},
   "source": [
    "#### Neutral Control (possibly good for precision)"
   ]
  },
  {
   "cell_type": "markdown",
   "metadata": {},
   "source": [
    "**Model 8** \n",
    "\n",
    "In this scenario, we will assume that _X_ represents the implementation of a new government policy to provide subsidies and guidance for small companies. There is another variable, _Z_, that stands for the % inflation rate. And both _X_ and _Z_ affect _Y_, which represents the GDP growth rate of the country. Then, even if _Z_ does not impact _X_, its inclusion improves the precision of the ATE estimator (8.523 is closer to 8.6)."
   ]
  },
  {
   "cell_type": "code",
   "execution_count": null,
   "metadata": {
    "vscode": {
     "languageId": "r"
    }
   },
   "outputs": [],
   "source": [
    "g <- dagitty(\"dag {X -> Y <-Z}\")\n",
    "coordinates(g) <- list(\n",
    "    x = c(X=1, Y=2, Z=3),\n",
    "    y = c(X=1, Y=1, Z=0))\n",
    "\n",
    "ggdag(g)"
   ]
  },
  {
   "cell_type": "code",
   "execution_count": null,
   "metadata": {
    "vscode": {
     "languageId": "r"
    }
   },
   "outputs": [],
   "source": [
    "set.seed(24)\n",
    "n <- 1000  \n",
    "Z <- rnorm(n)\n",
    "X <- rnorm(n)\n",
    "Y <- 8.6 * X + 5 * Z + rnorm(n)\n",
    "\n",
    "# Create a dataframe\n",
    "d <- tibble(X=X, Y=Y, Z=Z)"
   ]
  },
  {
   "cell_type": "code",
   "execution_count": null,
   "metadata": {
    "vscode": {
     "languageId": "r"
    }
   },
   "outputs": [],
   "source": [
    "lm_1 <- lm(Y ~ X, d)\n",
    "lm_2 <- lm(Y ~ X + Z, d)\n",
    "stargazer(lm_1, lm_2, \n",
    "          type = \"text\", \n",
    "          column.labels = c(\"NoControl\", \"UsingControl\"))"
   ]
  },
  {
   "cell_type": "markdown",
   "metadata": {},
   "source": [
    "#### Bad Controls (Bias amplification)"
   ]
  },
  {
   "cell_type": "markdown",
   "metadata": {},
   "source": [
    "**Model 10** \n",
    "\n",
    "Let us assume that _X_ measures the implementation of a housing program for young adults buying their first house, which impacts the average housing prices (_Y_). There is another observable variable, _Z_, that measures the expenditure of the program and affects only _X_. Also, there is an unobservable variable (_U_) that represents the preference of young adults to move from their parent's house and impacts only _X_ and _Y_. Therefore, the inclusion of _Z_ will \"amplify the bias\" of _U_ on _X_, so the ATE estimator will be worse. We can see that in the second regression, the estimator (0.835) is much farther from the real value (0.8)."
   ]
  },
  {
   "cell_type": "code",
   "execution_count": null,
   "metadata": {
    "vscode": {
     "languageId": "r"
    }
   },
   "outputs": [],
   "source": [
    "g <- dagitty(\"dag {\n",
    "    Z -> X <- U -> Y\n",
    "    X -> Y\n",
    "    }\")\n",
    "coordinates(g) <- list(\n",
    "    x = c(Z=0.5, X=1, U=1.5, Y=2),\n",
    "    y = c(Z=0, X=1, U=0.5, Y=1))\n",
    "\n",
    "ggdag(g)"
   ]
  },
  {
   "cell_type": "code",
   "execution_count": null,
   "metadata": {
    "vscode": {
     "languageId": "r"
    }
   },
   "outputs": [],
   "source": [
    "set.seed(24)\n",
    "n <- 1000  \n",
    "Z <- rnorm(n)\n",
    "U <- rnorm(n)\n",
    "X <- 3 * Z + 6 * U + rnorm(n)\n",
    "Y <- 0.8 * X + 0.2 * U + rnorm(n)\n",
    "\n",
    "# Create a dataframe\n",
    "d <- tibble(X=X, Y=Y, Z=Z, U=U)"
   ]
  },
  {
   "cell_type": "code",
   "execution_count": null,
   "metadata": {
    "vscode": {
     "languageId": "r"
    }
   },
   "outputs": [
    {
     "ename": "ERROR",
     "evalue": "Error in tibble(X = X, Y = Y, Z = Z): could not find function \"tibble\"\n",
     "output_type": "error",
     "traceback": [
      "Error in tibble(X = X, Y = Y, Z = Z): could not find function \"tibble\"\n",
      "Traceback:\n"
     ]
    }
   ],
   "source": [
    "d <- tibble(X=X, Y=Y, Z=Z)\n",
    "\n",
    "# Regressions and summary results\n",
    "lm_1 <- lm(Y ~ X, d)\n",
    "lm_2 <- lm(Y ~ X + Z, d)\n",
    "stargazer(lm_1, lm_2, \n",
    "          type = \"text\", \n",
    "          column.labels = c(\"NoControl\", \"UsingControl\"))"
   ]
  }
 ],
 "metadata": {
  "kernelspec": {
   "display_name": "R",
   "language": "R",
   "name": "ir"
  },
  "language_info": {
   "codemirror_mode": {
    "name": "ipython",
    "version": 3
   },
   "file_extension": ".py",
   "mimetype": "text/x-python",
   "name": "R",
   "nbconvert_exporter": "python",
   "pygments_lexer": "ipython3",
   "version": "3.8.2"
  }
 },
 "nbformat": 4,
 "nbformat_minor": 4
}
